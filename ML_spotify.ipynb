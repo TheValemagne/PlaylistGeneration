{
 "cells": [
  {
   "cell_type": "markdown",
   "metadata": {
    "id": "wcsE9uVTUBOM"
   },
   "source": [
    "# <span style=\"color:red\">Deep Learning Project: Music Playlist Generation based on Spotify Playlists</span>\n",
    "\n",
    "This project was realized by Alexandre Felix and Jérémy Houdé for the Deep Learning lesson in SoSe 2023. The goal of the project was to automatically generate playlists, based on the [Spotify Millon Playlist Dataset](https://www.aicrowd.com/challenges/spotify-million-playlist-dataset-challenge). With one or multiple songs, the method should be able to append new relevant songs to the initial playlist.\n",
    "\n",
    "## <span style=\"color:green\">Spotify Millon Playlist Dataset</span>\n",
    "\n",
    "The data is stored in a ZIP file, in which data are stored in multiple json slices. Each json file contains 1,000 playlists and are named as\n",
    "```\n",
    "mpd.slice.{start_playlist_ID}-{end_playlist_ID}.json\n",
    "```\n",
    "\n",
    "Stored data has following structure for each json slice:\n",
    "```json\n",
    "{\n",
    "    'info' { ... },\n",
    "    'playlists': {\n",
    "        \"name\": \"musical\",\n",
    "        \"collaborative\": \"false\",\n",
    "        \"pid\": 5,\n",
    "        \"modified_at\": 1493424000,\n",
    "        \"num_albums\": 7,\n",
    "        \"num_tracks\": 12,\n",
    "        \"num_followers\": 1,\n",
    "        \"num_edits\": 2,\n",
    "        \"duration_ms\": 2657366,\n",
    "        \"num_artists\": 6,\n",
    "        \"tracks\": [\n",
    "            {\n",
    "                \"pos\": 0,\n",
    "                \"artist_name\": \"Degiheugi\",\n",
    "                \"track_uri\": \"spotify:track:7vqa3sDmtEaVJ2gcvxtRID\",\n",
    "                \"artist_uri\": \"spotify:artist:3V2paBXEoZIAhfZRJmo2jL\",\n",
    "                \"track_name\": \"Finalement\",\n",
    "                \"album_uri\": \"spotify:album:2KrRMJ9z7Xjoz1Az4O6UML\",\n",
    "                \"duration_ms\": 166264,\n",
    "                \"album_name\": \"Dancing Chords and Fireflies\"\n",
    "            }\n",
    "    }\n",
    "}\n",
    "```\n",
    "\n",
    "We are interested by the stored tracks in each playlist and of course about the tracks.\n",
    "\n",
    "### Load data\n",
    "\n",
    "The unziped data weigth more than 40 GB. Because of RAM or vRAM limitations, we will only use a subset for our experiments. The selected subset will contains the first 20,000 playlists, contained in the first 20 files. We have firstly loaded with 200, 150 and 50 files, but it need either to much RAM or evaluating `get_next_song` tooks to much time: 5 days for 20% of 150.000 paylists and 14 hours for 20% of 50.000 playlists with playlists_max_len = 5.\n",
    "By extrating the data, we are only insteressed by the playlists values."
   ]
  },
  {
   "cell_type": "code",
   "execution_count": 1,
   "metadata": {
    "id": "RW-_nJC2sYAF"
   },
   "outputs": [],
   "source": [
    "import json\n",
    "import fnmatch\n",
    "from tqdm import tqdm # progression bar\n",
    "from zipfile import ZipFile\n",
    "\n",
    "def load_zip_data(zip_file: str, num_slices: int) -> list[dict]:\n",
    "    with ZipFile(zip_file) as zipfiles: # open ZIP file\n",
    "        file_list = zipfiles.namelist()\n",
    "\n",
    "        json_files = fnmatch.filter(file_list, \"*.json\")\n",
    "        json_files = [file for index,file in sorted([(int(filename.split('.')[2].split('-')[0]), filename) for filename in json_files])]\n",
    "        playlists: list[dict] = []\n",
    "\n",
    "        for filename in tqdm(json_files[:num_slices]): # for each json file\n",
    "            with zipfiles.open(filename) as json_file:\n",
    "                current_slice = json.loads(json_file.read())\n",
    "                playlists.extend(current_slice['playlists']) # add new playlists\n",
    "\n",
    "        return playlists"
   ]
  },
  {
   "cell_type": "markdown",
   "metadata": {
    "id": "OnYDBiWTaxGS"
   },
   "source": [
    "We will now extract the first 20,000 playlists and fit it into a pandas dataframe and keep folling data:\n",
    "```json\n",
    "{\n",
    "    'playlists': [\n",
    "        {\n",
    "            \"num_tracks\": 12,\n",
    "            \"duration_ms\": 2657366,\n",
    "            \"tracks\": [\n",
    "                {\n",
    "                    \"track_uri\": \"spotify:track:7vqa3sDmtEaVJ2gcvxtRID\",\n",
    "                    \"artist_uri\": \"spotify:artist:3V2paBXEoZIAhfZRJmo2jL\",\n",
    "                    \"album_uri\": \"spotify:album:2KrRMJ9z7Xjoz1Az4O6UML\",\n",
    "                    \"duration_ms\": 166264\n",
    "                }\n",
    "            ]\n",
    "        }\n",
    "    ]\n",
    "}\n",
    "```\n",
    "- We consider the link to the artist and album, and the song duration as importants data for each song.\n",
    "- Unfortunately, the genre wasn't stored in the initial database\n",
    "\n",
    "For this project following folders are required:\n",
    "- `./data`\n",
    "- `./models`\n",
    "\n",
    "Please place `spotify_million_playlist_dataset.zip` in the folder `./data` or adapt the cells"
   ]
  },
  {
   "cell_type": "code",
   "execution_count": 2,
   "metadata": {
    "colab": {
     "base_uri": "https://localhost:8080/",
     "height": 236
    },
    "id": "ZHTopxbQse5j",
    "outputId": "73a10b55-71bf-4799-dde3-7e7ccca94ff7"
   },
   "outputs": [
    {
     "name": "stderr",
     "output_type": "stream",
     "text": [
      "100%|██████████| 20/20 [00:07<00:00,  2.68it/s]\n"
     ]
    }
   ],
   "source": [
    "import pandas as pd\n",
    "\n",
    "zip_file = 'data/spotify_million_playlist_dataset.zip'\n",
    "playlists_dict = load_zip_data(zip_file, 20)\n",
    "\n",
    "playlists = pd.DataFrame(playlists_dict, columns = [\"tracks\", \"num_tracks\", \"duration_ms\"])"
   ]
  },
  {
   "cell_type": "markdown",
   "metadata": {
    "id": "7Eygcr1_bLI5"
   },
   "source": [
    "We remove now the unnecessary data in each track. We only keep as IDs the uris and we make the assuption that the duration is an important factor for the conception of a playlist."
   ]
  },
  {
   "cell_type": "code",
   "execution_count": 3,
   "metadata": {
    "colab": {
     "base_uri": "https://localhost:8080/",
     "height": 236
    },
    "id": "WBkwCGVKbEwP",
    "outputId": "af5d89a1-fa1f-4130-ef00-a41069b38a11"
   },
   "outputs": [],
   "source": [
    "# remove from tracks not needed information\n",
    "for tracks in playlists['tracks']:\n",
    "    for track in tracks:\n",
    "        del track['pos']\n",
    "        del track['artist_name']\n",
    "        del track['track_name']\n",
    "        del track['album_name']"
   ]
  },
  {
   "cell_type": "markdown",
   "metadata": {},
   "source": [
    "### 20,000 first playlists"
   ]
  },
  {
   "cell_type": "code",
   "execution_count": 4,
   "metadata": {
    "id": "-Ghnlv9qbJ9s"
   },
   "outputs": [
    {
     "data": {
      "text/html": [
       "<div>\n",
       "<style scoped>\n",
       "    .dataframe tbody tr th:only-of-type {\n",
       "        vertical-align: middle;\n",
       "    }\n",
       "\n",
       "    .dataframe tbody tr th {\n",
       "        vertical-align: top;\n",
       "    }\n",
       "\n",
       "    .dataframe thead th {\n",
       "        text-align: right;\n",
       "    }\n",
       "</style>\n",
       "<table border=\"1\" class=\"dataframe\">\n",
       "  <thead>\n",
       "    <tr style=\"text-align: right;\">\n",
       "      <th></th>\n",
       "      <th>tracks</th>\n",
       "      <th>num_tracks</th>\n",
       "      <th>duration_ms</th>\n",
       "    </tr>\n",
       "  </thead>\n",
       "  <tbody>\n",
       "    <tr>\n",
       "      <th>0</th>\n",
       "      <td>[{'track_uri': 'spotify:track:0UaMYEvWZi0ZqiDO...</td>\n",
       "      <td>52</td>\n",
       "      <td>11532414</td>\n",
       "    </tr>\n",
       "    <tr>\n",
       "      <th>1</th>\n",
       "      <td>[{'track_uri': 'spotify:track:2HHtWyy5CgaQbC7X...</td>\n",
       "      <td>39</td>\n",
       "      <td>11656470</td>\n",
       "    </tr>\n",
       "    <tr>\n",
       "      <th>2</th>\n",
       "      <td>[{'track_uri': 'spotify:track:74tqql9zP6JjF5hj...</td>\n",
       "      <td>64</td>\n",
       "      <td>14039958</td>\n",
       "    </tr>\n",
       "    <tr>\n",
       "      <th>3</th>\n",
       "      <td>[{'track_uri': 'spotify:track:4WJ7UMD4i6DOPzyX...</td>\n",
       "      <td>126</td>\n",
       "      <td>28926058</td>\n",
       "    </tr>\n",
       "    <tr>\n",
       "      <th>4</th>\n",
       "      <td>[{'track_uri': 'spotify:track:4iCGSi1RonREsPtf...</td>\n",
       "      <td>17</td>\n",
       "      <td>4335282</td>\n",
       "    </tr>\n",
       "    <tr>\n",
       "      <th>...</th>\n",
       "      <td>...</td>\n",
       "      <td>...</td>\n",
       "      <td>...</td>\n",
       "    </tr>\n",
       "    <tr>\n",
       "      <th>19995</th>\n",
       "      <td>[{'track_uri': 'spotify:track:64j3Bd62HTe0pclk...</td>\n",
       "      <td>18</td>\n",
       "      <td>4614171</td>\n",
       "    </tr>\n",
       "    <tr>\n",
       "      <th>19996</th>\n",
       "      <td>[{'track_uri': 'spotify:track:09OojFvtrM9YRzRj...</td>\n",
       "      <td>24</td>\n",
       "      <td>4675554</td>\n",
       "    </tr>\n",
       "    <tr>\n",
       "      <th>19997</th>\n",
       "      <td>[{'track_uri': 'spotify:track:4lNznSUjByH5zWpP...</td>\n",
       "      <td>106</td>\n",
       "      <td>28912970</td>\n",
       "    </tr>\n",
       "    <tr>\n",
       "      <th>19998</th>\n",
       "      <td>[{'track_uri': 'spotify:track:1yy2DlSDtEt90d54...</td>\n",
       "      <td>36</td>\n",
       "      <td>9374114</td>\n",
       "    </tr>\n",
       "    <tr>\n",
       "      <th>19999</th>\n",
       "      <td>[{'track_uri': 'spotify:track:6bFsQ6yOp3z5mGNk...</td>\n",
       "      <td>10</td>\n",
       "      <td>2285167</td>\n",
       "    </tr>\n",
       "  </tbody>\n",
       "</table>\n",
       "<p>20000 rows × 3 columns</p>\n",
       "</div>"
      ],
      "text/plain": [
       "                                                  tracks  num_tracks  \\\n",
       "0      [{'track_uri': 'spotify:track:0UaMYEvWZi0ZqiDO...          52   \n",
       "1      [{'track_uri': 'spotify:track:2HHtWyy5CgaQbC7X...          39   \n",
       "2      [{'track_uri': 'spotify:track:74tqql9zP6JjF5hj...          64   \n",
       "3      [{'track_uri': 'spotify:track:4WJ7UMD4i6DOPzyX...         126   \n",
       "4      [{'track_uri': 'spotify:track:4iCGSi1RonREsPtf...          17   \n",
       "...                                                  ...         ...   \n",
       "19995  [{'track_uri': 'spotify:track:64j3Bd62HTe0pclk...          18   \n",
       "19996  [{'track_uri': 'spotify:track:09OojFvtrM9YRzRj...          24   \n",
       "19997  [{'track_uri': 'spotify:track:4lNznSUjByH5zWpP...         106   \n",
       "19998  [{'track_uri': 'spotify:track:1yy2DlSDtEt90d54...          36   \n",
       "19999  [{'track_uri': 'spotify:track:6bFsQ6yOp3z5mGNk...          10   \n",
       "\n",
       "       duration_ms  \n",
       "0         11532414  \n",
       "1         11656470  \n",
       "2         14039958  \n",
       "3         28926058  \n",
       "4          4335282  \n",
       "...            ...  \n",
       "19995      4614171  \n",
       "19996      4675554  \n",
       "19997     28912970  \n",
       "19998      9374114  \n",
       "19999      2285167  \n",
       "\n",
       "[20000 rows x 3 columns]"
      ]
     },
     "execution_count": 4,
     "metadata": {},
     "output_type": "execute_result"
    }
   ],
   "source": [
    "playlists"
   ]
  },
  {
   "cell_type": "markdown",
   "metadata": {},
   "source": [
    "### Unique tracks\n",
    "\n",
    "We will store all tracks in a separate DataFrame. This will be usefull later for track embeddings and for the random base line method `get_next_random_song`."
   ]
  },
  {
   "cell_type": "code",
   "execution_count": 5,
   "metadata": {},
   "outputs": [
    {
     "data": {
      "text/html": [
       "<div>\n",
       "<style scoped>\n",
       "    .dataframe tbody tr th:only-of-type {\n",
       "        vertical-align: middle;\n",
       "    }\n",
       "\n",
       "    .dataframe tbody tr th {\n",
       "        vertical-align: top;\n",
       "    }\n",
       "\n",
       "    .dataframe thead th {\n",
       "        text-align: right;\n",
       "    }\n",
       "</style>\n",
       "<table border=\"1\" class=\"dataframe\">\n",
       "  <thead>\n",
       "    <tr style=\"text-align: right;\">\n",
       "      <th></th>\n",
       "      <th>track_uri</th>\n",
       "      <th>artist_uri</th>\n",
       "      <th>album_uri</th>\n",
       "      <th>duration_ms</th>\n",
       "    </tr>\n",
       "  </thead>\n",
       "  <tbody>\n",
       "    <tr>\n",
       "      <th>0</th>\n",
       "      <td>spotify:track:0UaMYEvWZi0ZqiDOoHU3YI</td>\n",
       "      <td>spotify:artist:2wIVse2owClT7go1WT98tk</td>\n",
       "      <td>spotify:album:6vV5UrXcfyQD1wu4Qo2I9K</td>\n",
       "      <td>226863</td>\n",
       "    </tr>\n",
       "    <tr>\n",
       "      <th>1</th>\n",
       "      <td>spotify:track:6I9VzXrHxO9rA9A5euc8Ak</td>\n",
       "      <td>spotify:artist:26dSoYclwsYLMAKD3tpOr4</td>\n",
       "      <td>spotify:album:0z7pVBGOD7HCIB7S8eLkLI</td>\n",
       "      <td>198800</td>\n",
       "    </tr>\n",
       "    <tr>\n",
       "      <th>2</th>\n",
       "      <td>spotify:track:0WqIKmW4BTrj3eJFmnCKMv</td>\n",
       "      <td>spotify:artist:6vWDO969PvNqNYHIOW5v0m</td>\n",
       "      <td>spotify:album:25hVFAxTlDvXbx2X2QkUkE</td>\n",
       "      <td>235933</td>\n",
       "    </tr>\n",
       "    <tr>\n",
       "      <th>3</th>\n",
       "      <td>spotify:track:1AWQoqb9bSvzTjaLralEkT</td>\n",
       "      <td>spotify:artist:31TPClRtHm23RisEBtV3X7</td>\n",
       "      <td>spotify:album:6QPkyl04rXwTGlGlcYaRoW</td>\n",
       "      <td>267266</td>\n",
       "    </tr>\n",
       "    <tr>\n",
       "      <th>4</th>\n",
       "      <td>spotify:track:1lzr43nnXAijIGYnCT8M8H</td>\n",
       "      <td>spotify:artist:5EvFsr3kj42KNv97ZEnqij</td>\n",
       "      <td>spotify:album:6NmFmPX56pcLBOFMhIiKvF</td>\n",
       "      <td>227600</td>\n",
       "    </tr>\n",
       "    <tr>\n",
       "      <th>...</th>\n",
       "      <td>...</td>\n",
       "      <td>...</td>\n",
       "      <td>...</td>\n",
       "      <td>...</td>\n",
       "    </tr>\n",
       "    <tr>\n",
       "      <th>263464</th>\n",
       "      <td>spotify:track:2MQ9NWMZfi0qPUhDR6sRCL</td>\n",
       "      <td>spotify:artist:278ZYwGhdK6QTzE3MFePnP</td>\n",
       "      <td>spotify:album:0kIXzVzbFuUf5kxM8US67m</td>\n",
       "      <td>297053</td>\n",
       "    </tr>\n",
       "    <tr>\n",
       "      <th>263465</th>\n",
       "      <td>spotify:track:4eOptezifAi7VpOoz9lu4r</td>\n",
       "      <td>spotify:artist:2ye2Wgw4gimLv2eAKyk1NB</td>\n",
       "      <td>spotify:album:6VeUJmkLCGWRiF8j6RrIEx</td>\n",
       "      <td>301293</td>\n",
       "    </tr>\n",
       "    <tr>\n",
       "      <th>263466</th>\n",
       "      <td>spotify:track:2FvIkVNVEmiAaasafDSWSV</td>\n",
       "      <td>spotify:artist:6PWU6JQvvYv5sz5FOODHg6</td>\n",
       "      <td>spotify:album:2rkBQR8GIeP8XlEYrp6DsM</td>\n",
       "      <td>250506</td>\n",
       "    </tr>\n",
       "    <tr>\n",
       "      <th>263467</th>\n",
       "      <td>spotify:track:48ifRcXHbUjc1moUjJcwhx</td>\n",
       "      <td>spotify:artist:6UfoTQXaV3DuqtDVjZIxwZ</td>\n",
       "      <td>spotify:album:1p5T4GozRHLUxtaLN46sLz</td>\n",
       "      <td>319760</td>\n",
       "    </tr>\n",
       "    <tr>\n",
       "      <th>263468</th>\n",
       "      <td>spotify:track:6D9NVW0lw9DWn1Mf7sTv3M</td>\n",
       "      <td>spotify:artist:4sv6VJ2QZlaSosz3kFlxQH</td>\n",
       "      <td>spotify:album:6kbLrubAR0s4q9y0TRUeM6</td>\n",
       "      <td>231933</td>\n",
       "    </tr>\n",
       "  </tbody>\n",
       "</table>\n",
       "<p>263469 rows × 4 columns</p>\n",
       "</div>"
      ],
      "text/plain": [
       "                                   track_uri  \\\n",
       "0       spotify:track:0UaMYEvWZi0ZqiDOoHU3YI   \n",
       "1       spotify:track:6I9VzXrHxO9rA9A5euc8Ak   \n",
       "2       spotify:track:0WqIKmW4BTrj3eJFmnCKMv   \n",
       "3       spotify:track:1AWQoqb9bSvzTjaLralEkT   \n",
       "4       spotify:track:1lzr43nnXAijIGYnCT8M8H   \n",
       "...                                      ...   \n",
       "263464  spotify:track:2MQ9NWMZfi0qPUhDR6sRCL   \n",
       "263465  spotify:track:4eOptezifAi7VpOoz9lu4r   \n",
       "263466  spotify:track:2FvIkVNVEmiAaasafDSWSV   \n",
       "263467  spotify:track:48ifRcXHbUjc1moUjJcwhx   \n",
       "263468  spotify:track:6D9NVW0lw9DWn1Mf7sTv3M   \n",
       "\n",
       "                                   artist_uri  \\\n",
       "0       spotify:artist:2wIVse2owClT7go1WT98tk   \n",
       "1       spotify:artist:26dSoYclwsYLMAKD3tpOr4   \n",
       "2       spotify:artist:6vWDO969PvNqNYHIOW5v0m   \n",
       "3       spotify:artist:31TPClRtHm23RisEBtV3X7   \n",
       "4       spotify:artist:5EvFsr3kj42KNv97ZEnqij   \n",
       "...                                       ...   \n",
       "263464  spotify:artist:278ZYwGhdK6QTzE3MFePnP   \n",
       "263465  spotify:artist:2ye2Wgw4gimLv2eAKyk1NB   \n",
       "263466  spotify:artist:6PWU6JQvvYv5sz5FOODHg6   \n",
       "263467  spotify:artist:6UfoTQXaV3DuqtDVjZIxwZ   \n",
       "263468  spotify:artist:4sv6VJ2QZlaSosz3kFlxQH   \n",
       "\n",
       "                                   album_uri  duration_ms  \n",
       "0       spotify:album:6vV5UrXcfyQD1wu4Qo2I9K       226863  \n",
       "1       spotify:album:0z7pVBGOD7HCIB7S8eLkLI       198800  \n",
       "2       spotify:album:25hVFAxTlDvXbx2X2QkUkE       235933  \n",
       "3       spotify:album:6QPkyl04rXwTGlGlcYaRoW       267266  \n",
       "4       spotify:album:6NmFmPX56pcLBOFMhIiKvF       227600  \n",
       "...                                      ...          ...  \n",
       "263464  spotify:album:0kIXzVzbFuUf5kxM8US67m       297053  \n",
       "263465  spotify:album:6VeUJmkLCGWRiF8j6RrIEx       301293  \n",
       "263466  spotify:album:2rkBQR8GIeP8XlEYrp6DsM       250506  \n",
       "263467  spotify:album:1p5T4GozRHLUxtaLN46sLz       319760  \n",
       "263468  spotify:album:6kbLrubAR0s4q9y0TRUeM6       231933  \n",
       "\n",
       "[263469 rows x 4 columns]"
      ]
     },
     "execution_count": 5,
     "metadata": {},
     "output_type": "execute_result"
    }
   ],
   "source": [
    "tracks = pd.json_normalize(playlists_dict, record_path=['tracks'])\n",
    "tracks.drop_duplicates(inplace=True, ignore_index=True)\n",
    "\n",
    "# free RAM\n",
    "del playlists_dict\n",
    "\n",
    "tracks"
   ]
  },
  {
   "cell_type": "markdown",
   "metadata": {},
   "source": [
    "Check if duplicates are removed:"
   ]
  },
  {
   "cell_type": "code",
   "execution_count": 6,
   "metadata": {},
   "outputs": [
    {
     "data": {
      "text/html": [
       "<div>\n",
       "<style scoped>\n",
       "    .dataframe tbody tr th:only-of-type {\n",
       "        vertical-align: middle;\n",
       "    }\n",
       "\n",
       "    .dataframe tbody tr th {\n",
       "        vertical-align: top;\n",
       "    }\n",
       "\n",
       "    .dataframe thead th {\n",
       "        text-align: right;\n",
       "    }\n",
       "</style>\n",
       "<table border=\"1\" class=\"dataframe\">\n",
       "  <thead>\n",
       "    <tr style=\"text-align: right;\">\n",
       "      <th></th>\n",
       "      <th>track_uri</th>\n",
       "      <th>artist_uri</th>\n",
       "      <th>album_uri</th>\n",
       "      <th>duration_ms</th>\n",
       "    </tr>\n",
       "  </thead>\n",
       "  <tbody>\n",
       "    <tr>\n",
       "      <th>40</th>\n",
       "      <td>spotify:track:2jFlMILIQzs7lSFudG9lbo</td>\n",
       "      <td>spotify:artist:6wPhSqRtPu1UhRCDX5yaDJ</td>\n",
       "      <td>spotify:album:0ylxpXE00fVxh6d60tevT8</td>\n",
       "      <td>229360</td>\n",
       "    </tr>\n",
       "  </tbody>\n",
       "</table>\n",
       "</div>"
      ],
      "text/plain": [
       "                               track_uri  \\\n",
       "40  spotify:track:2jFlMILIQzs7lSFudG9lbo   \n",
       "\n",
       "                               artist_uri  \\\n",
       "40  spotify:artist:6wPhSqRtPu1UhRCDX5yaDJ   \n",
       "\n",
       "                               album_uri  duration_ms  \n",
       "40  spotify:album:0ylxpXE00fVxh6d60tevT8       229360  "
      ]
     },
     "execution_count": 6,
     "metadata": {},
     "output_type": "execute_result"
    }
   ],
   "source": [
    "song = tracks.loc[tracks['track_uri'] == 'spotify:track:2jFlMILIQzs7lSFudG9lbo']\n",
    "song"
   ]
  },
  {
   "cell_type": "markdown",
   "metadata": {},
   "source": [
    "### Save or reload data"
   ]
  },
  {
   "cell_type": "code",
   "execution_count": 1,
   "metadata": {},
   "outputs": [],
   "source": [
    "# exec on every opening\n",
    "tracks_filename = 'data/tracks.json'\n",
    "playlists_filename = 'data/playlists.json'"
   ]
  },
  {
   "cell_type": "markdown",
   "metadata": {},
   "source": [
    "Save data as json files:"
   ]
  },
  {
   "cell_type": "code",
   "execution_count": 8,
   "metadata": {},
   "outputs": [],
   "source": [
    "playlists.to_json(playlists_filename)\n",
    "tracks.to_json(tracks_filename)"
   ]
  },
  {
   "cell_type": "markdown",
   "metadata": {},
   "source": [
    "When needed, reload processed tracks and playlists from json files:"
   ]
  },
  {
   "cell_type": "code",
   "execution_count": 2,
   "metadata": {},
   "outputs": [],
   "source": [
    "# exec on every opening\n",
    "import pandas as pd\n",
    "\n",
    "tracks = pd.read_json(tracks_filename)\n",
    "playlists = pd.read_json(playlists_filename)"
   ]
  },
  {
   "cell_type": "markdown",
   "metadata": {},
   "source": [
    "## <span style=\"color:green\">Defining baseline methods</span>\n",
    "\n",
    "before looking to the architecture of the neural network, we will first define a baseline methods to compare against.\n",
    "This method should get as an input k songs or tracks with the selected data and add a new song, that could work with.\n",
    "\n",
    "We will here test both methods on some playlist and analyse the result. [We will later evaluated both baseline methods with the neural network by using k-gramm and analysing the playlist generation as a binary problem]\n",
    "\n",
    "### Random baseline\n",
    "\n",
    "the random baseline takes one random song from the tracks list:"
   ]
  },
  {
   "cell_type": "code",
   "execution_count": 3,
   "metadata": {},
   "outputs": [],
   "source": [
    "# exec on every opening\n",
    "\n",
    "def get_random_next_song(song_uris: list[str]) -> str:\n",
    "    \"\"\"return a random song\"\"\"\n",
    "    next_song = tracks['track_uri'].sample().iloc[0]\n",
    "\n",
    "    while next_song in song_uris:\n",
    "        next_song = tracks['track_uri'].sample().iloc[0]\n",
    "\n",
    "    return next_song"
   ]
  },
  {
   "cell_type": "markdown",
   "metadata": {},
   "source": [
    "We execute the method with the first 3 tracks from the first playlist:"
   ]
  },
  {
   "cell_type": "code",
   "execution_count": 4,
   "metadata": {},
   "outputs": [
    {
     "name": "stdout",
     "output_type": "stream",
     "text": [
      "initial playlist: ['spotify:track:0UaMYEvWZi0ZqiDOoHU3YI', 'spotify:track:6I9VzXrHxO9rA9A5euc8Ak', 'spotify:track:0WqIKmW4BTrj3eJFmnCKMv']\n",
      "New playlist: ['spotify:track:0UaMYEvWZi0ZqiDOoHU3YI', 'spotify:track:6I9VzXrHxO9rA9A5euc8Ak', 'spotify:track:0WqIKmW4BTrj3eJFmnCKMv', 'spotify:track:4ZAOTRpT8PKmnpfECUtKHI', 'spotify:track:5d6xr6ln26VdGe9GoT1GPW', 'spotify:track:1Fn7ZkiZAz2Yh0uTahUeyb', 'spotify:track:1pnUEI177HTQ1P36gnz6pr', 'spotify:track:1hw1XMrddkl3kQKNh6S061']\n"
     ]
    }
   ],
   "source": [
    "## URIs of the first 3 songs from playlist 1:\n",
    "song_uris = [song['track_uri'] for song in playlists.iloc[0]['tracks'][:3]]\n",
    "num_songs = 5\n",
    "\n",
    "print(f'initial playlist: {song_uris}')\n",
    "for i in range(num_songs):\n",
    "    new_song = get_random_next_song(song_uris)\n",
    "    song_uris.append(new_song)\n",
    "\n",
    "print(f'New playlist: {song_uris}')"
   ]
  },
  {
   "cell_type": "code",
   "execution_count": 5,
   "metadata": {},
   "outputs": [
    {
     "data": {
      "text/html": [
       "<div>\n",
       "<style scoped>\n",
       "    .dataframe tbody tr th:only-of-type {\n",
       "        vertical-align: middle;\n",
       "    }\n",
       "\n",
       "    .dataframe tbody tr th {\n",
       "        vertical-align: top;\n",
       "    }\n",
       "\n",
       "    .dataframe thead th {\n",
       "        text-align: right;\n",
       "    }\n",
       "</style>\n",
       "<table border=\"1\" class=\"dataframe\">\n",
       "  <thead>\n",
       "    <tr style=\"text-align: right;\">\n",
       "      <th></th>\n",
       "      <th>track_uri</th>\n",
       "      <th>artist_uri</th>\n",
       "      <th>album_uri</th>\n",
       "      <th>duration_ms</th>\n",
       "    </tr>\n",
       "  </thead>\n",
       "  <tbody>\n",
       "    <tr>\n",
       "      <th>0</th>\n",
       "      <td>spotify:track:0UaMYEvWZi0ZqiDOoHU3YI</td>\n",
       "      <td>spotify:artist:2wIVse2owClT7go1WT98tk</td>\n",
       "      <td>spotify:album:6vV5UrXcfyQD1wu4Qo2I9K</td>\n",
       "      <td>226863</td>\n",
       "    </tr>\n",
       "    <tr>\n",
       "      <th>1</th>\n",
       "      <td>spotify:track:6I9VzXrHxO9rA9A5euc8Ak</td>\n",
       "      <td>spotify:artist:26dSoYclwsYLMAKD3tpOr4</td>\n",
       "      <td>spotify:album:0z7pVBGOD7HCIB7S8eLkLI</td>\n",
       "      <td>198800</td>\n",
       "    </tr>\n",
       "    <tr>\n",
       "      <th>2</th>\n",
       "      <td>spotify:track:0WqIKmW4BTrj3eJFmnCKMv</td>\n",
       "      <td>spotify:artist:6vWDO969PvNqNYHIOW5v0m</td>\n",
       "      <td>spotify:album:25hVFAxTlDvXbx2X2QkUkE</td>\n",
       "      <td>235933</td>\n",
       "    </tr>\n",
       "    <tr>\n",
       "      <th>27624</th>\n",
       "      <td>spotify:track:4ZAOTRpT8PKmnpfECUtKHI</td>\n",
       "      <td>spotify:artist:4AGwPDdh1y8hochNzHy5HC</td>\n",
       "      <td>spotify:album:32MHZbkOvC4WKQnYQSivvA</td>\n",
       "      <td>228733</td>\n",
       "    </tr>\n",
       "    <tr>\n",
       "      <th>135772</th>\n",
       "      <td>spotify:track:5d6xr6ln26VdGe9GoT1GPW</td>\n",
       "      <td>spotify:artist:1zxOrBQ8znO6qNSdVXNYJY</td>\n",
       "      <td>spotify:album:0yhF6EwZ94pF5G8ZTIHMFJ</td>\n",
       "      <td>271743</td>\n",
       "    </tr>\n",
       "    <tr>\n",
       "      <th>175708</th>\n",
       "      <td>spotify:track:1pnUEI177HTQ1P36gnz6pr</td>\n",
       "      <td>spotify:artist:4UOlRVifrFdQHW9qu5ep8t</td>\n",
       "      <td>spotify:album:5Z6pmuZY9xZuRv8CxcwQtL</td>\n",
       "      <td>186706</td>\n",
       "    </tr>\n",
       "    <tr>\n",
       "      <th>206708</th>\n",
       "      <td>spotify:track:1hw1XMrddkl3kQKNh6S061</td>\n",
       "      <td>spotify:artist:3zxKH0qp3nBCuPZCZT5Vaf</td>\n",
       "      <td>spotify:album:4BvXcFvnn5KZNhClQXLoEg</td>\n",
       "      <td>193925</td>\n",
       "    </tr>\n",
       "    <tr>\n",
       "      <th>259904</th>\n",
       "      <td>spotify:track:1Fn7ZkiZAz2Yh0uTahUeyb</td>\n",
       "      <td>spotify:artist:4LtIfuFeAamus9OOItuWDD</td>\n",
       "      <td>spotify:album:39ExwLK5hgJ6W2R43JC6su</td>\n",
       "      <td>301586</td>\n",
       "    </tr>\n",
       "  </tbody>\n",
       "</table>\n",
       "</div>"
      ],
      "text/plain": [
       "                                   track_uri  \\\n",
       "0       spotify:track:0UaMYEvWZi0ZqiDOoHU3YI   \n",
       "1       spotify:track:6I9VzXrHxO9rA9A5euc8Ak   \n",
       "2       spotify:track:0WqIKmW4BTrj3eJFmnCKMv   \n",
       "27624   spotify:track:4ZAOTRpT8PKmnpfECUtKHI   \n",
       "135772  spotify:track:5d6xr6ln26VdGe9GoT1GPW   \n",
       "175708  spotify:track:1pnUEI177HTQ1P36gnz6pr   \n",
       "206708  spotify:track:1hw1XMrddkl3kQKNh6S061   \n",
       "259904  spotify:track:1Fn7ZkiZAz2Yh0uTahUeyb   \n",
       "\n",
       "                                   artist_uri  \\\n",
       "0       spotify:artist:2wIVse2owClT7go1WT98tk   \n",
       "1       spotify:artist:26dSoYclwsYLMAKD3tpOr4   \n",
       "2       spotify:artist:6vWDO969PvNqNYHIOW5v0m   \n",
       "27624   spotify:artist:4AGwPDdh1y8hochNzHy5HC   \n",
       "135772  spotify:artist:1zxOrBQ8znO6qNSdVXNYJY   \n",
       "175708  spotify:artist:4UOlRVifrFdQHW9qu5ep8t   \n",
       "206708  spotify:artist:3zxKH0qp3nBCuPZCZT5Vaf   \n",
       "259904  spotify:artist:4LtIfuFeAamus9OOItuWDD   \n",
       "\n",
       "                                   album_uri  duration_ms  \n",
       "0       spotify:album:6vV5UrXcfyQD1wu4Qo2I9K       226863  \n",
       "1       spotify:album:0z7pVBGOD7HCIB7S8eLkLI       198800  \n",
       "2       spotify:album:25hVFAxTlDvXbx2X2QkUkE       235933  \n",
       "27624   spotify:album:32MHZbkOvC4WKQnYQSivvA       228733  \n",
       "135772  spotify:album:0yhF6EwZ94pF5G8ZTIHMFJ       271743  \n",
       "175708  spotify:album:5Z6pmuZY9xZuRv8CxcwQtL       186706  \n",
       "206708  spotify:album:4BvXcFvnn5KZNhClQXLoEg       193925  \n",
       "259904  spotify:album:39ExwLK5hgJ6W2R43JC6su       301586  "
      ]
     },
     "execution_count": 5,
     "metadata": {},
     "output_type": "execute_result"
    }
   ],
   "source": [
    "tracks[tracks['track_uri'].isin(song_uris)]"
   ]
  },
  {
   "cell_type": "code",
   "execution_count": 6,
   "metadata": {},
   "outputs": [
    {
     "data": {
      "text/plain": [
       "[(0, 'spotify:track:0UaMYEvWZi0ZqiDOoHU3YI'),\n",
       " (1, 'spotify:track:6I9VzXrHxO9rA9A5euc8Ak'),\n",
       " (2, 'spotify:track:0WqIKmW4BTrj3eJFmnCKMv')]"
      ]
     },
     "execution_count": 6,
     "metadata": {},
     "output_type": "execute_result"
    }
   ],
   "source": [
    "playlist = [(index, song['track_uri']) for (index, song) in enumerate(playlists.iloc[0]['tracks'])]\n",
    "list(filter(lambda item: item[1] in song_uris, playlist)) # songs in playlist 1 and in generated playlist"
   ]
  },
  {
   "cell_type": "markdown",
   "metadata": {},
   "source": [
    "This method is fast, but we don't expect a song that maches perfectly. These songs possibely not occur in a playlist together like here and there are not necessary similarities together.\n",
    "\n",
    "### Get next song based on the previous k songs\n",
    "\n",
    "This method will analyse every playlist and find a song that mostly occurs with the k previous songs. In this method the order matters and only songs placed after the input songs will be retourned. Moreover, The order of input songs also matters, that's why it could be possible that this method may sometimes not return or find a next song.\n",
    "\n",
    "This method is far slower than the first one, but we expect that its only return relevant songs, when they exist. We tried to improve the readibility with apply and map to filter the relevant playlists, but the optimized version was 2 times slower than this one."
   ]
  },
  {
   "cell_type": "code",
   "execution_count": 86,
   "metadata": {},
   "outputs": [],
   "source": [
    "# exec on every opening\n",
    "import pandas as pd\n",
    "\n",
    "def get_next_song(song_uris: list[str]) -> str | None:\n",
    "    \"\"\"select the song that appears in together in the largest number of playlists with the previous songs.\"\"\"\n",
    "    song_occurrences: dict[str, int] = {}\n",
    "        \n",
    "    for tracks in playlists['tracks']:\n",
    "        track_uris = [track['track_uri'] for track in tracks]\n",
    "        \n",
    "        if not all(song in track_uris for song in song_uris): # check if every songs are contained\n",
    "            continue\n",
    "            \n",
    "        songs_count = 0\n",
    "        \n",
    "        for track_uri in track_uris:\n",
    "            if (songs_count < len(song_uris) and\n",
    "                track_uri == song_uris[songs_count]):\n",
    "                songs_count += 1\n",
    "                continue\n",
    "            if songs_count < len(song_uris) or track_uri in song_uris:\n",
    "                continue\n",
    "            \n",
    "            # current track_uri is not in song_uris and occurs after the k previous songs\n",
    "            if track_uri in song_occurrences.keys():\n",
    "                song_occurrences[track_uri] += 1\n",
    "            else:\n",
    "                song_occurrences[track_uri] = 1\n",
    "    next_songs = [ track_uri for (track_uri, _n) in sorted(song_occurrences.items(), key=lambda x:x[1], reverse=True)] # sort by playlist count desc\n",
    "    \n",
    "    return next_songs[0] if len(next_songs) > 0 else None # could not found a next song\n",
    "\n",
    "# method to analyse the occurences of a particular song in the playlists\n",
    "def song_occurrence(song_uri: str, playlists: pd.DataFrame) -> int:\n",
    "    \"\"\"Return occurrence of one song in the playlists\"\"\"\n",
    "    song_occurrence = 0\n",
    "        \n",
    "    for tracks in playlists['tracks']:\n",
    "        track_uris = [track['track_uri'] for track in tracks]\n",
    "        \n",
    "        if song_uri in track_uris : # check if every songs are contained\n",
    "            song_occurrence += 1\n",
    "    \n",
    "    return song_occurrence"
   ]
  },
  {
   "cell_type": "markdown",
   "metadata": {},
   "source": [
    "#### Test with the first 3 songs of the first two playlists:\n",
    "\n",
    "We will now test our method with the first 3 songs from the two first playlists. We will after that check if they are from the same album, artist or contained in that order in the complete playlist."
   ]
  },
  {
   "cell_type": "code",
   "execution_count": 65,
   "metadata": {},
   "outputs": [
    {
     "name": "stdout",
     "output_type": "stream",
     "text": [
      "initial playlist: ['spotify:track:0UaMYEvWZi0ZqiDOoHU3YI', 'spotify:track:6I9VzXrHxO9rA9A5euc8Ak', 'spotify:track:0WqIKmW4BTrj3eJFmnCKMv']\n",
      "New playlist: ['spotify:track:0UaMYEvWZi0ZqiDOoHU3YI', 'spotify:track:6I9VzXrHxO9rA9A5euc8Ak', 'spotify:track:0WqIKmW4BTrj3eJFmnCKMv', 'spotify:track:2gam98EZKrF9XuOkU13ApN', 'spotify:track:0uqPG793dkDDN7sCUJJIVC', 'spotify:track:6GIrIt2M39wEGwjCQjGChX', 'spotify:track:4E5P1XyAFtrjpiIxkydly4', 'spotify:track:3H1LCvO3fVsK2HPguhbml0']\n"
     ]
    }
   ],
   "source": [
    "## URIs of the first 3 songs from playlist 1:\n",
    "song_uris = [song['track_uri'] for song in playlists.iloc[0]['tracks'][:3]]\n",
    "num_songs = 5\n",
    "\n",
    "print(f'initial playlist: {song_uris}')\n",
    "for i in range(num_songs):\n",
    "    new_song = get_next_song(song_uris)\n",
    "    \n",
    "    if new_song:\n",
    "        song_uris.append(new_song)\n",
    "\n",
    "print(f'New playlist: {song_uris}')"
   ]
  },
  {
   "cell_type": "code",
   "execution_count": 66,
   "metadata": {},
   "outputs": [
    {
     "data": {
      "text/html": [
       "<div>\n",
       "<style scoped>\n",
       "    .dataframe tbody tr th:only-of-type {\n",
       "        vertical-align: middle;\n",
       "    }\n",
       "\n",
       "    .dataframe tbody tr th {\n",
       "        vertical-align: top;\n",
       "    }\n",
       "\n",
       "    .dataframe thead th {\n",
       "        text-align: right;\n",
       "    }\n",
       "</style>\n",
       "<table border=\"1\" class=\"dataframe\">\n",
       "  <thead>\n",
       "    <tr style=\"text-align: right;\">\n",
       "      <th></th>\n",
       "      <th>track_uri</th>\n",
       "      <th>artist_uri</th>\n",
       "      <th>album_uri</th>\n",
       "      <th>duration_ms</th>\n",
       "    </tr>\n",
       "  </thead>\n",
       "  <tbody>\n",
       "    <tr>\n",
       "      <th>0</th>\n",
       "      <td>spotify:track:0UaMYEvWZi0ZqiDOoHU3YI</td>\n",
       "      <td>spotify:artist:2wIVse2owClT7go1WT98tk</td>\n",
       "      <td>spotify:album:6vV5UrXcfyQD1wu4Qo2I9K</td>\n",
       "      <td>226863</td>\n",
       "    </tr>\n",
       "    <tr>\n",
       "      <th>1</th>\n",
       "      <td>spotify:track:6I9VzXrHxO9rA9A5euc8Ak</td>\n",
       "      <td>spotify:artist:26dSoYclwsYLMAKD3tpOr4</td>\n",
       "      <td>spotify:album:0z7pVBGOD7HCIB7S8eLkLI</td>\n",
       "      <td>198800</td>\n",
       "    </tr>\n",
       "    <tr>\n",
       "      <th>2</th>\n",
       "      <td>spotify:track:0WqIKmW4BTrj3eJFmnCKMv</td>\n",
       "      <td>spotify:artist:6vWDO969PvNqNYHIOW5v0m</td>\n",
       "      <td>spotify:album:25hVFAxTlDvXbx2X2QkUkE</td>\n",
       "      <td>235933</td>\n",
       "    </tr>\n",
       "    <tr>\n",
       "      <th>10</th>\n",
       "      <td>spotify:track:2gam98EZKrF9XuOkU13ApN</td>\n",
       "      <td>spotify:artist:2jw70GZXlAI8QzWeY2bgRc</td>\n",
       "      <td>spotify:album:2yboV2QBcVGEhcRlYuPpDT</td>\n",
       "      <td>242293</td>\n",
       "    </tr>\n",
       "    <tr>\n",
       "      <th>21</th>\n",
       "      <td>spotify:track:0uqPG793dkDDN7sCUJJIVC</td>\n",
       "      <td>spotify:artist:1yxSLGMDHlW21z4YXirZDS</td>\n",
       "      <td>spotify:album:1bNyYpkDRovmErm4QeDrpJ</td>\n",
       "      <td>272533</td>\n",
       "    </tr>\n",
       "    <tr>\n",
       "      <th>31</th>\n",
       "      <td>spotify:track:6GIrIt2M39wEGwjCQjGChX</td>\n",
       "      <td>spotify:artist:0vWCyXMrrvMlCcepuOJaGI</td>\n",
       "      <td>spotify:album:4WqgusSAgXkrjbXzqdBY68</td>\n",
       "      <td>206520</td>\n",
       "    </tr>\n",
       "    <tr>\n",
       "      <th>32</th>\n",
       "      <td>spotify:track:4E5P1XyAFtrjpiIxkydly4</td>\n",
       "      <td>spotify:artist:5tKXB9uuebKE34yowVaU3C</td>\n",
       "      <td>spotify:album:44hyrGuZKAvITbmrlhryf8</td>\n",
       "      <td>182306</td>\n",
       "    </tr>\n",
       "    <tr>\n",
       "      <th>33</th>\n",
       "      <td>spotify:track:3H1LCvO3fVsK2HPguhbml0</td>\n",
       "      <td>spotify:artist:7bXgB6jMjp9ATFy66eO08Z</td>\n",
       "      <td>spotify:album:1UtE4zAlSE2TlKmTFgrTg5</td>\n",
       "      <td>277106</td>\n",
       "    </tr>\n",
       "  </tbody>\n",
       "</table>\n",
       "</div>"
      ],
      "text/plain": [
       "                               track_uri  \\\n",
       "0   spotify:track:0UaMYEvWZi0ZqiDOoHU3YI   \n",
       "1   spotify:track:6I9VzXrHxO9rA9A5euc8Ak   \n",
       "2   spotify:track:0WqIKmW4BTrj3eJFmnCKMv   \n",
       "10  spotify:track:2gam98EZKrF9XuOkU13ApN   \n",
       "21  spotify:track:0uqPG793dkDDN7sCUJJIVC   \n",
       "31  spotify:track:6GIrIt2M39wEGwjCQjGChX   \n",
       "32  spotify:track:4E5P1XyAFtrjpiIxkydly4   \n",
       "33  spotify:track:3H1LCvO3fVsK2HPguhbml0   \n",
       "\n",
       "                               artist_uri  \\\n",
       "0   spotify:artist:2wIVse2owClT7go1WT98tk   \n",
       "1   spotify:artist:26dSoYclwsYLMAKD3tpOr4   \n",
       "2   spotify:artist:6vWDO969PvNqNYHIOW5v0m   \n",
       "10  spotify:artist:2jw70GZXlAI8QzWeY2bgRc   \n",
       "21  spotify:artist:1yxSLGMDHlW21z4YXirZDS   \n",
       "31  spotify:artist:0vWCyXMrrvMlCcepuOJaGI   \n",
       "32  spotify:artist:5tKXB9uuebKE34yowVaU3C   \n",
       "33  spotify:artist:7bXgB6jMjp9ATFy66eO08Z   \n",
       "\n",
       "                               album_uri  duration_ms  \n",
       "0   spotify:album:6vV5UrXcfyQD1wu4Qo2I9K       226863  \n",
       "1   spotify:album:0z7pVBGOD7HCIB7S8eLkLI       198800  \n",
       "2   spotify:album:25hVFAxTlDvXbx2X2QkUkE       235933  \n",
       "10  spotify:album:2yboV2QBcVGEhcRlYuPpDT       242293  \n",
       "21  spotify:album:1bNyYpkDRovmErm4QeDrpJ       272533  \n",
       "31  spotify:album:4WqgusSAgXkrjbXzqdBY68       206520  \n",
       "32  spotify:album:44hyrGuZKAvITbmrlhryf8       182306  \n",
       "33  spotify:album:1UtE4zAlSE2TlKmTFgrTg5       277106  "
      ]
     },
     "execution_count": 66,
     "metadata": {},
     "output_type": "execute_result"
    }
   ],
   "source": [
    "tracks[tracks['track_uri'].isin(song_uris)]"
   ]
  },
  {
   "cell_type": "code",
   "execution_count": 67,
   "metadata": {},
   "outputs": [
    {
     "data": {
      "text/plain": [
       "[(0, 'spotify:track:0UaMYEvWZi0ZqiDOoHU3YI'),\n",
       " (1, 'spotify:track:6I9VzXrHxO9rA9A5euc8Ak'),\n",
       " (2, 'spotify:track:0WqIKmW4BTrj3eJFmnCKMv'),\n",
       " (10, 'spotify:track:2gam98EZKrF9XuOkU13ApN'),\n",
       " (21, 'spotify:track:0uqPG793dkDDN7sCUJJIVC'),\n",
       " (31, 'spotify:track:6GIrIt2M39wEGwjCQjGChX'),\n",
       " (32, 'spotify:track:4E5P1XyAFtrjpiIxkydly4'),\n",
       " (33, 'spotify:track:3H1LCvO3fVsK2HPguhbml0'),\n",
       " (51, 'spotify:track:6GIrIt2M39wEGwjCQjGChX')]"
      ]
     },
     "execution_count": 67,
     "metadata": {},
     "output_type": "execute_result"
    }
   ],
   "source": [
    "playlist = [(index, song['track_uri']) for (index, song) in enumerate(playlists.iloc[0]['tracks'])]\n",
    "list(filter(lambda item: item[1] in song_uris, playlist))  # songs in playlist 1 and in generated playlist"
   ]
  },
  {
   "cell_type": "code",
   "execution_count": 68,
   "metadata": {},
   "outputs": [
    {
     "name": "stdout",
     "output_type": "stream",
     "text": [
      "Song: spotify:track:0UaMYEvWZi0ZqiDOoHU3YI, occurrence: 136\n",
      "Song: spotify:track:6I9VzXrHxO9rA9A5euc8Ak, occurrence: 249\n",
      "Song: spotify:track:0WqIKmW4BTrj3eJFmnCKMv, occurrence: 350\n",
      "Song: spotify:track:2gam98EZKrF9XuOkU13ApN, occurrence: 331\n",
      "Song: spotify:track:0uqPG793dkDDN7sCUJJIVC, occurrence: 179\n",
      "Song: spotify:track:6GIrIt2M39wEGwjCQjGChX, occurrence: 99\n",
      "Song: spotify:track:4E5P1XyAFtrjpiIxkydly4, occurrence: 238\n",
      "Song: spotify:track:3H1LCvO3fVsK2HPguhbml0, occurrence: 177\n"
     ]
    }
   ],
   "source": [
    "for song_uri in song_uris:\n",
    "    print(f'Song: {song_uri}, occurrence: {song_occurrence(song_uri, playlists)}')"
   ]
  },
  {
   "cell_type": "markdown",
   "metadata": {},
   "source": [
    "All 8 songs aren't from the same artists or album, but seems to occur often togerther in the 15,000 playlists. 5 nexts songs aren't exactly the 5 next songs in playlist one, but they are indeed contained in the same order in playlist one.\n",
    "\n",
    "We now repeat it with the second playlist, before analysing the final playlist."
   ]
  },
  {
   "cell_type": "code",
   "execution_count": 69,
   "metadata": {},
   "outputs": [
    {
     "name": "stdout",
     "output_type": "stream",
     "text": [
      "initial playlist: ['spotify:track:2HHtWyy5CgaQbC7XSoOb0e', 'spotify:track:1MYYt7h6amcrauCOoso3Gx', 'spotify:track:3x2mJ2bjCIU70NrH49CtYR']\n",
      "New playlist: ['spotify:track:2HHtWyy5CgaQbC7XSoOb0e', 'spotify:track:1MYYt7h6amcrauCOoso3Gx', 'spotify:track:3x2mJ2bjCIU70NrH49CtYR', 'spotify:track:1Pm3fq1SC6lUlNVBGZi3Em', 'spotify:track:1NXTEkIeRL59NK61QuhYUl', 'spotify:track:3RGlJJFkWEavxeRQr9ivAd', 'spotify:track:0e9hR1vTrzlUvFH5PgA9rY', 'spotify:track:7dkbEHIMLoeuG4zXGmzhEH']\n"
     ]
    }
   ],
   "source": [
    "## URIs of the first 3 songs from playlist 2:\n",
    "song_uris = [song['track_uri'] for song in playlists.iloc[1]['tracks'][:3]]\n",
    "num_songs = 5\n",
    "\n",
    "print(f'initial playlist: {song_uris}')\n",
    "for i in range(num_songs):\n",
    "    new_song = get_next_song(song_uris)\n",
    "    \n",
    "    if new_song:\n",
    "        song_uris.append(new_song)\n",
    "\n",
    "print(f'New playlist: {song_uris}')"
   ]
  },
  {
   "cell_type": "code",
   "execution_count": 70,
   "metadata": {},
   "outputs": [
    {
     "data": {
      "text/html": [
       "<div>\n",
       "<style scoped>\n",
       "    .dataframe tbody tr th:only-of-type {\n",
       "        vertical-align: middle;\n",
       "    }\n",
       "\n",
       "    .dataframe tbody tr th {\n",
       "        vertical-align: top;\n",
       "    }\n",
       "\n",
       "    .dataframe thead th {\n",
       "        text-align: right;\n",
       "    }\n",
       "</style>\n",
       "<table border=\"1\" class=\"dataframe\">\n",
       "  <thead>\n",
       "    <tr style=\"text-align: right;\">\n",
       "      <th></th>\n",
       "      <th>track_uri</th>\n",
       "      <th>artist_uri</th>\n",
       "      <th>album_uri</th>\n",
       "      <th>duration_ms</th>\n",
       "    </tr>\n",
       "  </thead>\n",
       "  <tbody>\n",
       "    <tr>\n",
       "      <th>51</th>\n",
       "      <td>spotify:track:2HHtWyy5CgaQbC7XSoOb0e</td>\n",
       "      <td>spotify:artist:26bcq2nyj5GB7uRr558iQg</td>\n",
       "      <td>spotify:album:4PT9VulQaQP6XR1xBI2x1W</td>\n",
       "      <td>243773</td>\n",
       "    </tr>\n",
       "    <tr>\n",
       "      <th>52</th>\n",
       "      <td>spotify:track:1MYYt7h6amcrauCOoso3Gx</td>\n",
       "      <td>spotify:artist:7zdmbPudNX4SQJXnYIuCTC</td>\n",
       "      <td>spotify:album:3q8vR3PFV8kG1m1Iv8DpKq</td>\n",
       "      <td>70294</td>\n",
       "    </tr>\n",
       "    <tr>\n",
       "      <th>53</th>\n",
       "      <td>spotify:track:3x2mJ2bjCIU70NrH49CtYR</td>\n",
       "      <td>spotify:artist:7zdmbPudNX4SQJXnYIuCTC</td>\n",
       "      <td>spotify:album:3q8vR3PFV8kG1m1Iv8DpKq</td>\n",
       "      <td>65306</td>\n",
       "    </tr>\n",
       "    <tr>\n",
       "      <th>54</th>\n",
       "      <td>spotify:track:1Pm3fq1SC6lUlNVBGZi3Em</td>\n",
       "      <td>spotify:artist:7zdmbPudNX4SQJXnYIuCTC</td>\n",
       "      <td>spotify:album:3q8vR3PFV8kG1m1Iv8DpKq</td>\n",
       "      <td>108532</td>\n",
       "    </tr>\n",
       "    <tr>\n",
       "      <th>55</th>\n",
       "      <td>spotify:track:1NXTEkIeRL59NK61QuhYUl</td>\n",
       "      <td>spotify:artist:7zdmbPudNX4SQJXnYIuCTC</td>\n",
       "      <td>spotify:album:3q8vR3PFV8kG1m1Iv8DpKq</td>\n",
       "      <td>214268</td>\n",
       "    </tr>\n",
       "    <tr>\n",
       "      <th>56</th>\n",
       "      <td>spotify:track:3RGlJJFkWEavxeRQr9ivAd</td>\n",
       "      <td>spotify:artist:7zdmbPudNX4SQJXnYIuCTC</td>\n",
       "      <td>spotify:album:3q8vR3PFV8kG1m1Iv8DpKq</td>\n",
       "      <td>110219</td>\n",
       "    </tr>\n",
       "    <tr>\n",
       "      <th>57</th>\n",
       "      <td>spotify:track:0e9hR1vTrzlUvFH5PgA9rY</td>\n",
       "      <td>spotify:artist:7zdmbPudNX4SQJXnYIuCTC</td>\n",
       "      <td>spotify:album:60wUpRwDRF1jmViHaW2yu4</td>\n",
       "      <td>207520</td>\n",
       "    </tr>\n",
       "    <tr>\n",
       "      <th>58</th>\n",
       "      <td>spotify:track:7dkbEHIMLoeuG4zXGmzhEH</td>\n",
       "      <td>spotify:artist:6BKWwLs98ZY3ifhCDNGvLk</td>\n",
       "      <td>spotify:album:38tJMNu2lPatR7xnPchOOB</td>\n",
       "      <td>226000</td>\n",
       "    </tr>\n",
       "  </tbody>\n",
       "</table>\n",
       "</div>"
      ],
      "text/plain": [
       "                               track_uri  \\\n",
       "51  spotify:track:2HHtWyy5CgaQbC7XSoOb0e   \n",
       "52  spotify:track:1MYYt7h6amcrauCOoso3Gx   \n",
       "53  spotify:track:3x2mJ2bjCIU70NrH49CtYR   \n",
       "54  spotify:track:1Pm3fq1SC6lUlNVBGZi3Em   \n",
       "55  spotify:track:1NXTEkIeRL59NK61QuhYUl   \n",
       "56  spotify:track:3RGlJJFkWEavxeRQr9ivAd   \n",
       "57  spotify:track:0e9hR1vTrzlUvFH5PgA9rY   \n",
       "58  spotify:track:7dkbEHIMLoeuG4zXGmzhEH   \n",
       "\n",
       "                               artist_uri  \\\n",
       "51  spotify:artist:26bcq2nyj5GB7uRr558iQg   \n",
       "52  spotify:artist:7zdmbPudNX4SQJXnYIuCTC   \n",
       "53  spotify:artist:7zdmbPudNX4SQJXnYIuCTC   \n",
       "54  spotify:artist:7zdmbPudNX4SQJXnYIuCTC   \n",
       "55  spotify:artist:7zdmbPudNX4SQJXnYIuCTC   \n",
       "56  spotify:artist:7zdmbPudNX4SQJXnYIuCTC   \n",
       "57  spotify:artist:7zdmbPudNX4SQJXnYIuCTC   \n",
       "58  spotify:artist:6BKWwLs98ZY3ifhCDNGvLk   \n",
       "\n",
       "                               album_uri  duration_ms  \n",
       "51  spotify:album:4PT9VulQaQP6XR1xBI2x1W       243773  \n",
       "52  spotify:album:3q8vR3PFV8kG1m1Iv8DpKq        70294  \n",
       "53  spotify:album:3q8vR3PFV8kG1m1Iv8DpKq        65306  \n",
       "54  spotify:album:3q8vR3PFV8kG1m1Iv8DpKq       108532  \n",
       "55  spotify:album:3q8vR3PFV8kG1m1Iv8DpKq       214268  \n",
       "56  spotify:album:3q8vR3PFV8kG1m1Iv8DpKq       110219  \n",
       "57  spotify:album:60wUpRwDRF1jmViHaW2yu4       207520  \n",
       "58  spotify:album:38tJMNu2lPatR7xnPchOOB       226000  "
      ]
     },
     "execution_count": 70,
     "metadata": {},
     "output_type": "execute_result"
    }
   ],
   "source": [
    "tracks[tracks['track_uri'].isin(song_uris)]"
   ]
  },
  {
   "cell_type": "code",
   "execution_count": 71,
   "metadata": {},
   "outputs": [
    {
     "data": {
      "text/plain": [
       "[(0, 'spotify:track:2HHtWyy5CgaQbC7XSoOb0e'),\n",
       " (1, 'spotify:track:1MYYt7h6amcrauCOoso3Gx'),\n",
       " (2, 'spotify:track:3x2mJ2bjCIU70NrH49CtYR'),\n",
       " (3, 'spotify:track:1Pm3fq1SC6lUlNVBGZi3Em'),\n",
       " (4, 'spotify:track:1NXTEkIeRL59NK61QuhYUl'),\n",
       " (5, 'spotify:track:3RGlJJFkWEavxeRQr9ivAd'),\n",
       " (6, 'spotify:track:0e9hR1vTrzlUvFH5PgA9rY'),\n",
       " (7, 'spotify:track:7dkbEHIMLoeuG4zXGmzhEH')]"
      ]
     },
     "execution_count": 71,
     "metadata": {},
     "output_type": "execute_result"
    }
   ],
   "source": [
    "playlist = [(index, song['track_uri']) for (index, song) in enumerate(playlists.iloc[1]['tracks'])]\n",
    "list(filter(lambda item: item[1] in song_uris, playlist)) # songs in playlist 2 and in generated playlist"
   ]
  },
  {
   "cell_type": "code",
   "execution_count": 72,
   "metadata": {},
   "outputs": [
    {
     "name": "stdout",
     "output_type": "stream",
     "text": [
      "Song: spotify:track:2HHtWyy5CgaQbC7XSoOb0e, occurrence: 271\n",
      "Song: spotify:track:1MYYt7h6amcrauCOoso3Gx, occurrence: 1\n",
      "Song: spotify:track:3x2mJ2bjCIU70NrH49CtYR, occurrence: 1\n",
      "Song: spotify:track:1Pm3fq1SC6lUlNVBGZi3Em, occurrence: 1\n",
      "Song: spotify:track:1NXTEkIeRL59NK61QuhYUl, occurrence: 2\n",
      "Song: spotify:track:3RGlJJFkWEavxeRQr9ivAd, occurrence: 2\n",
      "Song: spotify:track:0e9hR1vTrzlUvFH5PgA9rY, occurrence: 3\n",
      "Song: spotify:track:7dkbEHIMLoeuG4zXGmzhEH, occurrence: 1\n"
     ]
    }
   ],
   "source": [
    "for song_uri in song_uris:\n",
    "    print(f'Song: {song_uri}, occurrence: {song_occurrence(song_uri, playlists)}')"
   ]
  },
  {
   "cell_type": "markdown",
   "metadata": {},
   "source": [
    "Even with 20.000 playlists, the nexts songs are generally the close next songs from  the initial playlist. There are not necessary songs from same artists or album. The reason is that some tracks or sequences of tracks only occur once in the playlists.\n",
    "\n",
    "#### Drawback\n",
    "The only drawback is that we can't find a new song for an unseen sequence of songs, like the example under with a playlist with 2 song from two playlists: "
   ]
  },
  {
   "cell_type": "code",
   "execution_count": 73,
   "metadata": {},
   "outputs": [
    {
     "name": "stdout",
     "output_type": "stream",
     "text": [
      "['spotify:track:2HHtWyy5CgaQbC7XSoOb0e', 'spotify:track:1MYYt7h6amcrauCOoso3Gx', 'spotify:track:0UaMYEvWZi0ZqiDOoHU3YI', 'spotify:track:6I9VzXrHxO9rA9A5euc8Ak']\n",
      "next song not found.\n"
     ]
    }
   ],
   "source": [
    "my_playlist = [song['track_uri'] for song in playlists.iloc[1]['tracks'][:2]] # 2 songs from playlist 1\n",
    "my_playlist.extend([song['track_uri'] for song in playlists.iloc[0]['tracks'][:2]]) # add 2 songs from playlist 2\n",
    "\n",
    "print(my_playlist)\n",
    "new_song = get_next_song(my_playlist)\n",
    "\n",
    "if not new_song:\n",
    "    print(\"next song not found.\")\n",
    "else:\n",
    "    print(f\"new song: {new_song}\") # should not found a track"
   ]
  },
  {
   "cell_type": "markdown",
   "metadata": {},
   "source": [
    "## <span style=\"color:green\">Defining a song embeddings / representation</span>\n",
    "\n",
    "### Get tracks context\n",
    "\n",
    "The computed embedding of tracks should use place tracks close to each other when:\n",
    "- tracks are from the same playlists (we suppose that tracks in the same playlists could have the related genres)\n",
    "- tracks from the same album\n",
    "- tracks from the same artist\n",
    "\n",
    "That's why we will generate as context list of tracks for each artists and for each album as additional information with the collected playlists. This new playlists of tracks uris will represent the words in a document, so that we can use word2vec from gensim. Before that, we will convert each track_uri to an unique number."
   ]
  },
  {
   "cell_type": "code",
   "execution_count": 23,
   "metadata": {},
   "outputs": [
    {
     "name": "stdout",
     "output_type": "stream",
     "text": [
      "192070\n"
     ]
    }
   ],
   "source": [
    "uri_playlists = playlists['tracks'].apply(lambda tracks: [song['track_uri'] for song in tracks])\n",
    "\n",
    "# Group tracks by artists uri\n",
    "artists_tracks = tracks.groupby('artist_uri')['track_uri'].apply(list)\n",
    "\n",
    "# Group tracks by album uri\n",
    "albums_tracks = tracks.groupby('album_uri')['track_uri'].apply(list)\n",
    "\n",
    "# whole context\n",
    "context_tracks = [\n",
    "    *uri_playlists.values,\n",
    "    *artists_tracks.values,\n",
    "    *albums_tracks.values\n",
    "]\n",
    "\n",
    "print(len(context_tracks))"
   ]
  },
  {
   "cell_type": "markdown",
   "metadata": {},
   "source": [
    "A track will occur more often in the uri_playslists and only once in artists_tracks and albums_tracks, so that the occurence in the initial playlists has more inportance. **How to improve it for artists and albums ? **\n",
    "\n",
    "### tracks to number"
   ]
  },
  {
   "cell_type": "code",
   "execution_count": 3,
   "metadata": {},
   "outputs": [],
   "source": [
    "# exec on every opening\n",
    "# dict for swiching between tracks and numbers\n",
    "number2track = dict((index, track) for index, track in enumerate(tracks['track_uri'].values))\n",
    "track2number = dict((track, index) for index, track in number2track.items())"
   ]
  },
  {
   "cell_type": "markdown",
   "metadata": {},
   "source": [
    "### Train a Track2Vec model\n",
    "\n",
    "Word2Vec offers two methods: skip-gram and continuous bag of words(CBOW). We will use skip-gram, as it seems that skip-gram works well with infrequent word in the datasets ([NLP 101: Word2Vec — Skip-gram and CBOW](https://towardsdatascience.com/nlp-101-word2vec-skip-gram-and-cbow-93512ee24314), [Google archive word2vec](https://code.google.com/archive/p/word2vec/)). The methode will learn the word embedding from the words context, which is composed of the surrounding words.\n",
    "As we already saw, some songs could only occurs once in the initial first 20.000 playlists. Tracks could occur only three times: once in the 20.000 playlists, in one album and in one artirst playlist.\n",
    "\n",
    "Based of computed track context, a track embedding will be computed with 300 dimensions and a window size of 6 for the skip-gram method. Each element of the vector will be in [-1, 1]."
   ]
  },
  {
   "cell_type": "code",
   "execution_count": 25,
   "metadata": {},
   "outputs": [
    {
     "name": "stdout",
     "output_type": "stream",
     "text": [
      "Number of playlists 192070\n"
     ]
    }
   ],
   "source": [
    "from gensim.models.word2vec import Word2Vec\n",
    "\n",
    "# convert each track to its corresponding number -> sequences for word2vec\n",
    "context_tracks_numbers = [ [track2number[track_uri] for track_uri in tracks_list] for tracks_list in context_tracks]\n",
    "print(\"Number of playlists\", len(context_tracks_numbers))\n",
    "\n",
    "# embedding dimensionality\n",
    "embedding_dim = 300 \n",
    "\n",
    "# how often does a word have to occur to be considered\n",
    "min_word_count = 3 # song occurs in minimum one playlist, in exactly one album and belongs to one artists -> 3 times\n",
    "\n",
    "# number of threads to use\n",
    "num_workers = 8\n",
    "\n",
    "# window size\n",
    "window_size = 6\n",
    "\n",
    "# subsampling parameter for word2vec\n",
    "subsampling = 1e-3\n",
    "\n",
    "track2vec = Word2Vec(context_tracks_numbers, \n",
    "                     workers=num_workers,\n",
    "                     vector_size=embedding_dim,\n",
    "                     min_count=min_word_count,\n",
    "                     sg=1, # 1: skip-gram, 0: CBOW\n",
    "                     window=window_size,\n",
    "                     sample=subsampling)\n",
    "\n",
    "del context_tracks # free RAM"
   ]
  },
  {
   "cell_type": "markdown",
   "metadata": {},
   "source": [
    "### Save or load trained track2vec model"
   ]
  },
  {
   "cell_type": "code",
   "execution_count": 26,
   "metadata": {},
   "outputs": [],
   "source": [
    "track2vec.save('./models/track2vec.model')"
   ]
  },
  {
   "cell_type": "code",
   "execution_count": 4,
   "metadata": {},
   "outputs": [],
   "source": [
    "# exec on every opening\n",
    "from gensim.models.word2vec import Word2Vec\n",
    "\n",
    "track2vec = Word2Vec.load('./models/track2vec.model')"
   ]
  },
  {
   "cell_type": "markdown",
   "metadata": {},
   "source": [
    "### Helper methods for switching between tracks uris and vectors"
   ]
  },
  {
   "cell_type": "code",
   "execution_count": 5,
   "metadata": {},
   "outputs": [],
   "source": [
    "# exec on every opening\n",
    "import numpy as np\n",
    "\n",
    "def convert_track_to_vec(track_uri: str) -> np.ndarray:\n",
    "    \"\"\"Convert the track uri to a dense vector\"\"\"\n",
    "    return track2vec.wv[track2number[track_uri]]\n",
    "\n",
    "def convert_vec_to_track(vector: np.ndarray) -> str:\n",
    "    \"\"\"Convert a dense vector to a track uri\"\"\"\n",
    "    return number2track[track2vec.wv.similar_by_vector(vector, topn=1)[0][0]]"
   ]
  },
  {
   "cell_type": "markdown",
   "metadata": {},
   "source": [
    "Thanks to this helper methods, we can convert a track uri to his vector representation or backwards if needed. We test it fr the first track:"
   ]
  },
  {
   "cell_type": "code",
   "execution_count": 28,
   "metadata": {},
   "outputs": [
    {
     "name": "stdout",
     "output_type": "stream",
     "text": [
      "initial track spotify:track:0UaMYEvWZi0ZqiDOoHU3YI\n",
      "After converting to vector and backwards: spotify:track:0UaMYEvWZi0ZqiDOoHU3YI\n"
     ]
    }
   ],
   "source": [
    "track = tracks['track_uri'].iloc[0]\n",
    "\n",
    "print(\"initial track\", track)\n",
    "vector = convert_track_to_vec(track)\n",
    "new_track = convert_vec_to_track(vector)\n",
    "\n",
    "print(\"After converting to vector and backwards:\", new_track)"
   ]
  },
  {
   "cell_type": "markdown",
   "metadata": {},
   "source": [
    "With the computed track embedding and the cosine similarity a new method could be defined, to generate a playlist. As already said, with skip-gram, we could get similar tracks wich not necessary occur after the k initial songs, but mostly if their contexts are similar. It's probabely possible that two or more similiar tracks don't occur together in a playlist, but have similar surrounding tracks. That's why this method should always return a track."
   ]
  },
  {
   "cell_type": "code",
   "execution_count": 92,
   "metadata": {},
   "outputs": [],
   "source": [
    "# exec on every opening\n",
    "\n",
    "def get_next_similar_song(song_uris: list[str]) -> str:\n",
    "    \"\"\"\n",
    "    select the next similar song based on a computed embedding: track2vec.\n",
    "    \"\"\"\n",
    "    encoded_playlist = [ track2number[song_uri] for song_uri in song_uris ] # track2vec uses track_numbers as vocabulary\n",
    "    similar_songs = track2vec.wv.most_similar(encoded_playlist, topn = 1) # [(number, sim(number, playlist))]\n",
    "    \n",
    "    return number2track[similar_songs[0][0]]"
   ]
  },
  {
   "cell_type": "markdown",
   "metadata": {},
   "source": [
    "### Testing track embedding\n",
    "\n",
    "#### Test with 3 tracks from same artists and album"
   ]
  },
  {
   "cell_type": "code",
   "execution_count": 93,
   "metadata": {},
   "outputs": [
    {
     "name": "stdout",
     "output_type": "stream",
     "text": [
      "initial playlist: ['spotify:track:1MYYt7h6amcrauCOoso3Gx', 'spotify:track:3x2mJ2bjCIU70NrH49CtYR', 'spotify:track:1Pm3fq1SC6lUlNVBGZi3Em']\n",
      "New playlist: ['spotify:track:1MYYt7h6amcrauCOoso3Gx', 'spotify:track:3x2mJ2bjCIU70NrH49CtYR', 'spotify:track:1Pm3fq1SC6lUlNVBGZi3Em', 'spotify:track:2AJwikvKXTNc3Rf4FWfCfj', 'spotify:track:7jP55ZAhiT8cGQuKCyg1Xw', 'spotify:track:56VzzwijUJZbr2nxawiGvh', 'spotify:track:0yTC8WJfsfhRjrLvkBPII1', 'spotify:track:6b34idQ9pLuq3bZA8eMpb1']\n"
     ]
    }
   ],
   "source": [
    "song_uris = [song['track_uri'] for song in playlists.iloc[1]['tracks'][1:4]]\n",
    "num_songs = 5\n",
    "\n",
    "print(f'initial playlist: {song_uris}')\n",
    "for i in range(num_songs):\n",
    "    new_song = get_next_similar_song(song_uris)\n",
    "    \n",
    "    if new_song:\n",
    "        song_uris.append(new_song)\n",
    "\n",
    "print(f'New playlist: {song_uris}')"
   ]
  },
  {
   "cell_type": "code",
   "execution_count": 94,
   "metadata": {},
   "outputs": [
    {
     "data": {
      "text/html": [
       "<div>\n",
       "<style scoped>\n",
       "    .dataframe tbody tr th:only-of-type {\n",
       "        vertical-align: middle;\n",
       "    }\n",
       "\n",
       "    .dataframe tbody tr th {\n",
       "        vertical-align: top;\n",
       "    }\n",
       "\n",
       "    .dataframe thead th {\n",
       "        text-align: right;\n",
       "    }\n",
       "</style>\n",
       "<table border=\"1\" class=\"dataframe\">\n",
       "  <thead>\n",
       "    <tr style=\"text-align: right;\">\n",
       "      <th></th>\n",
       "      <th>track_uri</th>\n",
       "      <th>artist_uri</th>\n",
       "      <th>album_uri</th>\n",
       "      <th>duration_ms</th>\n",
       "    </tr>\n",
       "  </thead>\n",
       "  <tbody>\n",
       "    <tr>\n",
       "      <th>52</th>\n",
       "      <td>spotify:track:1MYYt7h6amcrauCOoso3Gx</td>\n",
       "      <td>spotify:artist:7zdmbPudNX4SQJXnYIuCTC</td>\n",
       "      <td>spotify:album:3q8vR3PFV8kG1m1Iv8DpKq</td>\n",
       "      <td>70294</td>\n",
       "    </tr>\n",
       "    <tr>\n",
       "      <th>53</th>\n",
       "      <td>spotify:track:3x2mJ2bjCIU70NrH49CtYR</td>\n",
       "      <td>spotify:artist:7zdmbPudNX4SQJXnYIuCTC</td>\n",
       "      <td>spotify:album:3q8vR3PFV8kG1m1Iv8DpKq</td>\n",
       "      <td>65306</td>\n",
       "    </tr>\n",
       "    <tr>\n",
       "      <th>54</th>\n",
       "      <td>spotify:track:1Pm3fq1SC6lUlNVBGZi3Em</td>\n",
       "      <td>spotify:artist:7zdmbPudNX4SQJXnYIuCTC</td>\n",
       "      <td>spotify:album:3q8vR3PFV8kG1m1Iv8DpKq</td>\n",
       "      <td>108532</td>\n",
       "    </tr>\n",
       "    <tr>\n",
       "      <th>186507</th>\n",
       "      <td>spotify:track:56VzzwijUJZbr2nxawiGvh</td>\n",
       "      <td>spotify:artist:0nq64XZMWV1s7XHXIkdH7K</td>\n",
       "      <td>spotify:album:3C4AZtkcYaG1RSdvGSn4An</td>\n",
       "      <td>201266</td>\n",
       "    </tr>\n",
       "    <tr>\n",
       "      <th>196750</th>\n",
       "      <td>spotify:track:0yTC8WJfsfhRjrLvkBPII1</td>\n",
       "      <td>spotify:artist:2sHZLtiGJbXHAShjJIurVo</td>\n",
       "      <td>spotify:album:33fwo93GWl12p18QaOjewI</td>\n",
       "      <td>196253</td>\n",
       "    </tr>\n",
       "    <tr>\n",
       "      <th>209403</th>\n",
       "      <td>spotify:track:6b34idQ9pLuq3bZA8eMpb1</td>\n",
       "      <td>spotify:artist:1qHR9DMfOJQjvWLEfMZQlG</td>\n",
       "      <td>spotify:album:0dkGkvmsNSgpqFhpzaSfIW</td>\n",
       "      <td>106373</td>\n",
       "    </tr>\n",
       "    <tr>\n",
       "      <th>236992</th>\n",
       "      <td>spotify:track:2AJwikvKXTNc3Rf4FWfCfj</td>\n",
       "      <td>spotify:artist:3dRfiJ2650SZu6GbydcHNb</td>\n",
       "      <td>spotify:album:0FFKU6tUqBwgANE5DGLA3c</td>\n",
       "      <td>301586</td>\n",
       "    </tr>\n",
       "    <tr>\n",
       "      <th>241218</th>\n",
       "      <td>spotify:track:7jP55ZAhiT8cGQuKCyg1Xw</td>\n",
       "      <td>spotify:artist:7AH2bTtNIOYu24O3NuFxhG</td>\n",
       "      <td>spotify:album:0SqPg8UgqwOAvt2xDSx1Iv</td>\n",
       "      <td>241493</td>\n",
       "    </tr>\n",
       "  </tbody>\n",
       "</table>\n",
       "</div>"
      ],
      "text/plain": [
       "                                   track_uri  \\\n",
       "52      spotify:track:1MYYt7h6amcrauCOoso3Gx   \n",
       "53      spotify:track:3x2mJ2bjCIU70NrH49CtYR   \n",
       "54      spotify:track:1Pm3fq1SC6lUlNVBGZi3Em   \n",
       "186507  spotify:track:56VzzwijUJZbr2nxawiGvh   \n",
       "196750  spotify:track:0yTC8WJfsfhRjrLvkBPII1   \n",
       "209403  spotify:track:6b34idQ9pLuq3bZA8eMpb1   \n",
       "236992  spotify:track:2AJwikvKXTNc3Rf4FWfCfj   \n",
       "241218  spotify:track:7jP55ZAhiT8cGQuKCyg1Xw   \n",
       "\n",
       "                                   artist_uri  \\\n",
       "52      spotify:artist:7zdmbPudNX4SQJXnYIuCTC   \n",
       "53      spotify:artist:7zdmbPudNX4SQJXnYIuCTC   \n",
       "54      spotify:artist:7zdmbPudNX4SQJXnYIuCTC   \n",
       "186507  spotify:artist:0nq64XZMWV1s7XHXIkdH7K   \n",
       "196750  spotify:artist:2sHZLtiGJbXHAShjJIurVo   \n",
       "209403  spotify:artist:1qHR9DMfOJQjvWLEfMZQlG   \n",
       "236992  spotify:artist:3dRfiJ2650SZu6GbydcHNb   \n",
       "241218  spotify:artist:7AH2bTtNIOYu24O3NuFxhG   \n",
       "\n",
       "                                   album_uri  duration_ms  \n",
       "52      spotify:album:3q8vR3PFV8kG1m1Iv8DpKq        70294  \n",
       "53      spotify:album:3q8vR3PFV8kG1m1Iv8DpKq        65306  \n",
       "54      spotify:album:3q8vR3PFV8kG1m1Iv8DpKq       108532  \n",
       "186507  spotify:album:3C4AZtkcYaG1RSdvGSn4An       201266  \n",
       "196750  spotify:album:33fwo93GWl12p18QaOjewI       196253  \n",
       "209403  spotify:album:0dkGkvmsNSgpqFhpzaSfIW       106373  \n",
       "236992  spotify:album:0FFKU6tUqBwgANE5DGLA3c       301586  \n",
       "241218  spotify:album:0SqPg8UgqwOAvt2xDSx1Iv       241493  "
      ]
     },
     "execution_count": 94,
     "metadata": {},
     "output_type": "execute_result"
    }
   ],
   "source": [
    "tracks[tracks['track_uri'].isin(song_uris)]"
   ]
  },
  {
   "cell_type": "code",
   "execution_count": 95,
   "metadata": {},
   "outputs": [
    {
     "data": {
      "text/plain": [
       "[(1, 'spotify:track:1MYYt7h6amcrauCOoso3Gx'),\n",
       " (2, 'spotify:track:3x2mJ2bjCIU70NrH49CtYR'),\n",
       " (3, 'spotify:track:1Pm3fq1SC6lUlNVBGZi3Em')]"
      ]
     },
     "execution_count": 95,
     "metadata": {},
     "output_type": "execute_result"
    }
   ],
   "source": [
    "playlist = [(index, song['track_uri']) for (index, song) in enumerate(playlists.iloc[1]['tracks'])]\n",
    "list(filter(lambda item: item[1] in song_uris, playlist)) # songs in playlist 2 and in generated playlist"
   ]
  },
  {
   "cell_type": "markdown",
   "metadata": {},
   "source": [
    "Returned similar tracks aren't from the same artist or album as in the input playlist. Additionally returned tracks aren't the same as with the baseline method `get_next_song`. The similarity is here more based en songs occuring mostly together and as we used skip-gram, the embedding was computed based on tracks occuring before and after the song to guess in the playlists.\n",
    "\n",
    "#### Test with tracks from different playlists\n",
    "\n",
    "with method `get_next_song` it was impossible to determine a song track with a playlists composed of the two first tracks of the two first playlists. Here the Word2Vec model is able to found a similar track based on initial playlist. In this case, it is possible that this 4 tracks have similar surrounding tracks."
   ]
  },
  {
   "cell_type": "code",
   "execution_count": 96,
   "metadata": {},
   "outputs": [
    {
     "name": "stdout",
     "output_type": "stream",
     "text": [
      "initial playlist: ['spotify:track:2HHtWyy5CgaQbC7XSoOb0e', 'spotify:track:1MYYt7h6amcrauCOoso3Gx', 'spotify:track:0UaMYEvWZi0ZqiDOoHU3YI', 'spotify:track:6I9VzXrHxO9rA9A5euc8Ak']\n",
      "New playlist: ['spotify:track:2HHtWyy5CgaQbC7XSoOb0e', 'spotify:track:1MYYt7h6amcrauCOoso3Gx', 'spotify:track:0UaMYEvWZi0ZqiDOoHU3YI', 'spotify:track:6I9VzXrHxO9rA9A5euc8Ak', 'spotify:track:45Q5IYHJbBdmvlcnwVpXw5', 'spotify:track:01NBAoOpmY6nJL1tx9V2Rw', 'spotify:track:0Y6z0WSMQpTpj4kQArPnmK', 'spotify:track:0wjg8tYWZUUzRtFgPuDtzz', 'spotify:track:5w4Hocwc7JXeJhtoMPJtTZ']\n"
     ]
    }
   ],
   "source": [
    "song_uris = [song['track_uri'] for song in playlists.iloc[1]['tracks'][:2]] # 2 songs from playlist 1\n",
    "song_uris.extend([song['track_uri'] for song in playlists.iloc[0]['tracks'][:2]]) # add 2 songs from playlist 2\n",
    "\n",
    "print(f'initial playlist: {song_uris}')\n",
    "for i in range(num_songs):\n",
    "    new_song = get_next_similar_song(song_uris)\n",
    "    \n",
    "    if new_song:\n",
    "        song_uris.append(new_song)\n",
    "\n",
    "print(f'New playlist: {song_uris}')"
   ]
  },
  {
   "cell_type": "code",
   "execution_count": 106,
   "metadata": {},
   "outputs": [
    {
     "data": {
      "text/html": [
       "<div>\n",
       "<style scoped>\n",
       "    .dataframe tbody tr th:only-of-type {\n",
       "        vertical-align: middle;\n",
       "    }\n",
       "\n",
       "    .dataframe tbody tr th {\n",
       "        vertical-align: top;\n",
       "    }\n",
       "\n",
       "    .dataframe thead th {\n",
       "        text-align: right;\n",
       "    }\n",
       "</style>\n",
       "<table border=\"1\" class=\"dataframe\">\n",
       "  <thead>\n",
       "    <tr style=\"text-align: right;\">\n",
       "      <th></th>\n",
       "      <th>track_uri</th>\n",
       "      <th>artist_uri</th>\n",
       "      <th>album_uri</th>\n",
       "      <th>duration_ms</th>\n",
       "    </tr>\n",
       "  </thead>\n",
       "  <tbody>\n",
       "    <tr>\n",
       "      <th>0</th>\n",
       "      <td>spotify:track:0UaMYEvWZi0ZqiDOoHU3YI</td>\n",
       "      <td>spotify:artist:2wIVse2owClT7go1WT98tk</td>\n",
       "      <td>spotify:album:6vV5UrXcfyQD1wu4Qo2I9K</td>\n",
       "      <td>226863</td>\n",
       "    </tr>\n",
       "    <tr>\n",
       "      <th>1</th>\n",
       "      <td>spotify:track:6I9VzXrHxO9rA9A5euc8Ak</td>\n",
       "      <td>spotify:artist:26dSoYclwsYLMAKD3tpOr4</td>\n",
       "      <td>spotify:album:0z7pVBGOD7HCIB7S8eLkLI</td>\n",
       "      <td>198800</td>\n",
       "    </tr>\n",
       "    <tr>\n",
       "      <th>51</th>\n",
       "      <td>spotify:track:2HHtWyy5CgaQbC7XSoOb0e</td>\n",
       "      <td>spotify:artist:26bcq2nyj5GB7uRr558iQg</td>\n",
       "      <td>spotify:album:4PT9VulQaQP6XR1xBI2x1W</td>\n",
       "      <td>243773</td>\n",
       "    </tr>\n",
       "    <tr>\n",
       "      <th>52</th>\n",
       "      <td>spotify:track:1MYYt7h6amcrauCOoso3Gx</td>\n",
       "      <td>spotify:artist:7zdmbPudNX4SQJXnYIuCTC</td>\n",
       "      <td>spotify:album:3q8vR3PFV8kG1m1Iv8DpKq</td>\n",
       "      <td>70294</td>\n",
       "    </tr>\n",
       "    <tr>\n",
       "      <th>5622</th>\n",
       "      <td>spotify:track:45Q5IYHJbBdmvlcnwVpXw5</td>\n",
       "      <td>spotify:artist:18JD8DVlD1fakDAw7E9LFC</td>\n",
       "      <td>spotify:album:1zj70oeS812QJZCbdZxym6</td>\n",
       "      <td>218732</td>\n",
       "    </tr>\n",
       "    <tr>\n",
       "      <th>5626</th>\n",
       "      <td>spotify:track:0Y6z0WSMQpTpj4kQArPnmK</td>\n",
       "      <td>spotify:artist:23H1ellgs9wxOBx2V0fkao</td>\n",
       "      <td>spotify:album:5tyiGqCWRIARZIB7ZpKRVA</td>\n",
       "      <td>239733</td>\n",
       "    </tr>\n",
       "    <tr>\n",
       "      <th>89817</th>\n",
       "      <td>spotify:track:01NBAoOpmY6nJL1tx9V2Rw</td>\n",
       "      <td>spotify:artist:7AjHgPMs8gST9qpPuritzX</td>\n",
       "      <td>spotify:album:1ZELeCvDSvj6PQneyWRATy</td>\n",
       "      <td>298841</td>\n",
       "    </tr>\n",
       "    <tr>\n",
       "      <th>130733</th>\n",
       "      <td>spotify:track:0wjg8tYWZUUzRtFgPuDtzz</td>\n",
       "      <td>spotify:artist:1f5GqyOPo0CkotzzRwviBu</td>\n",
       "      <td>spotify:album:7jYV0gCHKlQj9LmLNZmj6Y</td>\n",
       "      <td>151346</td>\n",
       "    </tr>\n",
       "    <tr>\n",
       "      <th>176303</th>\n",
       "      <td>spotify:track:5w4Hocwc7JXeJhtoMPJtTZ</td>\n",
       "      <td>spotify:artist:6XpaIBNiVzIetEPCWDvAFP</td>\n",
       "      <td>spotify:album:3VPDCqgJfdq1GEqitheCtn</td>\n",
       "      <td>204266</td>\n",
       "    </tr>\n",
       "  </tbody>\n",
       "</table>\n",
       "</div>"
      ],
      "text/plain": [
       "                                   track_uri  \\\n",
       "0       spotify:track:0UaMYEvWZi0ZqiDOoHU3YI   \n",
       "1       spotify:track:6I9VzXrHxO9rA9A5euc8Ak   \n",
       "51      spotify:track:2HHtWyy5CgaQbC7XSoOb0e   \n",
       "52      spotify:track:1MYYt7h6amcrauCOoso3Gx   \n",
       "5622    spotify:track:45Q5IYHJbBdmvlcnwVpXw5   \n",
       "5626    spotify:track:0Y6z0WSMQpTpj4kQArPnmK   \n",
       "89817   spotify:track:01NBAoOpmY6nJL1tx9V2Rw   \n",
       "130733  spotify:track:0wjg8tYWZUUzRtFgPuDtzz   \n",
       "176303  spotify:track:5w4Hocwc7JXeJhtoMPJtTZ   \n",
       "\n",
       "                                   artist_uri  \\\n",
       "0       spotify:artist:2wIVse2owClT7go1WT98tk   \n",
       "1       spotify:artist:26dSoYclwsYLMAKD3tpOr4   \n",
       "51      spotify:artist:26bcq2nyj5GB7uRr558iQg   \n",
       "52      spotify:artist:7zdmbPudNX4SQJXnYIuCTC   \n",
       "5622    spotify:artist:18JD8DVlD1fakDAw7E9LFC   \n",
       "5626    spotify:artist:23H1ellgs9wxOBx2V0fkao   \n",
       "89817   spotify:artist:7AjHgPMs8gST9qpPuritzX   \n",
       "130733  spotify:artist:1f5GqyOPo0CkotzzRwviBu   \n",
       "176303  spotify:artist:6XpaIBNiVzIetEPCWDvAFP   \n",
       "\n",
       "                                   album_uri  duration_ms  \n",
       "0       spotify:album:6vV5UrXcfyQD1wu4Qo2I9K       226863  \n",
       "1       spotify:album:0z7pVBGOD7HCIB7S8eLkLI       198800  \n",
       "51      spotify:album:4PT9VulQaQP6XR1xBI2x1W       243773  \n",
       "52      spotify:album:3q8vR3PFV8kG1m1Iv8DpKq        70294  \n",
       "5622    spotify:album:1zj70oeS812QJZCbdZxym6       218732  \n",
       "5626    spotify:album:5tyiGqCWRIARZIB7ZpKRVA       239733  \n",
       "89817   spotify:album:1ZELeCvDSvj6PQneyWRATy       298841  \n",
       "130733  spotify:album:7jYV0gCHKlQj9LmLNZmj6Y       151346  \n",
       "176303  spotify:album:3VPDCqgJfdq1GEqitheCtn       204266  "
      ]
     },
     "execution_count": 106,
     "metadata": {},
     "output_type": "execute_result"
    }
   ],
   "source": [
    "tracks[tracks['track_uri'].isin(song_uris)]"
   ]
  },
  {
   "cell_type": "code",
   "execution_count": 105,
   "metadata": {},
   "outputs": [
    {
     "data": {
      "text/plain": [
       "[(0, 'spotify:track:0UaMYEvWZi0ZqiDOoHU3YI'),\n",
       " (1, 'spotify:track:6I9VzXrHxO9rA9A5euc8Ak'),\n",
       " (52, 'spotify:track:2HHtWyy5CgaQbC7XSoOb0e'),\n",
       " (53, 'spotify:track:1MYYt7h6amcrauCOoso3Gx'),\n",
       " (91, 'spotify:track:2HHtWyy5CgaQbC7XSoOb0e'),\n",
       " (92, 'spotify:track:1MYYt7h6amcrauCOoso3Gx')]"
      ]
     },
     "execution_count": 105,
     "metadata": {},
     "output_type": "execute_result"
    }
   ],
   "source": [
    "possible_tracks = playlists['tracks'].iloc[0]\n",
    "possible_tracks.extend(playlists['tracks'].iloc[1])\n",
    "playlist = [(index, song['track_uri']) for (index, song) in enumerate(possible_tracks)]\n",
    "list(filter(lambda item: item[1] in song_uris, playlist)) # songs in playlist 2 and in generated playlist"
   ]
  },
  {
   "cell_type": "markdown",
   "metadata": {},
   "source": [
    "We see that only the four initial tracks are contained in palylist 1 or 2. tracks with id 2HHtWyy5CgaQbC7XSoOb0e and 1MYYt7h6amcrauCOoso3Gx are contained in both. Returned similar songs aren't from the same artists or from same albums as in initial playlists."
   ]
  },
  {
   "cell_type": "markdown",
   "metadata": {},
   "source": [
    "## <span style=\"color:green\">Defining a neural network</span>\n",
    "\n",
    "\n",
    "### Training, validation, and test data\n",
    "\n",
    "We first split the 20.000 playlists into training, validation, and test data:"
   ]
  },
  {
   "cell_type": "code",
   "execution_count": 6,
   "metadata": {},
   "outputs": [
    {
     "name": "stdout",
     "output_type": "stream",
     "text": [
      "Train: 12000, Val: 4000, Test: 4000\n"
     ]
    }
   ],
   "source": [
    "# exec on every opening\n",
    "from sklearn.model_selection import train_test_split\n",
    "\n",
    "# percentages used for training, validation, and test data\n",
    "train_perc = 0.60\n",
    "val_perc = 0.20\n",
    "test_perc = 0.20\n",
    "\n",
    "# formated playlists with only the track_uris\n",
    "uri_playlists = playlists['tracks'].apply(lambda tracks: [song['track_uri'] for song in tracks])\n",
    "\n",
    "# extract training data and temporary validation-test data\n",
    "playlists_train, playlists_tmp = train_test_split(uri_playlists, test_size=val_perc+test_perc, random_state=0)\n",
    "\n",
    "# split validation-test data into validation and test data\n",
    "playlists_val, playlists_test = train_test_split(playlists_tmp, test_size=test_perc/(val_perc+test_perc), random_state=0)\n",
    "\n",
    "# save playlists_test for baseline evaluation later\n",
    "playlists_test_baseline = playlists_test.copy(deep=True)\n",
    "\n",
    "# free RAM\n",
    "del uri_playlists\n",
    "del playlists_tmp\n",
    "\n",
    "# convert each track uri to the corresponding vector\n",
    "track_uri2vec = lambda tracks: [convert_track_to_vec(track_uri) for track_uri in tracks]\n",
    "\n",
    "playlists_train = playlists_train.apply(track_uri2vec)\n",
    "playlists_val = playlists_val.apply(track_uri2vec)\n",
    "playlists_test = playlists_test.apply(track_uri2vec)\n",
    "\n",
    "print(f'Train: {len(playlists_train)}, Val: {len(playlists_val)}, Test: {len(playlists_test)}')"
   ]
  },
  {
   "cell_type": "markdown",
   "metadata": {},
   "source": [
    "We will now split our training, validation, and test data in k grams. Each X[i] will contains k tracks and y[i] will contain the next track after the k tracks. After that, each X will be converted to a 3D tensor with shape (number of playlists, k or windows size, number of embedding dimension). Each y will be converted to a 2D matrix with shape (number of playlists, number of embedding dimension)."
   ]
  },
  {
   "cell_type": "code",
   "execution_count": 7,
   "metadata": {},
   "outputs": [],
   "source": [
    "# exec on every opening\n",
    "### test for k + 1 pliting -> for training and evaluation\n",
    "import pandas as pd\n",
    "\n",
    "def playlist_k_gram(tracks: list, k: int, step: int = 1) -> tuple[list[list], list]:\n",
    "    \"\"\"Split a list of tracks in k grams: X[i] contains a sequence of k trachs, y[i] the k+1 track.\"\"\"\n",
    "    X: list[list] = []\n",
    "    y: list = []\n",
    "        \n",
    "    for i in range(0, len(tracks) - k, step):\n",
    "        X.append(tracks[i:i+k])\n",
    "        y.append(tracks[i+k])\n",
    "    \n",
    "    return X, y\n",
    "\n",
    "def playlists_k_gram(playlists: pd.Series, k: int, step: int = 1) -> tuple[list[list], list]:\n",
    "    \"\"\"Split the list of playlists in k grams: X[i] contains a sequence of k trachs, y[i] the k+1 track.\"\"\"\n",
    "    X: list[list] = []\n",
    "    y: list = []\n",
    "        \n",
    "    for playlist in playlists:\n",
    "        playlist_x, playlist_y = playlist_k_gram(playlist, k, step)\n",
    "        X.extend(playlist_x)\n",
    "        y.extend(playlist_y)\n",
    "    \n",
    "    return X, y"
   ]
  },
  {
   "cell_type": "code",
   "execution_count": 8,
   "metadata": {},
   "outputs": [
    {
     "name": "stdout",
     "output_type": "stream",
     "text": [
      "X -> Train: (73164, 10, 300), Val: (24328, 10, 300), Test: (24770, 10, 300)\n",
      "y -> Train: (73164, 300), Val: (24328, 300), Test: (24770, 300)\n"
     ]
    }
   ],
   "source": [
    "import numpy as np\n",
    "\n",
    "# exec on every opening\n",
    "# params for k-gram\n",
    "step = 10\n",
    "playlist_max_len = 10 # k\n",
    "\n",
    "# splitting in X, y with k grams\n",
    "# convert X to 3D tensors -> X: (#Playlists, k, embedding_dim) and y to 2D Matrix -> y: (#Playlists, embedding_dim)\n",
    "X_playlists_train, y_playlists_train = (np.array(item) for item in playlists_k_gram(playlists_train, playlist_max_len, step))\n",
    "X_playlists_val, y_playlists_val = (np.array(item) for item in playlists_k_gram(playlists_val, playlist_max_len, step))\n",
    "X_playlists_test, y_playlists_test = (np.array(item) for item in playlists_k_gram(playlists_test, playlist_max_len, step))\n",
    "\n",
    "print(f'X -> Train: {X_playlists_train.shape}, Val: {X_playlists_val.shape}, Test: {X_playlists_test.shape}')\n",
    "print(f'y -> Train: {y_playlists_train.shape}, Val: {y_playlists_val.shape}, Test: {y_playlists_test.shape}')"
   ]
  },
  {
   "cell_type": "code",
   "execution_count": 9,
   "metadata": {},
   "outputs": [],
   "source": [
    "# free RAM\n",
    "del playlists_train\n",
    "del playlists_val\n",
    "del playlists_test\n",
    "\n",
    "del playlists\n",
    "del tracks"
   ]
  },
  {
   "cell_type": "markdown",
   "metadata": {},
   "source": [
    "### Designing the neural network\n",
    "\n",
    "We will now define our neural network with Keras and LSTM:"
   ]
  },
  {
   "cell_type": "code",
   "execution_count": 11,
   "metadata": {
    "scrolled": true
   },
   "outputs": [
    {
     "name": "stdout",
     "output_type": "stream",
     "text": [
      "Model: \"sequential\"\n",
      "_________________________________________________________________\n",
      " Layer (type)                Output Shape              Param #   \n",
      "=================================================================\n",
      " lstm (LSTM)                 (None, 128)               219648    \n",
      "                                                                 \n",
      " dense (Dense)               (None, 300)               38700     \n",
      "                                                                 \n",
      "=================================================================\n",
      "Total params: 258,348\n",
      "Trainable params: 258,348\n",
      "Non-trainable params: 0\n",
      "_________________________________________________________________\n",
      "Epoch 1/20\n",
      "572/572 [==============================] - 19s 26ms/step - loss: 0.0074 - accuracy: 0.6261 - precision: 1.0000 - val_loss: 0.0067 - val_accuracy: 0.6581 - val_precision: 1.0000\n",
      "Epoch 2/20\n",
      "572/572 [==============================] - 15s 27ms/step - loss: 0.0067 - accuracy: 0.6482 - precision: 1.0000 - val_loss: 0.0067 - val_accuracy: 0.6437 - val_precision: 1.0000\n",
      "Epoch 3/20\n",
      "572/572 [==============================] - 15s 25ms/step - loss: 0.0067 - accuracy: 0.6497 - precision: 1.0000 - val_loss: 0.0066 - val_accuracy: 0.6649 - val_precision: 1.0000\n",
      "Epoch 4/20\n",
      "572/572 [==============================] - 15s 27ms/step - loss: 0.0066 - accuracy: 0.6513 - precision: 1.0000 - val_loss: 0.0066 - val_accuracy: 0.6604 - val_precision: 1.0000\n",
      "Epoch 5/20\n",
      "572/572 [==============================] - 15s 26ms/step - loss: 0.0066 - accuracy: 0.6536 - precision: 1.0000 - val_loss: 0.0066 - val_accuracy: 0.6620 - val_precision: 1.0000\n",
      "Epoch 6/20\n",
      "572/572 [==============================] - 15s 26ms/step - loss: 0.0066 - accuracy: 0.6536 - precision: 1.0000 - val_loss: 0.0066 - val_accuracy: 0.6644 - val_precision: 1.0000\n",
      "Epoch 7/20\n",
      "572/572 [==============================] - 15s 26ms/step - loss: 0.0066 - accuracy: 0.6550 - precision: 1.0000 - val_loss: 0.0066 - val_accuracy: 0.6728 - val_precision: 1.0000\n",
      "Epoch 8/20\n",
      "572/572 [==============================] - 15s 26ms/step - loss: 0.0066 - accuracy: 0.6558 - precision: 1.0000 - val_loss: 0.0065 - val_accuracy: 0.6631 - val_precision: 1.0000\n",
      "Epoch 9/20\n",
      "572/572 [==============================] - 15s 26ms/step - loss: 0.0066 - accuracy: 0.6564 - precision: 1.0000 - val_loss: 0.0065 - val_accuracy: 0.6695 - val_precision: 1.0000\n",
      "Epoch 10/20\n",
      "572/572 [==============================] - 15s 26ms/step - loss: 0.0065 - accuracy: 0.6563 - precision: 1.0000 - val_loss: 0.0066 - val_accuracy: 0.6691 - val_precision: 1.0000\n",
      "Epoch 11/20\n",
      "572/572 [==============================] - 15s 26ms/step - loss: 0.0065 - accuracy: 0.6563 - precision: 1.0000 - val_loss: 0.0066 - val_accuracy: 0.6591 - val_precision: 1.0000\n",
      "Epoch 12/20\n",
      "572/572 [==============================] - 17s 29ms/step - loss: 0.0065 - accuracy: 0.6585 - precision: 1.0000 - val_loss: 0.0065 - val_accuracy: 0.6702 - val_precision: 1.0000\n",
      "Epoch 13/20\n",
      "572/572 [==============================] - 16s 27ms/step - loss: 0.0065 - accuracy: 0.6578 - precision: 1.0000 - val_loss: 0.0065 - val_accuracy: 0.6675 - val_precision: 1.0000\n",
      "Epoch 14/20\n",
      "572/572 [==============================] - 15s 27ms/step - loss: 0.0065 - accuracy: 0.6584 - precision: 1.0000 - val_loss: 0.0065 - val_accuracy: 0.6706 - val_precision: 1.0000\n",
      "Epoch 15/20\n",
      "572/572 [==============================] - 15s 27ms/step - loss: 0.0065 - accuracy: 0.6591 - precision: 1.0000 - val_loss: 0.0065 - val_accuracy: 0.6642 - val_precision: 1.0000\n",
      "Epoch 16/20\n",
      "572/572 [==============================] - 15s 27ms/step - loss: 0.0065 - accuracy: 0.6604 - precision: 1.0000 - val_loss: 0.0065 - val_accuracy: 0.6703 - val_precision: 1.0000\n",
      "Epoch 17/20\n",
      "572/572 [==============================] - 15s 27ms/step - loss: 0.0065 - accuracy: 0.6598 - precision: 1.0000 - val_loss: 0.0065 - val_accuracy: 0.6697 - val_precision: 1.0000\n",
      "Epoch 18/20\n",
      "572/572 [==============================] - 16s 28ms/step - loss: 0.0065 - accuracy: 0.6603 - precision: 1.0000 - val_loss: 0.0065 - val_accuracy: 0.6716 - val_precision: 1.0000\n",
      "Epoch 19/20\n",
      "572/572 [==============================] - 15s 27ms/step - loss: 0.0065 - accuracy: 0.6598 - precision: 1.0000 - val_loss: 0.0065 - val_accuracy: 0.6744 - val_precision: 1.0000\n",
      "Epoch 20/20\n",
      "572/572 [==============================] - 16s 28ms/step - loss: 0.0065 - accuracy: 0.6592 - precision: 1.0000 - val_loss: 0.0065 - val_accuracy: 0.6686 - val_precision: 1.0000\n",
      "775/775 [==============================] - 4s 5ms/step - loss: 0.0065 - accuracy: 0.6646 - precision: 1.0000\n"
     ]
    }
   ],
   "source": [
    "# turn off tensorflow info and warning messages\n",
    "import os\n",
    "os.environ['TF_CPP_MIN_LOG_LEVEL'] = '2'\n",
    "\n",
    "from keras.metrics import Precision\n",
    "from keras.models import Sequential\n",
    "from keras.layers import Dense\n",
    "from keras.layers import LSTM\n",
    "from keras.callbacks import CSVLogger\n",
    "\n",
    "# Build the model\n",
    "embedding_dim = X_playlists_train.shape[2] # 300\n",
    "\n",
    "model = Sequential()\n",
    "model.add(LSTM(128, input_shape=(playlist_max_len, embedding_dim)))\n",
    "model.add(Dense(embedding_dim, activation='tanh')) # 300 values in [-1, 1] -> softmax not good choice\n",
    "model.compile(optimizer='adam', loss='mean_squared_error',\n",
    "              metrics=['accuracy', Precision()])\n",
    "model.summary()\n",
    "\n",
    "# Train the model\n",
    "epochs = 20\n",
    "batch_size = 128\n",
    "csv_logger = CSVLogger('training.log', separator=',', append=False)\n",
    "\n",
    "history = model.fit(X_playlists_train, y_playlists_train,\n",
    "          batch_size=batch_size, epochs=epochs,\n",
    "          validation_data=(X_playlists_val, y_playlists_val),\n",
    "          verbose=1, callbacks=[csv_logger])\n",
    "\n",
    "# Evaluate the model\n",
    "score = model.evaluate(X_playlists_test, y_playlists_test, verbose=1)"
   ]
  },
  {
   "cell_type": "markdown",
   "metadata": {},
   "source": [
    "Current model has a very accurancy of 66.46%. This accurancy was computed based on output vector and true vector. Small differences could lead to a different track uri, when converting the vec to a track uri. TODO: Precison always output 1 -> error ?"
   ]
  },
  {
   "cell_type": "code",
   "execution_count": 12,
   "metadata": {},
   "outputs": [
    {
     "name": "stdout",
     "output_type": "stream",
     "text": [
      "[0.006548554636538029, 0.6645538806915283, 1.0]\n"
     ]
    }
   ],
   "source": [
    "print(score)"
   ]
  },
  {
   "cell_type": "markdown",
   "metadata": {},
   "source": [
    "### Evolution of loss and accuracy"
   ]
  },
  {
   "cell_type": "code",
   "execution_count": null,
   "metadata": {},
   "outputs": [],
   "source": [
    "print(history.history.keys()) # Pression ?"
   ]
  },
  {
   "cell_type": "code",
   "execution_count": 48,
   "metadata": {},
   "outputs": [
    {
     "data": {
      "image/png": "[encoded data removed]",
      "text/plain": [
       "<Figure size 640x480 with 1 Axes>"
      ]
     },
     "metadata": {},
     "output_type": "display_data"
    }
   ],
   "source": [
    "import matplotlib.pyplot as plt\n",
    "\n",
    "history_dict = history.history\n",
    "train_loss = history_dict['loss']\n",
    "val_loss = history_dict['val_loss']\n",
    "\n",
    "epochs = range(1, len(train_loss) + 1)\n",
    "plt.title('Training and validation loss')\n",
    "plt.plot(epochs, train_loss, label='Training loss')\n",
    "plt.plot(epochs, val_loss, label='Validation loss')\n",
    "plt.xlabel('Epoch')\n",
    "plt.ylabel('Loss')\n",
    "plt.legend()\n",
    "plt.grid()\n",
    "plt.show()"
   ]
  },
  {
   "cell_type": "code",
   "execution_count": 49,
   "metadata": {},
   "outputs": [
    {
     "data": {
      "image/png": "[encoded data removed]",
      "text/plain": [
       "<Figure size 640x480 with 1 Axes>"
      ]
     },
     "metadata": {},
     "output_type": "display_data"
    }
   ],
   "source": [
    "import matplotlib.pyplot as plt\n",
    "\n",
    "history_dict = history.history\n",
    "train_acc = history_dict['accuracy']\n",
    "val_acc = history_dict['val_accuracy']\n",
    "\n",
    "epochs = range(1, len(train_loss) + 1)\n",
    "plt.title('Training and validation accuracy')\n",
    "plt.plot(epochs, train_acc, label='Training accuracy')\n",
    "plt.plot(epochs, val_acc, label='Validation accuracy')\n",
    "plt.xlabel('Epoch')\n",
    "plt.ylabel('Accuracy')\n",
    "plt.legend()\n",
    "plt.grid()\n",
    "plt.show()"
   ]
  },
  {
   "cell_type": "markdown",
   "metadata": {},
   "source": [
    "### Save and load the model"
   ]
  },
  {
   "cell_type": "code",
   "execution_count": 50,
   "metadata": {},
   "outputs": [],
   "source": [
    "model.save('../models/spotify_playlist.h5')"
   ]
  },
  {
   "cell_type": "code",
   "execution_count": null,
   "metadata": {},
   "outputs": [],
   "source": [
    "# turn off tensorflow info and warning messages\n",
    "import os\n",
    "os.environ['TF_CPP_MIN_LOG_LEVEL'] = '2'\n",
    "\n",
    "from keras.models import load_model\n",
    "# Recreate the exact same model, including its weights and the optimizer\n",
    "model = load_model('../models/spotify_playlist.h5')\n",
    "\n",
    "# Show the model architecture\n",
    "if model:\n",
    "    model.summary()"
   ]
  },
  {
   "cell_type": "code",
   "execution_count": 46,
   "metadata": {},
   "outputs": [],
   "source": [
    "def predict_next_song(song_uris: list[str]) -> str:\n",
    "    \"\"\"Predict the next possible song with help of a neurol network\"\"\"\n",
    "    if not model:\n",
    "        raise Exception(\"Model isn't loaded !\")\n",
    "\n",
    "    x = np.zeros((1, playlist_max_len, embedding_dim))\n",
    "    embedded_songs = [ convert_track_to_vec(song_uri) for song_uri in song_uris]\n",
    "    x[0] = np.array([embedded_songs])\n",
    "\n",
    "    next_song = model.predict(x, verbose=0)[0]\n",
    "\n",
    "    return convert_vec_to_track(np.asarray(next_song).astype('float64'))"
   ]
  },
  {
   "cell_type": "code",
   "execution_count": 47,
   "metadata": {},
   "outputs": [
    {
     "name": "stdout",
     "output_type": "stream",
     "text": [
      "spotify:track:0mqcxeYg1b57YjniPNTtQ6 spotify:track:4TTV7EcfroSLWzXRY6gLv6\n"
     ]
    }
   ],
   "source": [
    "playlists = pd.read_json(playlists_filename)\n",
    "song_uris = [song['track_uri'] for song in playlists.iloc[1]['tracks'][1:11]] # need 10 tracks\n",
    "pred_next_song = predict_next_song(song_uris)\n",
    "print(pred_next_song, playlists.iloc[1]['tracks'][11]['track_uri'])"
   ]
  },
  {
   "cell_type": "markdown",
   "metadata": {},
   "source": [
    "### Free data"
   ]
  },
  {
   "cell_type": "code",
   "execution_count": null,
   "metadata": {},
   "outputs": [],
   "source": [
    "# free ram\n",
    "del X_playlists_train\n",
    "del y_playlists_train\n",
    "del X_playlists_val\n",
    "del y_playlists_val\n",
    "del X_playlists_test\n",
    "del y_playlists_test"
   ]
  },
  {
   "cell_type": "markdown",
   "metadata": {},
   "source": [
    "## <span style=\"color:green\">Evaluation of each method</span>\n",
    "\n",
    "With k-gramm, with k previous songs we will attempted to find the direct next one.\n",
    "2nd variation: given k songs attempted to find a song that occur in the same playlist after these k songs\n",
    "3rd variation: given k songs, has the next song a common album / artist. (but none of our methods seems to find tracks only based on artists or album, but more about the surrounding contxt, which could replace a genre parameter)"
   ]
  },
  {
   "cell_type": "code",
   "execution_count": 78,
   "metadata": {},
   "outputs": [],
   "source": [
    "from typing import Callable\n",
    "from tqdm import tqdm # progression bar\n",
    "\n",
    "def eval_baseline_method(X: list[list[str]],\n",
    "                         y: list[str],\n",
    "                         method: Callable[[list[str]], str|None]) -> dict[str, int]:\n",
    "    score = {\n",
    "        'true': 0,\n",
    "        'total': len(X)\n",
    "    }\n",
    "    \n",
    "    for index in tqdm(range(len(X))):\n",
    "        next_song = method(X[index])\n",
    "        \n",
    "        if next_song == y[index]:\n",
    "            score['true'] += 1\n",
    "\n",
    "    return score"
   ]
  },
  {
   "cell_type": "code",
   "execution_count": 38,
   "metadata": {},
   "outputs": [],
   "source": [
    "# exec on every opening\n",
    "# reload tracks and playlists for baseline methods\n",
    "import pandas as pd\n",
    "\n",
    "track_uris = pd.read_json(tracks_filename)\n",
    "playlists = pd.read_json(playlists_filename)"
   ]
  },
  {
   "cell_type": "markdown",
   "metadata": {},
   "source": [
    "We will need to split our test data with track uris into lists of K-gramms. The same parameters as for the neural network will be used here for evaluating all three methods:\n",
    "- 2 baseline methods:\n",
    "    - `get_random_song`: this method should have a bad score, as their is a chace of $\\frac{1}{|tracks|}$ to pick the next rigth song.\n",
    "    - `get_next_song`: this method needs to go throutgh each playlists and should have a better score than the random method. As our tests has shown, the next track is not always the real next one. With not exist combination of tracks, the returned value could be None.\n",
    "- `get_next_similar_song`: this method use the computed Word2Vec embedding model and cosinus similarity to pick the next song. This method is more flexible than `get_next_song` for unseen combination of tracks."
   ]
  },
  {
   "cell_type": "code",
   "execution_count": 84,
   "metadata": {
    "scrolled": true
   },
   "outputs": [],
   "source": [
    "# test data for evaluation of baseline methods -> 20% of the 20.000 playlists\n",
    "X_test_baseline, y_test_baseline = playlists_k_gram(playlists_test_baseline, playlist_max_len, step)"
   ]
  },
  {
   "cell_type": "code",
   "execution_count": 91,
   "metadata": {},
   "outputs": [
    {
     "name": "stderr",
     "output_type": "stream",
     "text": [
      "100%|██████████| 24770/24770 [02:15<00:00, 183.00it/s]"
     ]
    },
    {
     "name": "stdout",
     "output_type": "stream",
     "text": [
      "random: {'true': 0, 'total': 24770}, Precision: 0.0\n"
     ]
    },
    {
     "name": "stderr",
     "output_type": "stream",
     "text": [
      "\n"
     ]
    }
   ],
   "source": [
    "## maybe test for unseen sequence of songs too\n",
    "score = eval_baseline_method(X_test_baseline, y_test_baseline, get_random_next_song)\n",
    "print(f'random: {score}, Precision: {score[\"true\"]/score[\"total\"]}')"
   ]
  },
  {
   "cell_type": "code",
   "execution_count": 90,
   "metadata": {},
   "outputs": [
    {
     "name": "stderr",
     "output_type": "stream",
     "text": [
      "  0%|          | 23/24770 [00:03<1:10:22,  5.86it/s]\n"
     ]
    },
    {
     "ename": "KeyboardInterrupt",
     "evalue": "",
     "output_type": "error",
     "traceback": [
      "\u001b[1;31m---------------------------------------------------------------------------\u001b[0m",
      "\u001b[1;31mKeyboardInterrupt\u001b[0m                         Traceback (most recent call last)",
      "Cell \u001b[1;32mIn[90], line 1\u001b[0m\n\u001b[1;32m----> 1\u001b[0m score \u001b[39m=\u001b[39m eval_baseline_method(X_test_baseline, y_test_baseline, get_next_song)\n\u001b[0;32m      2\u001b[0m \u001b[39mprint\u001b[39m(\u001b[39mf\u001b[39m\u001b[39m'\u001b[39m\u001b[39mtable scan: \u001b[39m\u001b[39m{\u001b[39;00mscore\u001b[39m}\u001b[39;00m\u001b[39m, Precision: \u001b[39m\u001b[39m{\u001b[39;00mscore[\u001b[39m\"\u001b[39m\u001b[39mtrue\u001b[39m\u001b[39m\"\u001b[39m]\u001b[39m/\u001b[39mscore[\u001b[39m\"\u001b[39m\u001b[39mtotal\u001b[39m\u001b[39m\"\u001b[39m]\u001b[39m}\u001b[39;00m\u001b[39m'\u001b[39m)\n",
      "Cell \u001b[1;32mIn[78], line 13\u001b[0m, in \u001b[0;36meval_baseline_method\u001b[1;34m(X, y, method)\u001b[0m\n\u001b[0;32m      7\u001b[0m score \u001b[39m=\u001b[39m {\n\u001b[0;32m      8\u001b[0m     \u001b[39m'\u001b[39m\u001b[39mtrue\u001b[39m\u001b[39m'\u001b[39m: \u001b[39m0\u001b[39m,\n\u001b[0;32m      9\u001b[0m     \u001b[39m'\u001b[39m\u001b[39mtotal\u001b[39m\u001b[39m'\u001b[39m: \u001b[39mlen\u001b[39m(X)\n\u001b[0;32m     10\u001b[0m }\n\u001b[0;32m     12\u001b[0m \u001b[39mfor\u001b[39;00m index \u001b[39min\u001b[39;00m tqdm(\u001b[39mrange\u001b[39m(\u001b[39mlen\u001b[39m(X))):\n\u001b[1;32m---> 13\u001b[0m     next_song \u001b[39m=\u001b[39m method(X[index])\n\u001b[0;32m     15\u001b[0m     \u001b[39mif\u001b[39;00m next_song \u001b[39m==\u001b[39m y[index]:\n\u001b[0;32m     16\u001b[0m         score[\u001b[39m'\u001b[39m\u001b[39mtrue\u001b[39m\u001b[39m'\u001b[39m] \u001b[39m+\u001b[39m\u001b[39m=\u001b[39m \u001b[39m1\u001b[39m\n",
      "Cell \u001b[1;32mIn[88], line 11\u001b[0m, in \u001b[0;36mget_next_song\u001b[1;34m(song_uris)\u001b[0m\n\u001b[0;32m      8\u001b[0m \u001b[39mfor\u001b[39;00m tracks \u001b[39min\u001b[39;00m playlists[\u001b[39m'\u001b[39m\u001b[39mtracks\u001b[39m\u001b[39m'\u001b[39m]:\n\u001b[0;32m      9\u001b[0m     track_uris \u001b[39m=\u001b[39m [track[\u001b[39m'\u001b[39m\u001b[39mtrack_uri\u001b[39m\u001b[39m'\u001b[39m] \u001b[39mfor\u001b[39;00m track \u001b[39min\u001b[39;00m tracks]\n\u001b[1;32m---> 11\u001b[0m     \u001b[39mif\u001b[39;00m \u001b[39mnot\u001b[39;00m \u001b[39mall\u001b[39m(song \u001b[39min\u001b[39;00m track_uris \u001b[39mfor\u001b[39;00m song \u001b[39min\u001b[39;00m song_uris): \u001b[39m# check if every songs are contained\u001b[39;00m\n\u001b[0;32m     12\u001b[0m         \u001b[39mcontinue\u001b[39;00m\n\u001b[0;32m     14\u001b[0m     songs_count \u001b[39m=\u001b[39m \u001b[39m0\u001b[39m\n",
      "\u001b[1;31mKeyboardInterrupt\u001b[0m: "
     ]
    }
   ],
   "source": [
    "score = eval_baseline_method(X_test_baseline, y_test_baseline, get_next_song)\n",
    "print(f'table scan: {score}, Precision: {score[\"true\"]/score[\"total\"]}')"
   ]
  },
  {
   "cell_type": "code",
   "execution_count": 64,
   "metadata": {},
   "outputs": [
    {
     "name": "stderr",
     "output_type": "stream",
     "text": [
      "100%|██████████| 24770/24770 [08:08<00:00, 50.73it/s]"
     ]
    },
    {
     "name": "stdout",
     "output_type": "stream",
     "text": [
      "track2vec and cosine similarity: {'true': 87, 'total': 24770}, Precision: 0.003512313282196205\n"
     ]
    },
    {
     "name": "stderr",
     "output_type": "stream",
     "text": [
      "\n"
     ]
    }
   ],
   "source": [
    "score = eval_baseline_method(X_test_baseline, y_test_baseline, get_next_similar_song)\n",
    "print(f'track2vec and cosine similarity: {score}, Precision: {score[\"true\"]/score[\"total\"]}')"
   ]
  }
 ],
 "metadata": {
  "colab": {
   "provenance": []
  },
  "kernelspec": {
   "display_name": "Python 3 (ipykernel)",
   "language": "python",
   "name": "python3"
  },
  "language_info": {
   "codemirror_mode": {
    "name": "ipython",
    "version": 3
   },
   "file_extension": ".py",
   "mimetype": "text/x-python",
   "name": "python",
   "nbconvert_exporter": "python",
   "pygments_lexer": "ipython3",
   "version": "3.11.4"
  }
 },
 "nbformat": 4,
 "nbformat_minor": 1
}
