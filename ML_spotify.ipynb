{
 "cells": [
  {
   "cell_type": "markdown",
   "metadata": {
    "id": "wcsE9uVTUBOM"
   },
   "source": [
    "# <span style=\"color:red\">Deep Learning Project: Music Playlist Generation based on Spotify Playlists</span>\n",
    "\n",
    "This project was realized by Alexandre Felix and Jérémy Houdé for the Deep Learning lesson in SoSe 2023. The goal of the project was to automatically generate playlists, based on the [Spotify Millon Playlist Dataset](https://www.aicrowd.com/challenges/spotify-million-playlist-dataset-challenge). With one or multiple songs, the method should be able to append new relevant songs to the initial playlist.\n",
    "\n",
    "## <span style=\"color:green\">Spotify Millon Playlist Dataset</span>\n",
    "\n",
    "The data is stored in a ZIP file, in which data are stored in multiple json slices. Each json file contains 1,000 playlists and are named as\n",
    "```\n",
    "mpd.slice.{start_playlist_ID}-{end_playlist_ID}.json\n",
    "```\n",
    "\n",
    "Stored data has following structure for each json slice:\n",
    "```json\n",
    "{\n",
    "    'info' { ... },\n",
    "    'playlists': {\n",
    "        \"name\": \"musical\",\n",
    "        \"collaborative\": \"false\",\n",
    "        \"pid\": 5,\n",
    "        \"modified_at\": 1493424000,\n",
    "        \"num_albums\": 7,\n",
    "        \"num_tracks\": 12,\n",
    "        \"num_followers\": 1,\n",
    "        \"num_edits\": 2,\n",
    "        \"duration_ms\": 2657366,\n",
    "        \"num_artists\": 6,\n",
    "        \"tracks\": [\n",
    "            {\n",
    "                \"pos\": 0,\n",
    "                \"artist_name\": \"Degiheugi\",\n",
    "                \"track_uri\": \"spotify:track:7vqa3sDmtEaVJ2gcvxtRID\",\n",
    "                \"artist_uri\": \"spotify:artist:3V2paBXEoZIAhfZRJmo2jL\",\n",
    "                \"track_name\": \"Finalement\",\n",
    "                \"album_uri\": \"spotify:album:2KrRMJ9z7Xjoz1Az4O6UML\",\n",
    "                \"duration_ms\": 166264,\n",
    "                \"album_name\": \"Dancing Chords and Fireflies\"\n",
    "            }\n",
    "    }\n",
    "}\n",
    "```\n",
    "\n",
    "We are interested by the stored tracks in each playlist and of course about the tracks.\n",
    "\n",
    "### Load data\n",
    "\n",
    "The unziped data weigth more than 40 GB. Because of RAM or vRAM limitations, we will only use a subset for our experiments. The selected subset will contains the first 50,000 playlists, contained in the first 50 files. We have firstly tested with 200 and 150 files, but both needed to much RAM for our computers.\n",
    "By extrating the data, we are only insteressed by the playlists array."
   ]
  },
  {
   "cell_type": "code",
   "execution_count": 1,
   "metadata": {
    "id": "RW-_nJC2sYAF"
   },
   "outputs": [],
   "source": [
    "import json\n",
    "import fnmatch\n",
    "from tqdm import tqdm # progression bar\n",
    "from zipfile import ZipFile\n",
    "\n",
    "def load_zip_data(zip_file: str, num_slices: int) -> list[dict]:\n",
    "    with ZipFile(zip_file) as zipfiles: # open ZIP file\n",
    "        file_list = zipfiles.namelist()\n",
    "\n",
    "        json_files = fnmatch.filter(file_list, \"*.json\")\n",
    "        json_files = [file for index,file in sorted([(int(filename.split('.')[2].split('-')[0]), filename) for filename in json_files])]\n",
    "        playlists: list[dict] = []\n",
    "\n",
    "        for filename in tqdm(json_files[:num_slices]): # for each json file\n",
    "            with zipfiles.open(filename) as json_file:\n",
    "                current_slice = json.loads(json_file.read())\n",
    "                playlists.extend(current_slice['playlists']) # add new playlists\n",
    "\n",
    "        return playlists"
   ]
  },
  {
   "cell_type": "markdown",
   "metadata": {
    "id": "OnYDBiWTaxGS"
   },
   "source": [
    "We will now extract the first 20,000 playlists and fit it into a pandas dataframe.\n",
    "\n",
    "\n",
    "We will keep folling data:\n",
    "```json\n",
    "{\n",
    "    'playlists': {\n",
    "        \"num_tracks\": 12,\n",
    "        \"duration_ms\": 2657366,\n",
    "        \"tracks\": [\n",
    "            {\n",
    "                \"track_uri\": \"spotify:track:7vqa3sDmtEaVJ2gcvxtRID\",\n",
    "                \"artist_uri\": \"spotify:artist:3V2paBXEoZIAhfZRJmo2jL\",\n",
    "                \"album_uri\": \"spotify:album:2KrRMJ9z7Xjoz1Az4O6UML\",\n",
    "                \"duration_ms\": 166264\n",
    "            }\n",
    "        ]\n",
    "    }\n",
    "}\n",
    "```\n",
    "- We consider the link to the artist and album, and the song duration as importants data for each song.\n",
    "- Unfortunately, the genre wasn't stored in the initial database\n",
    "\n",
    "For this project following folders are required:\n",
    "- `./data`\n",
    "- `./models`\n",
    "\n",
    "Please place `spotify_million_playlist_dataset.zip` in the folder `./data` or adapt the cells"
   ]
  },
  {
   "cell_type": "code",
   "execution_count": 2,
   "metadata": {
    "colab": {
     "base_uri": "https://localhost:8080/",
     "height": 236
    },
    "id": "ZHTopxbQse5j",
    "outputId": "73a10b55-71bf-4799-dde3-7e7ccca94ff7"
   },
   "outputs": [
    {
     "name": "stderr",
     "output_type": "stream",
     "text": [
      "100%|██████████| 20/20 [00:07<00:00,  2.68it/s]\n"
     ]
    }
   ],
   "source": [
    "import pandas as pd\n",
    "\n",
    "zip_file = 'data/spotify_million_playlist_dataset.zip'\n",
    "playlists_dict = load_zip_data(zip_file, 20)\n",
    "\n",
    "playlists = pd.DataFrame(playlists_dict, columns = [\"tracks\", \"num_tracks\", \"duration_ms\"])"
   ]
  },
  {
   "cell_type": "markdown",
   "metadata": {
    "id": "7Eygcr1_bLI5"
   },
   "source": [
    "We remove now the unnecessary data in each track. We only keep as IDs the uris and we make the assuption that the duration is an important factor for the conception of a playlist."
   ]
  },
  {
   "cell_type": "code",
   "execution_count": 3,
   "metadata": {
    "colab": {
     "base_uri": "https://localhost:8080/",
     "height": 236
    },
    "id": "WBkwCGVKbEwP",
    "outputId": "af5d89a1-fa1f-4130-ef00-a41069b38a11"
   },
   "outputs": [],
   "source": [
    "# remove from tracks not needed information\n",
    "for tracks in playlists['tracks']:\n",
    "    for track in tracks:\n",
    "        del track['pos']\n",
    "        del track['artist_name']\n",
    "        del track['track_name']\n",
    "        del track['album_name']"
   ]
  },
  {
   "cell_type": "markdown",
   "metadata": {},
   "source": [
    "### 20,000 first playlists"
   ]
  },
  {
   "cell_type": "code",
   "execution_count": 4,
   "metadata": {
    "id": "-Ghnlv9qbJ9s"
   },
   "outputs": [
    {
     "data": {
      "text/html": [
       "<div>\n",
       "<style scoped>\n",
       "    .dataframe tbody tr th:only-of-type {\n",
       "        vertical-align: middle;\n",
       "    }\n",
       "\n",
       "    .dataframe tbody tr th {\n",
       "        vertical-align: top;\n",
       "    }\n",
       "\n",
       "    .dataframe thead th {\n",
       "        text-align: right;\n",
       "    }\n",
       "</style>\n",
       "<table border=\"1\" class=\"dataframe\">\n",
       "  <thead>\n",
       "    <tr style=\"text-align: right;\">\n",
       "      <th></th>\n",
       "      <th>tracks</th>\n",
       "      <th>num_tracks</th>\n",
       "      <th>duration_ms</th>\n",
       "    </tr>\n",
       "  </thead>\n",
       "  <tbody>\n",
       "    <tr>\n",
       "      <th>0</th>\n",
       "      <td>[{'track_uri': 'spotify:track:0UaMYEvWZi0ZqiDO...</td>\n",
       "      <td>52</td>\n",
       "      <td>11532414</td>\n",
       "    </tr>\n",
       "    <tr>\n",
       "      <th>1</th>\n",
       "      <td>[{'track_uri': 'spotify:track:2HHtWyy5CgaQbC7X...</td>\n",
       "      <td>39</td>\n",
       "      <td>11656470</td>\n",
       "    </tr>\n",
       "    <tr>\n",
       "      <th>2</th>\n",
       "      <td>[{'track_uri': 'spotify:track:74tqql9zP6JjF5hj...</td>\n",
       "      <td>64</td>\n",
       "      <td>14039958</td>\n",
       "    </tr>\n",
       "    <tr>\n",
       "      <th>3</th>\n",
       "      <td>[{'track_uri': 'spotify:track:4WJ7UMD4i6DOPzyX...</td>\n",
       "      <td>126</td>\n",
       "      <td>28926058</td>\n",
       "    </tr>\n",
       "    <tr>\n",
       "      <th>4</th>\n",
       "      <td>[{'track_uri': 'spotify:track:4iCGSi1RonREsPtf...</td>\n",
       "      <td>17</td>\n",
       "      <td>4335282</td>\n",
       "    </tr>\n",
       "    <tr>\n",
       "      <th>...</th>\n",
       "      <td>...</td>\n",
       "      <td>...</td>\n",
       "      <td>...</td>\n",
       "    </tr>\n",
       "    <tr>\n",
       "      <th>19995</th>\n",
       "      <td>[{'track_uri': 'spotify:track:64j3Bd62HTe0pclk...</td>\n",
       "      <td>18</td>\n",
       "      <td>4614171</td>\n",
       "    </tr>\n",
       "    <tr>\n",
       "      <th>19996</th>\n",
       "      <td>[{'track_uri': 'spotify:track:09OojFvtrM9YRzRj...</td>\n",
       "      <td>24</td>\n",
       "      <td>4675554</td>\n",
       "    </tr>\n",
       "    <tr>\n",
       "      <th>19997</th>\n",
       "      <td>[{'track_uri': 'spotify:track:4lNznSUjByH5zWpP...</td>\n",
       "      <td>106</td>\n",
       "      <td>28912970</td>\n",
       "    </tr>\n",
       "    <tr>\n",
       "      <th>19998</th>\n",
       "      <td>[{'track_uri': 'spotify:track:1yy2DlSDtEt90d54...</td>\n",
       "      <td>36</td>\n",
       "      <td>9374114</td>\n",
       "    </tr>\n",
       "    <tr>\n",
       "      <th>19999</th>\n",
       "      <td>[{'track_uri': 'spotify:track:6bFsQ6yOp3z5mGNk...</td>\n",
       "      <td>10</td>\n",
       "      <td>2285167</td>\n",
       "    </tr>\n",
       "  </tbody>\n",
       "</table>\n",
       "<p>20000 rows × 3 columns</p>\n",
       "</div>"
      ],
      "text/plain": [
       "                                                  tracks  num_tracks  \\\n",
       "0      [{'track_uri': 'spotify:track:0UaMYEvWZi0ZqiDO...          52   \n",
       "1      [{'track_uri': 'spotify:track:2HHtWyy5CgaQbC7X...          39   \n",
       "2      [{'track_uri': 'spotify:track:74tqql9zP6JjF5hj...          64   \n",
       "3      [{'track_uri': 'spotify:track:4WJ7UMD4i6DOPzyX...         126   \n",
       "4      [{'track_uri': 'spotify:track:4iCGSi1RonREsPtf...          17   \n",
       "...                                                  ...         ...   \n",
       "19995  [{'track_uri': 'spotify:track:64j3Bd62HTe0pclk...          18   \n",
       "19996  [{'track_uri': 'spotify:track:09OojFvtrM9YRzRj...          24   \n",
       "19997  [{'track_uri': 'spotify:track:4lNznSUjByH5zWpP...         106   \n",
       "19998  [{'track_uri': 'spotify:track:1yy2DlSDtEt90d54...          36   \n",
       "19999  [{'track_uri': 'spotify:track:6bFsQ6yOp3z5mGNk...          10   \n",
       "\n",
       "       duration_ms  \n",
       "0         11532414  \n",
       "1         11656470  \n",
       "2         14039958  \n",
       "3         28926058  \n",
       "4          4335282  \n",
       "...            ...  \n",
       "19995      4614171  \n",
       "19996      4675554  \n",
       "19997     28912970  \n",
       "19998      9374114  \n",
       "19999      2285167  \n",
       "\n",
       "[20000 rows x 3 columns]"
      ]
     },
     "execution_count": 4,
     "metadata": {},
     "output_type": "execute_result"
    }
   ],
   "source": [
    "playlists"
   ]
  },
  {
   "cell_type": "markdown",
   "metadata": {},
   "source": [
    "### Unique tracks\n",
    "\n",
    "We will store all tracks in a separate DataFrame. This will be usefull later for track embeddings and for the random base line method `get_next_random_song`."
   ]
  },
  {
   "cell_type": "code",
   "execution_count": 5,
   "metadata": {},
   "outputs": [
    {
     "data": {
      "text/html": [
       "<div>\n",
       "<style scoped>\n",
       "    .dataframe tbody tr th:only-of-type {\n",
       "        vertical-align: middle;\n",
       "    }\n",
       "\n",
       "    .dataframe tbody tr th {\n",
       "        vertical-align: top;\n",
       "    }\n",
       "\n",
       "    .dataframe thead th {\n",
       "        text-align: right;\n",
       "    }\n",
       "</style>\n",
       "<table border=\"1\" class=\"dataframe\">\n",
       "  <thead>\n",
       "    <tr style=\"text-align: right;\">\n",
       "      <th></th>\n",
       "      <th>track_uri</th>\n",
       "      <th>artist_uri</th>\n",
       "      <th>album_uri</th>\n",
       "      <th>duration_ms</th>\n",
       "    </tr>\n",
       "  </thead>\n",
       "  <tbody>\n",
       "    <tr>\n",
       "      <th>0</th>\n",
       "      <td>spotify:track:0UaMYEvWZi0ZqiDOoHU3YI</td>\n",
       "      <td>spotify:artist:2wIVse2owClT7go1WT98tk</td>\n",
       "      <td>spotify:album:6vV5UrXcfyQD1wu4Qo2I9K</td>\n",
       "      <td>226863</td>\n",
       "    </tr>\n",
       "    <tr>\n",
       "      <th>1</th>\n",
       "      <td>spotify:track:6I9VzXrHxO9rA9A5euc8Ak</td>\n",
       "      <td>spotify:artist:26dSoYclwsYLMAKD3tpOr4</td>\n",
       "      <td>spotify:album:0z7pVBGOD7HCIB7S8eLkLI</td>\n",
       "      <td>198800</td>\n",
       "    </tr>\n",
       "    <tr>\n",
       "      <th>2</th>\n",
       "      <td>spotify:track:0WqIKmW4BTrj3eJFmnCKMv</td>\n",
       "      <td>spotify:artist:6vWDO969PvNqNYHIOW5v0m</td>\n",
       "      <td>spotify:album:25hVFAxTlDvXbx2X2QkUkE</td>\n",
       "      <td>235933</td>\n",
       "    </tr>\n",
       "    <tr>\n",
       "      <th>3</th>\n",
       "      <td>spotify:track:1AWQoqb9bSvzTjaLralEkT</td>\n",
       "      <td>spotify:artist:31TPClRtHm23RisEBtV3X7</td>\n",
       "      <td>spotify:album:6QPkyl04rXwTGlGlcYaRoW</td>\n",
       "      <td>267266</td>\n",
       "    </tr>\n",
       "    <tr>\n",
       "      <th>4</th>\n",
       "      <td>spotify:track:1lzr43nnXAijIGYnCT8M8H</td>\n",
       "      <td>spotify:artist:5EvFsr3kj42KNv97ZEnqij</td>\n",
       "      <td>spotify:album:6NmFmPX56pcLBOFMhIiKvF</td>\n",
       "      <td>227600</td>\n",
       "    </tr>\n",
       "    <tr>\n",
       "      <th>...</th>\n",
       "      <td>...</td>\n",
       "      <td>...</td>\n",
       "      <td>...</td>\n",
       "      <td>...</td>\n",
       "    </tr>\n",
       "    <tr>\n",
       "      <th>263464</th>\n",
       "      <td>spotify:track:2MQ9NWMZfi0qPUhDR6sRCL</td>\n",
       "      <td>spotify:artist:278ZYwGhdK6QTzE3MFePnP</td>\n",
       "      <td>spotify:album:0kIXzVzbFuUf5kxM8US67m</td>\n",
       "      <td>297053</td>\n",
       "    </tr>\n",
       "    <tr>\n",
       "      <th>263465</th>\n",
       "      <td>spotify:track:4eOptezifAi7VpOoz9lu4r</td>\n",
       "      <td>spotify:artist:2ye2Wgw4gimLv2eAKyk1NB</td>\n",
       "      <td>spotify:album:6VeUJmkLCGWRiF8j6RrIEx</td>\n",
       "      <td>301293</td>\n",
       "    </tr>\n",
       "    <tr>\n",
       "      <th>263466</th>\n",
       "      <td>spotify:track:2FvIkVNVEmiAaasafDSWSV</td>\n",
       "      <td>spotify:artist:6PWU6JQvvYv5sz5FOODHg6</td>\n",
       "      <td>spotify:album:2rkBQR8GIeP8XlEYrp6DsM</td>\n",
       "      <td>250506</td>\n",
       "    </tr>\n",
       "    <tr>\n",
       "      <th>263467</th>\n",
       "      <td>spotify:track:48ifRcXHbUjc1moUjJcwhx</td>\n",
       "      <td>spotify:artist:6UfoTQXaV3DuqtDVjZIxwZ</td>\n",
       "      <td>spotify:album:1p5T4GozRHLUxtaLN46sLz</td>\n",
       "      <td>319760</td>\n",
       "    </tr>\n",
       "    <tr>\n",
       "      <th>263468</th>\n",
       "      <td>spotify:track:6D9NVW0lw9DWn1Mf7sTv3M</td>\n",
       "      <td>spotify:artist:4sv6VJ2QZlaSosz3kFlxQH</td>\n",
       "      <td>spotify:album:6kbLrubAR0s4q9y0TRUeM6</td>\n",
       "      <td>231933</td>\n",
       "    </tr>\n",
       "  </tbody>\n",
       "</table>\n",
       "<p>263469 rows × 4 columns</p>\n",
       "</div>"
      ],
      "text/plain": [
       "                                   track_uri  \\\n",
       "0       spotify:track:0UaMYEvWZi0ZqiDOoHU3YI   \n",
       "1       spotify:track:6I9VzXrHxO9rA9A5euc8Ak   \n",
       "2       spotify:track:0WqIKmW4BTrj3eJFmnCKMv   \n",
       "3       spotify:track:1AWQoqb9bSvzTjaLralEkT   \n",
       "4       spotify:track:1lzr43nnXAijIGYnCT8M8H   \n",
       "...                                      ...   \n",
       "263464  spotify:track:2MQ9NWMZfi0qPUhDR6sRCL   \n",
       "263465  spotify:track:4eOptezifAi7VpOoz9lu4r   \n",
       "263466  spotify:track:2FvIkVNVEmiAaasafDSWSV   \n",
       "263467  spotify:track:48ifRcXHbUjc1moUjJcwhx   \n",
       "263468  spotify:track:6D9NVW0lw9DWn1Mf7sTv3M   \n",
       "\n",
       "                                   artist_uri  \\\n",
       "0       spotify:artist:2wIVse2owClT7go1WT98tk   \n",
       "1       spotify:artist:26dSoYclwsYLMAKD3tpOr4   \n",
       "2       spotify:artist:6vWDO969PvNqNYHIOW5v0m   \n",
       "3       spotify:artist:31TPClRtHm23RisEBtV3X7   \n",
       "4       spotify:artist:5EvFsr3kj42KNv97ZEnqij   \n",
       "...                                       ...   \n",
       "263464  spotify:artist:278ZYwGhdK6QTzE3MFePnP   \n",
       "263465  spotify:artist:2ye2Wgw4gimLv2eAKyk1NB   \n",
       "263466  spotify:artist:6PWU6JQvvYv5sz5FOODHg6   \n",
       "263467  spotify:artist:6UfoTQXaV3DuqtDVjZIxwZ   \n",
       "263468  spotify:artist:4sv6VJ2QZlaSosz3kFlxQH   \n",
       "\n",
       "                                   album_uri  duration_ms  \n",
       "0       spotify:album:6vV5UrXcfyQD1wu4Qo2I9K       226863  \n",
       "1       spotify:album:0z7pVBGOD7HCIB7S8eLkLI       198800  \n",
       "2       spotify:album:25hVFAxTlDvXbx2X2QkUkE       235933  \n",
       "3       spotify:album:6QPkyl04rXwTGlGlcYaRoW       267266  \n",
       "4       spotify:album:6NmFmPX56pcLBOFMhIiKvF       227600  \n",
       "...                                      ...          ...  \n",
       "263464  spotify:album:0kIXzVzbFuUf5kxM8US67m       297053  \n",
       "263465  spotify:album:6VeUJmkLCGWRiF8j6RrIEx       301293  \n",
       "263466  spotify:album:2rkBQR8GIeP8XlEYrp6DsM       250506  \n",
       "263467  spotify:album:1p5T4GozRHLUxtaLN46sLz       319760  \n",
       "263468  spotify:album:6kbLrubAR0s4q9y0TRUeM6       231933  \n",
       "\n",
       "[263469 rows x 4 columns]"
      ]
     },
     "execution_count": 5,
     "metadata": {},
     "output_type": "execute_result"
    }
   ],
   "source": [
    "tracks = pd.json_normalize(playlists_dict, record_path=['tracks'])\n",
    "tracks.drop_duplicates(inplace=True, ignore_index=True)\n",
    "\n",
    "# free RAM\n",
    "del playlists_dict\n",
    "\n",
    "tracks"
   ]
  },
  {
   "cell_type": "markdown",
   "metadata": {},
   "source": [
    "Check if duplicates are removed:"
   ]
  },
  {
   "cell_type": "code",
   "execution_count": 6,
   "metadata": {},
   "outputs": [
    {
     "data": {
      "text/html": [
       "<div>\n",
       "<style scoped>\n",
       "    .dataframe tbody tr th:only-of-type {\n",
       "        vertical-align: middle;\n",
       "    }\n",
       "\n",
       "    .dataframe tbody tr th {\n",
       "        vertical-align: top;\n",
       "    }\n",
       "\n",
       "    .dataframe thead th {\n",
       "        text-align: right;\n",
       "    }\n",
       "</style>\n",
       "<table border=\"1\" class=\"dataframe\">\n",
       "  <thead>\n",
       "    <tr style=\"text-align: right;\">\n",
       "      <th></th>\n",
       "      <th>track_uri</th>\n",
       "      <th>artist_uri</th>\n",
       "      <th>album_uri</th>\n",
       "      <th>duration_ms</th>\n",
       "    </tr>\n",
       "  </thead>\n",
       "  <tbody>\n",
       "    <tr>\n",
       "      <th>40</th>\n",
       "      <td>spotify:track:2jFlMILIQzs7lSFudG9lbo</td>\n",
       "      <td>spotify:artist:6wPhSqRtPu1UhRCDX5yaDJ</td>\n",
       "      <td>spotify:album:0ylxpXE00fVxh6d60tevT8</td>\n",
       "      <td>229360</td>\n",
       "    </tr>\n",
       "  </tbody>\n",
       "</table>\n",
       "</div>"
      ],
      "text/plain": [
       "                               track_uri  \\\n",
       "40  spotify:track:2jFlMILIQzs7lSFudG9lbo   \n",
       "\n",
       "                               artist_uri  \\\n",
       "40  spotify:artist:6wPhSqRtPu1UhRCDX5yaDJ   \n",
       "\n",
       "                               album_uri  duration_ms  \n",
       "40  spotify:album:0ylxpXE00fVxh6d60tevT8       229360  "
      ]
     },
     "execution_count": 6,
     "metadata": {},
     "output_type": "execute_result"
    }
   ],
   "source": [
    "song = tracks.loc[tracks['track_uri'] == 'spotify:track:2jFlMILIQzs7lSFudG9lbo']\n",
    "song"
   ]
  },
  {
   "cell_type": "markdown",
   "metadata": {},
   "source": [
    "### Save or reload data"
   ]
  },
  {
   "cell_type": "code",
   "execution_count": 7,
   "metadata": {},
   "outputs": [],
   "source": [
    "# exec on every opening\n",
    "tracks_filename = 'data/tracks.json'\n",
    "playlists_filename = 'data/playlists.json'"
   ]
  },
  {
   "cell_type": "markdown",
   "metadata": {},
   "source": [
    "Save data as json files:"
   ]
  },
  {
   "cell_type": "code",
   "execution_count": 8,
   "metadata": {},
   "outputs": [],
   "source": [
    "playlists.to_json(playlists_filename)\n",
    "tracks.to_json(tracks_filename)"
   ]
  },
  {
   "cell_type": "markdown",
   "metadata": {},
   "source": [
    "When needed, reload processed tracks and playlists from json files:"
   ]
  },
  {
   "cell_type": "code",
   "execution_count": 19,
   "metadata": {},
   "outputs": [],
   "source": [
    "# exec on every opening\n",
    "import pandas as pd\n",
    "\n",
    "tracks = pd.read_json(tracks_filename)\n",
    "playlists = pd.read_json(playlists_filename)"
   ]
  },
  {
   "cell_type": "markdown",
   "metadata": {},
   "source": [
    "## <span style=\"color:green\">Defining baseline methods</span>\n",
    "\n",
    "before looking to the architecture of the neural network, we will first define a baseline methods to compare against.\n",
    "This method should get as an input k songs or tracks with the selected data and add a new song, that could work with.\n",
    "\n",
    "We will here test both methods on some playlist and analyse the result. [We will later evaluated both baseline methods with the neural network by using k-gramm and analysing the playlist generation as a binary problem]\n",
    "\n",
    "### Random baseline\n",
    "\n",
    "the random baseline takes one random song from the tracks list:"
   ]
  },
  {
   "cell_type": "code",
   "execution_count": 60,
   "metadata": {},
   "outputs": [],
   "source": [
    "# exec on every opening\n",
    "\n",
    "def get_random_next_song(song_uris: list[str] | None = None) -> str:\n",
    "    \"\"\"return a song\"\"\"\n",
    "    return tracks['track_uri'].sample().iloc[0]"
   ]
  },
  {
   "cell_type": "markdown",
   "metadata": {},
   "source": [
    "We execute the method with the first 3 tracks from the first playlist:"
   ]
  },
  {
   "cell_type": "code",
   "execution_count": 10,
   "metadata": {},
   "outputs": [
    {
     "name": "stdout",
     "output_type": "stream",
     "text": [
      "initial playlist: ['spotify:track:0UaMYEvWZi0ZqiDOoHU3YI', 'spotify:track:6I9VzXrHxO9rA9A5euc8Ak', 'spotify:track:0WqIKmW4BTrj3eJFmnCKMv']\n",
      "New playlist: ['spotify:track:0UaMYEvWZi0ZqiDOoHU3YI', 'spotify:track:6I9VzXrHxO9rA9A5euc8Ak', 'spotify:track:0WqIKmW4BTrj3eJFmnCKMv', 'spotify:track:1QpIoZbeUeTBoQzJtN7MM6', 'spotify:track:0ccllnXp7eTzhgPwotvDla', 'spotify:track:7aWqIsFi7vghmGS6fPgoyk', 'spotify:track:4gmtKUjYw3JuuujVUwReiN', 'spotify:track:4ES2gMcCQshE8EWU0FY8vW']\n"
     ]
    }
   ],
   "source": [
    "## URIs of the first 3 songs from playlist 1:\n",
    "song_uris = [song['track_uri'] for song in playlists.iloc[0]['tracks'][:3]]\n",
    "num_songs = 5\n",
    "\n",
    "print(f'initial playlist: {song_uris}')\n",
    "for i in range(num_songs):\n",
    "    new_song = get_random_next_song()\n",
    "    song_uris.append(new_song)\n",
    "\n",
    "print(f'New playlist: {song_uris}')"
   ]
  },
  {
   "cell_type": "code",
   "execution_count": 11,
   "metadata": {},
   "outputs": [
    {
     "data": {
      "text/html": [
       "<div>\n",
       "<style scoped>\n",
       "    .dataframe tbody tr th:only-of-type {\n",
       "        vertical-align: middle;\n",
       "    }\n",
       "\n",
       "    .dataframe tbody tr th {\n",
       "        vertical-align: top;\n",
       "    }\n",
       "\n",
       "    .dataframe thead th {\n",
       "        text-align: right;\n",
       "    }\n",
       "</style>\n",
       "<table border=\"1\" class=\"dataframe\">\n",
       "  <thead>\n",
       "    <tr style=\"text-align: right;\">\n",
       "      <th></th>\n",
       "      <th>track_uri</th>\n",
       "      <th>artist_uri</th>\n",
       "      <th>album_uri</th>\n",
       "      <th>duration_ms</th>\n",
       "    </tr>\n",
       "  </thead>\n",
       "  <tbody>\n",
       "    <tr>\n",
       "      <th>0</th>\n",
       "      <td>spotify:track:0UaMYEvWZi0ZqiDOoHU3YI</td>\n",
       "      <td>spotify:artist:2wIVse2owClT7go1WT98tk</td>\n",
       "      <td>spotify:album:6vV5UrXcfyQD1wu4Qo2I9K</td>\n",
       "      <td>226863</td>\n",
       "    </tr>\n",
       "    <tr>\n",
       "      <th>1</th>\n",
       "      <td>spotify:track:6I9VzXrHxO9rA9A5euc8Ak</td>\n",
       "      <td>spotify:artist:26dSoYclwsYLMAKD3tpOr4</td>\n",
       "      <td>spotify:album:0z7pVBGOD7HCIB7S8eLkLI</td>\n",
       "      <td>198800</td>\n",
       "    </tr>\n",
       "    <tr>\n",
       "      <th>2</th>\n",
       "      <td>spotify:track:0WqIKmW4BTrj3eJFmnCKMv</td>\n",
       "      <td>spotify:artist:6vWDO969PvNqNYHIOW5v0m</td>\n",
       "      <td>spotify:album:25hVFAxTlDvXbx2X2QkUkE</td>\n",
       "      <td>235933</td>\n",
       "    </tr>\n",
       "    <tr>\n",
       "      <th>239787</th>\n",
       "      <td>spotify:track:0ccllnXp7eTzhgPwotvDla</td>\n",
       "      <td>spotify:artist:1Bd4UVlqlaKEXYRG3wgrCK</td>\n",
       "      <td>spotify:album:3EI8YIXlPsYfyDXaAh3O7P</td>\n",
       "      <td>195106</td>\n",
       "    </tr>\n",
       "    <tr>\n",
       "      <th>598591</th>\n",
       "      <td>spotify:track:4ES2gMcCQshE8EWU0FY8vW</td>\n",
       "      <td>spotify:artist:3aVoqlJOYx31lH1gibGDt3</td>\n",
       "      <td>spotify:album:31EfLOgVsfPS4oZGBVlLRB</td>\n",
       "      <td>215466</td>\n",
       "    </tr>\n",
       "    <tr>\n",
       "      <th>660711</th>\n",
       "      <td>spotify:track:4gmtKUjYw3JuuujVUwReiN</td>\n",
       "      <td>spotify:artist:5AUTN6tMncnOnYgJK1VM6K</td>\n",
       "      <td>spotify:album:0El44GWelAsA0K93a2GRQC</td>\n",
       "      <td>202933</td>\n",
       "    </tr>\n",
       "    <tr>\n",
       "      <th>699854</th>\n",
       "      <td>spotify:track:7aWqIsFi7vghmGS6fPgoyk</td>\n",
       "      <td>spotify:artist:3iCEJiyLrmF5bHH6w1vIz6</td>\n",
       "      <td>spotify:album:5x58fNEURk7ZzfgWNdKRWx</td>\n",
       "      <td>295278</td>\n",
       "    </tr>\n",
       "    <tr>\n",
       "      <th>1141530</th>\n",
       "      <td>spotify:track:1QpIoZbeUeTBoQzJtN7MM6</td>\n",
       "      <td>spotify:artist:1iIxNEvPPmdFIIP0tdpw6G</td>\n",
       "      <td>spotify:album:7KOiQyPp08Sl9I1INZv51U</td>\n",
       "      <td>167497</td>\n",
       "    </tr>\n",
       "  </tbody>\n",
       "</table>\n",
       "</div>"
      ],
      "text/plain": [
       "                                    track_uri  \\\n",
       "0        spotify:track:0UaMYEvWZi0ZqiDOoHU3YI   \n",
       "1        spotify:track:6I9VzXrHxO9rA9A5euc8Ak   \n",
       "2        spotify:track:0WqIKmW4BTrj3eJFmnCKMv   \n",
       "239787   spotify:track:0ccllnXp7eTzhgPwotvDla   \n",
       "598591   spotify:track:4ES2gMcCQshE8EWU0FY8vW   \n",
       "660711   spotify:track:4gmtKUjYw3JuuujVUwReiN   \n",
       "699854   spotify:track:7aWqIsFi7vghmGS6fPgoyk   \n",
       "1141530  spotify:track:1QpIoZbeUeTBoQzJtN7MM6   \n",
       "\n",
       "                                    artist_uri  \\\n",
       "0        spotify:artist:2wIVse2owClT7go1WT98tk   \n",
       "1        spotify:artist:26dSoYclwsYLMAKD3tpOr4   \n",
       "2        spotify:artist:6vWDO969PvNqNYHIOW5v0m   \n",
       "239787   spotify:artist:1Bd4UVlqlaKEXYRG3wgrCK   \n",
       "598591   spotify:artist:3aVoqlJOYx31lH1gibGDt3   \n",
       "660711   spotify:artist:5AUTN6tMncnOnYgJK1VM6K   \n",
       "699854   spotify:artist:3iCEJiyLrmF5bHH6w1vIz6   \n",
       "1141530  spotify:artist:1iIxNEvPPmdFIIP0tdpw6G   \n",
       "\n",
       "                                    album_uri  duration_ms  \n",
       "0        spotify:album:6vV5UrXcfyQD1wu4Qo2I9K       226863  \n",
       "1        spotify:album:0z7pVBGOD7HCIB7S8eLkLI       198800  \n",
       "2        spotify:album:25hVFAxTlDvXbx2X2QkUkE       235933  \n",
       "239787   spotify:album:3EI8YIXlPsYfyDXaAh3O7P       195106  \n",
       "598591   spotify:album:31EfLOgVsfPS4oZGBVlLRB       215466  \n",
       "660711   spotify:album:0El44GWelAsA0K93a2GRQC       202933  \n",
       "699854   spotify:album:5x58fNEURk7ZzfgWNdKRWx       295278  \n",
       "1141530  spotify:album:7KOiQyPp08Sl9I1INZv51U       167497  "
      ]
     },
     "execution_count": 11,
     "metadata": {},
     "output_type": "execute_result"
    }
   ],
   "source": [
    "tracks[tracks['track_uri'].isin(song_uris)]"
   ]
  },
  {
   "cell_type": "code",
   "execution_count": 12,
   "metadata": {},
   "outputs": [
    {
     "data": {
      "text/plain": [
       "[(0, 'spotify:track:0UaMYEvWZi0ZqiDOoHU3YI'),\n",
       " (1, 'spotify:track:6I9VzXrHxO9rA9A5euc8Ak'),\n",
       " (2, 'spotify:track:0WqIKmW4BTrj3eJFmnCKMv')]"
      ]
     },
     "execution_count": 12,
     "metadata": {},
     "output_type": "execute_result"
    }
   ],
   "source": [
    "playlist = [(index, song['track_uri']) for (index, song) in enumerate(playlists.iloc[0]['tracks'])]\n",
    "list(filter(lambda item: item[1] in song_uris, playlist)) # songs in playlist 1 and in generated playlist"
   ]
  },
  {
   "cell_type": "markdown",
   "metadata": {},
   "source": [
    "This method is fast, but we don't expect a song that maches perfectly. These songs possibely not occur in a playlist together like here and there are not necessary similarities together.\n",
    "\n",
    "### Get next song based on the previous k songs\n",
    "\n",
    "This method will analyse every playlist and find a song that mostly occurs with the k previous songs. In this method the order matters and only songs placed after the input songs will be retourned. Moreover, The order of input songs also matters, that's why it could be possible that this method may sometimes not return or find a next song.\n",
    "\n",
    "This method is far slower than the first one, but we expect that its only return relevant songs, when they exist."
   ]
  },
  {
   "cell_type": "code",
   "execution_count": 44,
   "metadata": {},
   "outputs": [],
   "source": [
    "# exec on every opening\n",
    "import pandas as pd\n",
    "\n",
    "def get_next_song(song_uris: list[str]) -> str | None:\n",
    "    \"\"\"select the song that appears in together in the largest number of playlists with the previous songs.\"\"\"\n",
    "    song_occurrences: dict[str, int] = {}\n",
    "        \n",
    "    for tracks in playlists['tracks']:\n",
    "        track_uris = [track['track_uri'] for track in tracks]\n",
    "        \n",
    "        if not all(song in track_uris for song in song_uris): # check if every songs are contained\n",
    "            continue\n",
    "            \n",
    "        songs_count = 0\n",
    "        \n",
    "        for track_uri in track_uris:\n",
    "            if (songs_count < len(song_uris) and\n",
    "                track_uri == song_uris[songs_count]):\n",
    "                songs_count += 1\n",
    "                continue\n",
    "            if songs_count < len(song_uris) or track_uri in song_uris:\n",
    "                continue\n",
    "            \n",
    "            # current track_uri is not in song_uris and occurs after the k previous songs\n",
    "            if track_uri in song_occurrences.keys():\n",
    "                song_occurrences[track_uri] += 1\n",
    "            else:\n",
    "                song_occurrences[track_uri] = 1\n",
    "    next_songs = [ track_uri for (track_uri, _n) in sorted(song_occurrences.items(), key=lambda x:x[1], reverse=True)] # sort by playlist count desc\n",
    "    \n",
    "    return next_songs[0] if len(next_songs) > 0 else None # could not found a next song\n",
    "\n",
    "# method to analyse the occurences of a particular song in the playlists\n",
    "def song_occurrence(song_uri: str, playlists: pd.DataFrame) -> int:\n",
    "    \"\"\"Return occurrence of one song in the playlists\"\"\"\n",
    "    song_occurrence = 0\n",
    "        \n",
    "    for tracks in playlists['tracks']:\n",
    "        track_uris = [track['track_uri'] for track in tracks]\n",
    "        \n",
    "        if song_uri in track_uris : # check if every songs are contained\n",
    "            song_occurrence += 1\n",
    "    \n",
    "    return song_occurrence"
   ]
  },
  {
   "cell_type": "markdown",
   "metadata": {},
   "source": [
    "#### Test with the first 3 songs of the first two playlists:\n",
    "\n",
    "We will now test our method with the first 3 songs from the two first playlists. We will after that check if they are from the same album, artist or contained in that order in the complete playlist."
   ]
  },
  {
   "cell_type": "code",
   "execution_count": 45,
   "metadata": {},
   "outputs": [
    {
     "name": "stdout",
     "output_type": "stream",
     "text": [
      "initial playlist: ['spotify:track:0UaMYEvWZi0ZqiDOoHU3YI', 'spotify:track:6I9VzXrHxO9rA9A5euc8Ak', 'spotify:track:0WqIKmW4BTrj3eJFmnCKMv']\n",
      "New playlist: ['spotify:track:0UaMYEvWZi0ZqiDOoHU3YI', 'spotify:track:6I9VzXrHxO9rA9A5euc8Ak', 'spotify:track:0WqIKmW4BTrj3eJFmnCKMv', 'spotify:track:2gam98EZKrF9XuOkU13ApN', 'spotify:track:0uqPG793dkDDN7sCUJJIVC', 'spotify:track:6GIrIt2M39wEGwjCQjGChX', 'spotify:track:4E5P1XyAFtrjpiIxkydly4', 'spotify:track:3H1LCvO3fVsK2HPguhbml0']\n"
     ]
    }
   ],
   "source": [
    "## URIs of the first 3 songs from playlist 1:\n",
    "song_uris = [song['track_uri'] for song in playlists.iloc[0]['tracks'][:3]]\n",
    "num_songs = 5\n",
    "\n",
    "print(f'initial playlist: {song_uris}')\n",
    "for i in range(num_songs):\n",
    "    new_song = get_next_song(song_uris)\n",
    "    \n",
    "    if new_song:\n",
    "        song_uris.append(new_song)\n",
    "\n",
    "print(f'New playlist: {song_uris}')"
   ]
  },
  {
   "cell_type": "code",
   "execution_count": 46,
   "metadata": {},
   "outputs": [
    {
     "data": {
      "text/html": [
       "<div>\n",
       "<style scoped>\n",
       "    .dataframe tbody tr th:only-of-type {\n",
       "        vertical-align: middle;\n",
       "    }\n",
       "\n",
       "    .dataframe tbody tr th {\n",
       "        vertical-align: top;\n",
       "    }\n",
       "\n",
       "    .dataframe thead th {\n",
       "        text-align: right;\n",
       "    }\n",
       "</style>\n",
       "<table border=\"1\" class=\"dataframe\">\n",
       "  <thead>\n",
       "    <tr style=\"text-align: right;\">\n",
       "      <th></th>\n",
       "      <th>track_uri</th>\n",
       "      <th>artist_uri</th>\n",
       "      <th>album_uri</th>\n",
       "      <th>duration_ms</th>\n",
       "    </tr>\n",
       "  </thead>\n",
       "  <tbody>\n",
       "    <tr>\n",
       "      <th>0</th>\n",
       "      <td>spotify:track:0UaMYEvWZi0ZqiDOoHU3YI</td>\n",
       "      <td>spotify:artist:2wIVse2owClT7go1WT98tk</td>\n",
       "      <td>spotify:album:6vV5UrXcfyQD1wu4Qo2I9K</td>\n",
       "      <td>226863</td>\n",
       "    </tr>\n",
       "    <tr>\n",
       "      <th>1</th>\n",
       "      <td>spotify:track:6I9VzXrHxO9rA9A5euc8Ak</td>\n",
       "      <td>spotify:artist:26dSoYclwsYLMAKD3tpOr4</td>\n",
       "      <td>spotify:album:0z7pVBGOD7HCIB7S8eLkLI</td>\n",
       "      <td>198800</td>\n",
       "    </tr>\n",
       "    <tr>\n",
       "      <th>2</th>\n",
       "      <td>spotify:track:0WqIKmW4BTrj3eJFmnCKMv</td>\n",
       "      <td>spotify:artist:6vWDO969PvNqNYHIOW5v0m</td>\n",
       "      <td>spotify:album:25hVFAxTlDvXbx2X2QkUkE</td>\n",
       "      <td>235933</td>\n",
       "    </tr>\n",
       "    <tr>\n",
       "      <th>10</th>\n",
       "      <td>spotify:track:2gam98EZKrF9XuOkU13ApN</td>\n",
       "      <td>spotify:artist:2jw70GZXlAI8QzWeY2bgRc</td>\n",
       "      <td>spotify:album:2yboV2QBcVGEhcRlYuPpDT</td>\n",
       "      <td>242293</td>\n",
       "    </tr>\n",
       "    <tr>\n",
       "      <th>21</th>\n",
       "      <td>spotify:track:0uqPG793dkDDN7sCUJJIVC</td>\n",
       "      <td>spotify:artist:1yxSLGMDHlW21z4YXirZDS</td>\n",
       "      <td>spotify:album:1bNyYpkDRovmErm4QeDrpJ</td>\n",
       "      <td>272533</td>\n",
       "    </tr>\n",
       "    <tr>\n",
       "      <th>31</th>\n",
       "      <td>spotify:track:6GIrIt2M39wEGwjCQjGChX</td>\n",
       "      <td>spotify:artist:0vWCyXMrrvMlCcepuOJaGI</td>\n",
       "      <td>spotify:album:4WqgusSAgXkrjbXzqdBY68</td>\n",
       "      <td>206520</td>\n",
       "    </tr>\n",
       "    <tr>\n",
       "      <th>32</th>\n",
       "      <td>spotify:track:4E5P1XyAFtrjpiIxkydly4</td>\n",
       "      <td>spotify:artist:5tKXB9uuebKE34yowVaU3C</td>\n",
       "      <td>spotify:album:44hyrGuZKAvITbmrlhryf8</td>\n",
       "      <td>182306</td>\n",
       "    </tr>\n",
       "    <tr>\n",
       "      <th>33</th>\n",
       "      <td>spotify:track:3H1LCvO3fVsK2HPguhbml0</td>\n",
       "      <td>spotify:artist:7bXgB6jMjp9ATFy66eO08Z</td>\n",
       "      <td>spotify:album:1UtE4zAlSE2TlKmTFgrTg5</td>\n",
       "      <td>277106</td>\n",
       "    </tr>\n",
       "  </tbody>\n",
       "</table>\n",
       "</div>"
      ],
      "text/plain": [
       "                               track_uri  \\\n",
       "0   spotify:track:0UaMYEvWZi0ZqiDOoHU3YI   \n",
       "1   spotify:track:6I9VzXrHxO9rA9A5euc8Ak   \n",
       "2   spotify:track:0WqIKmW4BTrj3eJFmnCKMv   \n",
       "10  spotify:track:2gam98EZKrF9XuOkU13ApN   \n",
       "21  spotify:track:0uqPG793dkDDN7sCUJJIVC   \n",
       "31  spotify:track:6GIrIt2M39wEGwjCQjGChX   \n",
       "32  spotify:track:4E5P1XyAFtrjpiIxkydly4   \n",
       "33  spotify:track:3H1LCvO3fVsK2HPguhbml0   \n",
       "\n",
       "                               artist_uri  \\\n",
       "0   spotify:artist:2wIVse2owClT7go1WT98tk   \n",
       "1   spotify:artist:26dSoYclwsYLMAKD3tpOr4   \n",
       "2   spotify:artist:6vWDO969PvNqNYHIOW5v0m   \n",
       "10  spotify:artist:2jw70GZXlAI8QzWeY2bgRc   \n",
       "21  spotify:artist:1yxSLGMDHlW21z4YXirZDS   \n",
       "31  spotify:artist:0vWCyXMrrvMlCcepuOJaGI   \n",
       "32  spotify:artist:5tKXB9uuebKE34yowVaU3C   \n",
       "33  spotify:artist:7bXgB6jMjp9ATFy66eO08Z   \n",
       "\n",
       "                               album_uri  duration_ms  \n",
       "0   spotify:album:6vV5UrXcfyQD1wu4Qo2I9K       226863  \n",
       "1   spotify:album:0z7pVBGOD7HCIB7S8eLkLI       198800  \n",
       "2   spotify:album:25hVFAxTlDvXbx2X2QkUkE       235933  \n",
       "10  spotify:album:2yboV2QBcVGEhcRlYuPpDT       242293  \n",
       "21  spotify:album:1bNyYpkDRovmErm4QeDrpJ       272533  \n",
       "31  spotify:album:4WqgusSAgXkrjbXzqdBY68       206520  \n",
       "32  spotify:album:44hyrGuZKAvITbmrlhryf8       182306  \n",
       "33  spotify:album:1UtE4zAlSE2TlKmTFgrTg5       277106  "
      ]
     },
     "execution_count": 46,
     "metadata": {},
     "output_type": "execute_result"
    }
   ],
   "source": [
    "tracks[tracks['track_uri'].isin(song_uris)]"
   ]
  },
  {
   "cell_type": "code",
   "execution_count": 47,
   "metadata": {},
   "outputs": [
    {
     "data": {
      "text/plain": [
       "[(0, 'spotify:track:0UaMYEvWZi0ZqiDOoHU3YI'),\n",
       " (1, 'spotify:track:6I9VzXrHxO9rA9A5euc8Ak'),\n",
       " (2, 'spotify:track:0WqIKmW4BTrj3eJFmnCKMv'),\n",
       " (10, 'spotify:track:2gam98EZKrF9XuOkU13ApN'),\n",
       " (21, 'spotify:track:0uqPG793dkDDN7sCUJJIVC'),\n",
       " (31, 'spotify:track:6GIrIt2M39wEGwjCQjGChX'),\n",
       " (32, 'spotify:track:4E5P1XyAFtrjpiIxkydly4'),\n",
       " (33, 'spotify:track:3H1LCvO3fVsK2HPguhbml0'),\n",
       " (51, 'spotify:track:6GIrIt2M39wEGwjCQjGChX')]"
      ]
     },
     "execution_count": 47,
     "metadata": {},
     "output_type": "execute_result"
    }
   ],
   "source": [
    "playlist = [(index, song['track_uri']) for (index, song) in enumerate(playlists.iloc[0]['tracks'])]\n",
    "list(filter(lambda item: item[1] in song_uris, playlist))  # songs in playlist 1 and in generated playlist"
   ]
  },
  {
   "cell_type": "code",
   "execution_count": 48,
   "metadata": {},
   "outputs": [
    {
     "name": "stdout",
     "output_type": "stream",
     "text": [
      "Song: spotify:track:0UaMYEvWZi0ZqiDOoHU3YI, occurrence: 136\n",
      "Song: spotify:track:6I9VzXrHxO9rA9A5euc8Ak, occurrence: 249\n",
      "Song: spotify:track:0WqIKmW4BTrj3eJFmnCKMv, occurrence: 350\n",
      "Song: spotify:track:2gam98EZKrF9XuOkU13ApN, occurrence: 331\n",
      "Song: spotify:track:0uqPG793dkDDN7sCUJJIVC, occurrence: 179\n",
      "Song: spotify:track:6GIrIt2M39wEGwjCQjGChX, occurrence: 99\n",
      "Song: spotify:track:4E5P1XyAFtrjpiIxkydly4, occurrence: 238\n",
      "Song: spotify:track:3H1LCvO3fVsK2HPguhbml0, occurrence: 177\n"
     ]
    }
   ],
   "source": [
    "for song_uri in song_uris:\n",
    "    print(f'Song: {song_uri}, occurrence: {song_occurrence(song_uri, playlists)}')"
   ]
  },
  {
   "cell_type": "markdown",
   "metadata": {},
   "source": [
    "All 8 songs aren't from the same artists or album, but seems to occur often togerther in the 15,000 playlists. 5 nexts songs aren't exactly the 5 next songs in playlist one, but they are indeed contained in the same order in playlist one.\n",
    "\n",
    "We now repeat it with the second playlist, before analysing the final playlist."
   ]
  },
  {
   "cell_type": "code",
   "execution_count": 49,
   "metadata": {},
   "outputs": [
    {
     "name": "stdout",
     "output_type": "stream",
     "text": [
      "initial playlist: ['spotify:track:2HHtWyy5CgaQbC7XSoOb0e', 'spotify:track:1MYYt7h6amcrauCOoso3Gx', 'spotify:track:3x2mJ2bjCIU70NrH49CtYR']\n",
      "New playlist: ['spotify:track:2HHtWyy5CgaQbC7XSoOb0e', 'spotify:track:1MYYt7h6amcrauCOoso3Gx', 'spotify:track:3x2mJ2bjCIU70NrH49CtYR', 'spotify:track:1Pm3fq1SC6lUlNVBGZi3Em', 'spotify:track:1NXTEkIeRL59NK61QuhYUl', 'spotify:track:3RGlJJFkWEavxeRQr9ivAd', 'spotify:track:0e9hR1vTrzlUvFH5PgA9rY', 'spotify:track:7dkbEHIMLoeuG4zXGmzhEH']\n"
     ]
    }
   ],
   "source": [
    "## URIs of the first 3 songs from playlist 2:\n",
    "song_uris = [song['track_uri'] for song in playlists.iloc[1]['tracks'][:3]]\n",
    "num_songs = 5\n",
    "\n",
    "print(f'initial playlist: {song_uris}')\n",
    "for i in range(num_songs):\n",
    "    new_song = get_next_song(song_uris)\n",
    "    \n",
    "    if new_song:\n",
    "        song_uris.append(new_song)\n",
    "\n",
    "print(f'New playlist: {song_uris}')"
   ]
  },
  {
   "cell_type": "code",
   "execution_count": 50,
   "metadata": {},
   "outputs": [
    {
     "data": {
      "text/html": [
       "<div>\n",
       "<style scoped>\n",
       "    .dataframe tbody tr th:only-of-type {\n",
       "        vertical-align: middle;\n",
       "    }\n",
       "\n",
       "    .dataframe tbody tr th {\n",
       "        vertical-align: top;\n",
       "    }\n",
       "\n",
       "    .dataframe thead th {\n",
       "        text-align: right;\n",
       "    }\n",
       "</style>\n",
       "<table border=\"1\" class=\"dataframe\">\n",
       "  <thead>\n",
       "    <tr style=\"text-align: right;\">\n",
       "      <th></th>\n",
       "      <th>track_uri</th>\n",
       "      <th>artist_uri</th>\n",
       "      <th>album_uri</th>\n",
       "      <th>duration_ms</th>\n",
       "    </tr>\n",
       "  </thead>\n",
       "  <tbody>\n",
       "    <tr>\n",
       "      <th>51</th>\n",
       "      <td>spotify:track:2HHtWyy5CgaQbC7XSoOb0e</td>\n",
       "      <td>spotify:artist:26bcq2nyj5GB7uRr558iQg</td>\n",
       "      <td>spotify:album:4PT9VulQaQP6XR1xBI2x1W</td>\n",
       "      <td>243773</td>\n",
       "    </tr>\n",
       "    <tr>\n",
       "      <th>52</th>\n",
       "      <td>spotify:track:1MYYt7h6amcrauCOoso3Gx</td>\n",
       "      <td>spotify:artist:7zdmbPudNX4SQJXnYIuCTC</td>\n",
       "      <td>spotify:album:3q8vR3PFV8kG1m1Iv8DpKq</td>\n",
       "      <td>70294</td>\n",
       "    </tr>\n",
       "    <tr>\n",
       "      <th>53</th>\n",
       "      <td>spotify:track:3x2mJ2bjCIU70NrH49CtYR</td>\n",
       "      <td>spotify:artist:7zdmbPudNX4SQJXnYIuCTC</td>\n",
       "      <td>spotify:album:3q8vR3PFV8kG1m1Iv8DpKq</td>\n",
       "      <td>65306</td>\n",
       "    </tr>\n",
       "    <tr>\n",
       "      <th>54</th>\n",
       "      <td>spotify:track:1Pm3fq1SC6lUlNVBGZi3Em</td>\n",
       "      <td>spotify:artist:7zdmbPudNX4SQJXnYIuCTC</td>\n",
       "      <td>spotify:album:3q8vR3PFV8kG1m1Iv8DpKq</td>\n",
       "      <td>108532</td>\n",
       "    </tr>\n",
       "    <tr>\n",
       "      <th>55</th>\n",
       "      <td>spotify:track:1NXTEkIeRL59NK61QuhYUl</td>\n",
       "      <td>spotify:artist:7zdmbPudNX4SQJXnYIuCTC</td>\n",
       "      <td>spotify:album:3q8vR3PFV8kG1m1Iv8DpKq</td>\n",
       "      <td>214268</td>\n",
       "    </tr>\n",
       "    <tr>\n",
       "      <th>56</th>\n",
       "      <td>spotify:track:3RGlJJFkWEavxeRQr9ivAd</td>\n",
       "      <td>spotify:artist:7zdmbPudNX4SQJXnYIuCTC</td>\n",
       "      <td>spotify:album:3q8vR3PFV8kG1m1Iv8DpKq</td>\n",
       "      <td>110219</td>\n",
       "    </tr>\n",
       "    <tr>\n",
       "      <th>57</th>\n",
       "      <td>spotify:track:0e9hR1vTrzlUvFH5PgA9rY</td>\n",
       "      <td>spotify:artist:7zdmbPudNX4SQJXnYIuCTC</td>\n",
       "      <td>spotify:album:60wUpRwDRF1jmViHaW2yu4</td>\n",
       "      <td>207520</td>\n",
       "    </tr>\n",
       "    <tr>\n",
       "      <th>58</th>\n",
       "      <td>spotify:track:7dkbEHIMLoeuG4zXGmzhEH</td>\n",
       "      <td>spotify:artist:6BKWwLs98ZY3ifhCDNGvLk</td>\n",
       "      <td>spotify:album:38tJMNu2lPatR7xnPchOOB</td>\n",
       "      <td>226000</td>\n",
       "    </tr>\n",
       "  </tbody>\n",
       "</table>\n",
       "</div>"
      ],
      "text/plain": [
       "                               track_uri  \\\n",
       "51  spotify:track:2HHtWyy5CgaQbC7XSoOb0e   \n",
       "52  spotify:track:1MYYt7h6amcrauCOoso3Gx   \n",
       "53  spotify:track:3x2mJ2bjCIU70NrH49CtYR   \n",
       "54  spotify:track:1Pm3fq1SC6lUlNVBGZi3Em   \n",
       "55  spotify:track:1NXTEkIeRL59NK61QuhYUl   \n",
       "56  spotify:track:3RGlJJFkWEavxeRQr9ivAd   \n",
       "57  spotify:track:0e9hR1vTrzlUvFH5PgA9rY   \n",
       "58  spotify:track:7dkbEHIMLoeuG4zXGmzhEH   \n",
       "\n",
       "                               artist_uri  \\\n",
       "51  spotify:artist:26bcq2nyj5GB7uRr558iQg   \n",
       "52  spotify:artist:7zdmbPudNX4SQJXnYIuCTC   \n",
       "53  spotify:artist:7zdmbPudNX4SQJXnYIuCTC   \n",
       "54  spotify:artist:7zdmbPudNX4SQJXnYIuCTC   \n",
       "55  spotify:artist:7zdmbPudNX4SQJXnYIuCTC   \n",
       "56  spotify:artist:7zdmbPudNX4SQJXnYIuCTC   \n",
       "57  spotify:artist:7zdmbPudNX4SQJXnYIuCTC   \n",
       "58  spotify:artist:6BKWwLs98ZY3ifhCDNGvLk   \n",
       "\n",
       "                               album_uri  duration_ms  \n",
       "51  spotify:album:4PT9VulQaQP6XR1xBI2x1W       243773  \n",
       "52  spotify:album:3q8vR3PFV8kG1m1Iv8DpKq        70294  \n",
       "53  spotify:album:3q8vR3PFV8kG1m1Iv8DpKq        65306  \n",
       "54  spotify:album:3q8vR3PFV8kG1m1Iv8DpKq       108532  \n",
       "55  spotify:album:3q8vR3PFV8kG1m1Iv8DpKq       214268  \n",
       "56  spotify:album:3q8vR3PFV8kG1m1Iv8DpKq       110219  \n",
       "57  spotify:album:60wUpRwDRF1jmViHaW2yu4       207520  \n",
       "58  spotify:album:38tJMNu2lPatR7xnPchOOB       226000  "
      ]
     },
     "execution_count": 50,
     "metadata": {},
     "output_type": "execute_result"
    }
   ],
   "source": [
    "tracks[tracks['track_uri'].isin(song_uris)]"
   ]
  },
  {
   "cell_type": "code",
   "execution_count": 51,
   "metadata": {},
   "outputs": [
    {
     "data": {
      "text/plain": [
       "[(0, 'spotify:track:2HHtWyy5CgaQbC7XSoOb0e'),\n",
       " (1, 'spotify:track:1MYYt7h6amcrauCOoso3Gx'),\n",
       " (2, 'spotify:track:3x2mJ2bjCIU70NrH49CtYR'),\n",
       " (3, 'spotify:track:1Pm3fq1SC6lUlNVBGZi3Em'),\n",
       " (4, 'spotify:track:1NXTEkIeRL59NK61QuhYUl'),\n",
       " (5, 'spotify:track:3RGlJJFkWEavxeRQr9ivAd'),\n",
       " (6, 'spotify:track:0e9hR1vTrzlUvFH5PgA9rY'),\n",
       " (7, 'spotify:track:7dkbEHIMLoeuG4zXGmzhEH')]"
      ]
     },
     "execution_count": 51,
     "metadata": {},
     "output_type": "execute_result"
    }
   ],
   "source": [
    "playlist = [(index, song['track_uri']) for (index, song) in enumerate(playlists.iloc[1]['tracks'])]\n",
    "list(filter(lambda item: item[1] in song_uris, playlist)) # songs in playlist 2 and in generated playlist"
   ]
  },
  {
   "cell_type": "code",
   "execution_count": 52,
   "metadata": {},
   "outputs": [
    {
     "name": "stdout",
     "output_type": "stream",
     "text": [
      "Song: spotify:track:2HHtWyy5CgaQbC7XSoOb0e, occurrence: 271\n",
      "Song: spotify:track:1MYYt7h6amcrauCOoso3Gx, occurrence: 1\n",
      "Song: spotify:track:3x2mJ2bjCIU70NrH49CtYR, occurrence: 1\n",
      "Song: spotify:track:1Pm3fq1SC6lUlNVBGZi3Em, occurrence: 1\n",
      "Song: spotify:track:1NXTEkIeRL59NK61QuhYUl, occurrence: 2\n",
      "Song: spotify:track:3RGlJJFkWEavxeRQr9ivAd, occurrence: 2\n",
      "Song: spotify:track:0e9hR1vTrzlUvFH5PgA9rY, occurrence: 3\n",
      "Song: spotify:track:7dkbEHIMLoeuG4zXGmzhEH, occurrence: 1\n"
     ]
    }
   ],
   "source": [
    "for song_uri in song_uris:\n",
    "    print(f'Song: {song_uri}, occurrence: {song_occurrence(song_uri, playlists)}')"
   ]
  },
  {
   "cell_type": "markdown",
   "metadata": {},
   "source": [
    "Even with 20.000 playlists, the nexts songs are generally the close next songs from  the initial playlist. There are not necessary songs from same artists or album. The reason is that some tracks or sequences of tracks only occur once in the playlists.\n",
    "\n",
    "#### Drawback\n",
    "The only drawback is that we can't find a new song for an unseen sequence of songs, like the example under with a playlist with 2 song from two playlists: "
   ]
  },
  {
   "cell_type": "code",
   "execution_count": 43,
   "metadata": {},
   "outputs": [
    {
     "name": "stdout",
     "output_type": "stream",
     "text": [
      "['spotify:track:2HHtWyy5CgaQbC7XSoOb0e', 'spotify:track:1MYYt7h6amcrauCOoso3Gx', 'spotify:track:0UaMYEvWZi0ZqiDOoHU3YI', 'spotify:track:6I9VzXrHxO9rA9A5euc8Ak']\n",
      "next song not found.\n"
     ]
    }
   ],
   "source": [
    "my_playlist = [song['track_uri'] for song in playlists.iloc[1]['tracks'][:2]] # 2 songs from playlist 1\n",
    "my_playlist.extend([song['track_uri'] for song in playlists.iloc[0]['tracks'][:2]]) # add 2 songs from playlist 2\n",
    "\n",
    "print(my_playlist)\n",
    "new_song = get_next_song(my_playlist)\n",
    "\n",
    "if not new_song:\n",
    "    print(\"next song not found.\")\n",
    "else:\n",
    "    print(f\"new song: {new_song}\") # should not found a track"
   ]
  },
  {
   "cell_type": "markdown",
   "metadata": {},
   "source": [
    "## <span style=\"color:green\">Defining a song embeddings / representation</span>\n",
    "\n",
    "### Get tracks context\n",
    "\n",
    "The computed embedding of tracks should use place tracks close to each other when:\n",
    "- tracks are from the same playlists (we suppose that tracks in the same playlists could have the related genres)\n",
    "- tracks from the same album\n",
    "- tracks from the same artist\n",
    "\n",
    "That's why we will generate as context list of tracks for each artists and for each album as additional information with the collected playlists. This new playlists of tracks uris will represent the words in a document, so that we can use word2vec from gensim. Before that, we will convert each track_uri to an unique number."
   ]
  },
  {
   "cell_type": "code",
   "execution_count": 23,
   "metadata": {},
   "outputs": [
    {
     "name": "stdout",
     "output_type": "stream",
     "text": [
      "192070\n"
     ]
    }
   ],
   "source": [
    "uri_playlists = playlists['tracks'].apply(lambda tracks: [song['track_uri'] for song in tracks])\n",
    "\n",
    "# Group tracks by artists uri\n",
    "artists_tracks = tracks.groupby('artist_uri')['track_uri'].apply(list)\n",
    "\n",
    "# Group tracks by album uri\n",
    "albums_tracks = tracks.groupby('album_uri')['track_uri'].apply(list)\n",
    "\n",
    "# whole context\n",
    "context_tracks = [\n",
    "    *uri_playlists.values,\n",
    "    *artists_tracks.values,\n",
    "    *albums_tracks.values\n",
    "]\n",
    "\n",
    "print(len(context_tracks))"
   ]
  },
  {
   "cell_type": "markdown",
   "metadata": {},
   "source": [
    "A track will occur more often in the uri_playslists and only once in artists_tracks and albums_tracks, so that the occurence in the initial playlists has more inportance. **How to improve it for artists and albums ? **\n",
    "\n",
    "### tracks to number"
   ]
  },
  {
   "cell_type": "code",
   "execution_count": 9,
   "metadata": {},
   "outputs": [],
   "source": [
    "# exec on every opening\n",
    "# dict for swiching between tracks and numbers\n",
    "number2track = dict((index, track) for index, track in enumerate(tracks['track_uri'].values))\n",
    "track2number = dict((track, index) for index, track in number2track.items())"
   ]
  },
  {
   "cell_type": "markdown",
   "metadata": {},
   "source": [
    "### Train a Track2Vec model\n",
    "\n",
    "Word2Vec offers two methods: skip-gram and continuous bag of words(CBOW). We will use skip-gram, as it seems that skip-gram works well with infrequent word in the datasets ([NLP 101: Word2Vec — Skip-gram and CBOW](https://towardsdatascience.com/nlp-101-word2vec-skip-gram-and-cbow-93512ee24314), [Google archive word2vec](https://code.google.com/archive/p/word2vec/)). The methode will learn the word embedding from the words context, which is composed of the surrounding words.\n",
    "As we already saw, some songs could only occurs once in the initial first 20.000 playlists. Tracks could occur only three times: once in the 20.000 playlists, in one album and in one artirst playlist.\n",
    "\n",
    "Based of computed track context, a track embedding will be computed with 300 dimensions and a window size of 6 for the skip-gram method. Each element of the vector will be in [-1, 1]."
   ]
  },
  {
   "cell_type": "code",
   "execution_count": 25,
   "metadata": {},
   "outputs": [
    {
     "name": "stdout",
     "output_type": "stream",
     "text": [
      "Number of playlists 192070\n"
     ]
    }
   ],
   "source": [
    "from gensim.models.word2vec import Word2Vec\n",
    "\n",
    "# convert each track to its corresponding number -> sequences for word2vec\n",
    "context_tracks_numbers = [ [track2number[track_uri] for track_uri in tracks_list] for tracks_list in context_tracks]\n",
    "print(\"Number of playlists\", len(context_tracks_numbers))\n",
    "\n",
    "# embedding dimensionality\n",
    "num_features = 300 \n",
    "\n",
    "# how often does a word have to occur to be considered\n",
    "min_word_count = 3 # song occurs in minimum one playlist, in exactly one album and belongs to one artists -> 3 times\n",
    "\n",
    "# number of threads to use\n",
    "num_workers = 8\n",
    "\n",
    "# window size\n",
    "window_size = 6\n",
    "\n",
    "# subsampling parameter for word2vec\n",
    "subsampling = 1e-3\n",
    "\n",
    "track2vec = Word2Vec(context_tracks_numbers, \n",
    "                     workers=num_workers,\n",
    "                     vector_size=num_features,\n",
    "                     min_count=min_word_count,\n",
    "                     sg=1, # 1: skip-gram, 0: CBOW\n",
    "                     window=window_size,\n",
    "                     sample=subsampling)\n",
    "\n",
    "del context_tracks # free RAM"
   ]
  },
  {
   "cell_type": "markdown",
   "metadata": {},
   "source": [
    "### Save or load trained track2vec model"
   ]
  },
  {
   "cell_type": "code",
   "execution_count": 26,
   "metadata": {},
   "outputs": [],
   "source": [
    "track2vec.save('./models/track2vec.model')"
   ]
  },
  {
   "cell_type": "code",
   "execution_count": 10,
   "metadata": {},
   "outputs": [],
   "source": [
    "# exec on every opening\n",
    "from gensim.models.word2vec import Word2Vec\n",
    "\n",
    "track2vec = Word2Vec.load('./models/track2vec.model')"
   ]
  },
  {
   "cell_type": "markdown",
   "metadata": {},
   "source": [
    "### Helper methods for switching between tracks uris and vectors"
   ]
  },
  {
   "cell_type": "code",
   "execution_count": 11,
   "metadata": {},
   "outputs": [],
   "source": [
    "# exec on every opening\n",
    "import numpy as np\n",
    "\n",
    "def convert_track_to_vec(track_uri: str) -> np.ndarray:\n",
    "    \"\"\"Convert the track uri to a dense vector\"\"\"\n",
    "    return track2vec.wv[track2number[track_uri]]\n",
    "\n",
    "def convert_vec_to_track(vector: np.ndarray) -> str:\n",
    "    \"\"\"Convert a dense vector to a track uri\"\"\"\n",
    "    return number2track[track2vec.wv.similar_by_vector(vector, topn=1)[0][0]]"
   ]
  },
  {
   "cell_type": "code",
   "execution_count": 28,
   "metadata": {},
   "outputs": [
    {
     "name": "stdout",
     "output_type": "stream",
     "text": [
      "initial track spotify:track:0UaMYEvWZi0ZqiDOoHU3YI\n",
      "After converting to vector and backwards: spotify:track:0UaMYEvWZi0ZqiDOoHU3YI\n"
     ]
    }
   ],
   "source": [
    "track = tracks['track_uri'].iloc[0]\n",
    "\n",
    "print(\"initial track\", track)\n",
    "vector = convert_track_to_vec(track)\n",
    "new_track = convert_vec_to_track(vector)\n",
    "\n",
    "print(\"After converting to vector and backwards:\", new_track)"
   ]
  },
  {
   "cell_type": "code",
   "execution_count": 61,
   "metadata": {},
   "outputs": [],
   "source": [
    "# exec on every opening\n",
    "\n",
    "def get_next_similar_song(song_uris: list[str]) -> str:\n",
    "    \"\"\"\n",
    "    select the next similar song based on a computed embedding: track2vec.\n",
    "    \"\"\"\n",
    "    encoded_playlist = [ track2number[song_uri] for song_uri in song_uris ] # most_similar uses track_numbers as vocabulary\n",
    "    similar_songs = track2vec.wv.most_similar(encoded_playlist, topn = 1) # [(number, sim(number, playlist))]\n",
    "    \n",
    "    return number2track[similar_songs[0][0]]"
   ]
  },
  {
   "cell_type": "markdown",
   "metadata": {},
   "source": [
    "### Testing track embedding\n",
    "\n",
    "#### Test with 3 tracks from same artists and album"
   ]
  },
  {
   "cell_type": "code",
   "execution_count": 31,
   "metadata": {},
   "outputs": [
    {
     "name": "stdout",
     "output_type": "stream",
     "text": [
      "initial playlist: ['spotify:track:1MYYt7h6amcrauCOoso3Gx', 'spotify:track:3x2mJ2bjCIU70NrH49CtYR', 'spotify:track:1Pm3fq1SC6lUlNVBGZi3Em']\n",
      "New playlist: ['spotify:track:1MYYt7h6amcrauCOoso3Gx', 'spotify:track:3x2mJ2bjCIU70NrH49CtYR', 'spotify:track:1Pm3fq1SC6lUlNVBGZi3Em', 'spotify:track:2l9HEwPU6udcyYN2gDi0nn', 'spotify:track:6sYFewKgcRSabu9R8hjUem', 'spotify:track:33SGhp4QaGuTrFlsMPoPkn', 'spotify:track:4Umy8mk1bBdWYoxKB8354f', 'spotify:track:5tairRxXpTHPXaJvq2ISFf']\n"
     ]
    }
   ],
   "source": [
    "song_uris = [song['track_uri'] for song in playlists.iloc[1]['tracks'][1:4]]\n",
    "num_songs = 5\n",
    "\n",
    "print(f'initial playlist: {song_uris}')\n",
    "for i in range(num_songs):\n",
    "    new_song = get_next_similar_song(song_uris)\n",
    "    \n",
    "    if new_song:\n",
    "        song_uris.append(new_song)\n",
    "\n",
    "print(f'New playlist: {song_uris}')"
   ]
  },
  {
   "cell_type": "code",
   "execution_count": 32,
   "metadata": {},
   "outputs": [
    {
     "data": {
      "text/html": [
       "<div>\n",
       "<style scoped>\n",
       "    .dataframe tbody tr th:only-of-type {\n",
       "        vertical-align: middle;\n",
       "    }\n",
       "\n",
       "    .dataframe tbody tr th {\n",
       "        vertical-align: top;\n",
       "    }\n",
       "\n",
       "    .dataframe thead th {\n",
       "        text-align: right;\n",
       "    }\n",
       "</style>\n",
       "<table border=\"1\" class=\"dataframe\">\n",
       "  <thead>\n",
       "    <tr style=\"text-align: right;\">\n",
       "      <th></th>\n",
       "      <th>track_uri</th>\n",
       "      <th>artist_uri</th>\n",
       "      <th>album_uri</th>\n",
       "      <th>duration_ms</th>\n",
       "    </tr>\n",
       "  </thead>\n",
       "  <tbody>\n",
       "    <tr>\n",
       "      <th>281107</th>\n",
       "      <td>spotify:track:4Umy8mk1bBdWYoxKB8354f</td>\n",
       "      <td>spotify:artist:4Eon8wJtGHP3JNL7lB8Qml</td>\n",
       "      <td>spotify:album:6keE26GqNkLzprE0RBBzFJ</td>\n",
       "      <td>126666</td>\n",
       "    </tr>\n",
       "    <tr>\n",
       "      <th>864780</th>\n",
       "      <td>spotify:track:6sYFewKgcRSabu9R8hjUem</td>\n",
       "      <td>spotify:artist:6Gp8BbKAqPO3R0UAYkm8J0</td>\n",
       "      <td>spotify:album:2t34tkX7TR5rYKMu3WYO0z</td>\n",
       "      <td>151813</td>\n",
       "    </tr>\n",
       "    <tr>\n",
       "      <th>1520004</th>\n",
       "      <td>spotify:track:2l9HEwPU6udcyYN2gDi0nn</td>\n",
       "      <td>spotify:artist:7b85ve82Sh36a3UAx74wut</td>\n",
       "      <td>spotify:album:5B7NDPESn71gfih59EEy3s</td>\n",
       "      <td>248165</td>\n",
       "    </tr>\n",
       "    <tr>\n",
       "      <th>2123183</th>\n",
       "      <td>spotify:track:5tairRxXpTHPXaJvq2ISFf</td>\n",
       "      <td>spotify:artist:58lV9VcRSjABbAbfWS6skp</td>\n",
       "      <td>spotify:album:4SIeviZcnTJ86k3LUAj2yu</td>\n",
       "      <td>315360</td>\n",
       "    </tr>\n",
       "    <tr>\n",
       "      <th>2871947</th>\n",
       "      <td>spotify:track:33SGhp4QaGuTrFlsMPoPkn</td>\n",
       "      <td>spotify:artist:5RTA06B6cts3a6I7iMqKGu</td>\n",
       "      <td>spotify:album:0mDSPMGVdWORtoEuxhyMJx</td>\n",
       "      <td>224676</td>\n",
       "    </tr>\n",
       "  </tbody>\n",
       "</table>\n",
       "</div>"
      ],
      "text/plain": [
       "                                    track_uri  \\\n",
       "281107   spotify:track:4Umy8mk1bBdWYoxKB8354f   \n",
       "864780   spotify:track:6sYFewKgcRSabu9R8hjUem   \n",
       "1520004  spotify:track:2l9HEwPU6udcyYN2gDi0nn   \n",
       "2123183  spotify:track:5tairRxXpTHPXaJvq2ISFf   \n",
       "2871947  spotify:track:33SGhp4QaGuTrFlsMPoPkn   \n",
       "\n",
       "                                    artist_uri  \\\n",
       "281107   spotify:artist:4Eon8wJtGHP3JNL7lB8Qml   \n",
       "864780   spotify:artist:6Gp8BbKAqPO3R0UAYkm8J0   \n",
       "1520004  spotify:artist:7b85ve82Sh36a3UAx74wut   \n",
       "2123183  spotify:artist:58lV9VcRSjABbAbfWS6skp   \n",
       "2871947  spotify:artist:5RTA06B6cts3a6I7iMqKGu   \n",
       "\n",
       "                                    album_uri  duration_ms  \n",
       "281107   spotify:album:6keE26GqNkLzprE0RBBzFJ       126666  \n",
       "864780   spotify:album:2t34tkX7TR5rYKMu3WYO0z       151813  \n",
       "1520004  spotify:album:5B7NDPESn71gfih59EEy3s       248165  \n",
       "2123183  spotify:album:4SIeviZcnTJ86k3LUAj2yu       315360  \n",
       "2871947  spotify:album:0mDSPMGVdWORtoEuxhyMJx       224676  "
      ]
     },
     "execution_count": 32,
     "metadata": {},
     "output_type": "execute_result"
    }
   ],
   "source": [
    "tracks[tracks['track_uri'].isin(song_uris[3:])]"
   ]
  },
  {
   "cell_type": "code",
   "execution_count": 33,
   "metadata": {},
   "outputs": [
    {
     "data": {
      "text/plain": [
       "[(1, 'spotify:track:1MYYt7h6amcrauCOoso3Gx'),\n",
       " (2, 'spotify:track:3x2mJ2bjCIU70NrH49CtYR'),\n",
       " (3, 'spotify:track:1Pm3fq1SC6lUlNVBGZi3Em')]"
      ]
     },
     "execution_count": 33,
     "metadata": {},
     "output_type": "execute_result"
    }
   ],
   "source": [
    "playlist = [(index, song['track_uri']) for (index, song) in enumerate(playlists.iloc[1]['tracks'])]\n",
    "list(filter(lambda item: item[1] in song_uris, playlist)) # songs in playlist 2 and in generated playlist"
   ]
  },
  {
   "cell_type": "markdown",
   "metadata": {},
   "source": [
    "Returned similar tracks aren't from the same artist or album as in the input playlist. Additionally returned tracks aren't the same as with the baseline method `get_next_song`. The similarity is here more based en songs occuring mostly together and as we used skip-gram, the embedding was computed based on tracks occuring before and after the song to guess in the playlists.\n",
    "\n",
    "#### Test with one track"
   ]
  },
  {
   "cell_type": "code",
   "execution_count": 34,
   "metadata": {},
   "outputs": [
    {
     "name": "stdout",
     "output_type": "stream",
     "text": [
      "initial playlist: ['spotify:track:1MYYt7h6amcrauCOoso3Gx']\n",
      "New playlist: ['spotify:track:1MYYt7h6amcrauCOoso3Gx', 'spotify:track:2l9HEwPU6udcyYN2gDi0nn', 'spotify:track:6sYFewKgcRSabu9R8hjUem', 'spotify:track:5tairRxXpTHPXaJvq2ISFf', 'spotify:track:546FkIJm7xhVZV0TWxYOlo', 'spotify:track:5hgalo6f5axSbdhq2GlYZz']\n"
     ]
    }
   ],
   "source": [
    "song_uris = [playlists.iloc[1]['tracks'][1]['track_uri']]\n",
    "num_songs = 5\n",
    "\n",
    "print(f'initial playlist: {song_uris}')\n",
    "for i in range(num_songs):\n",
    "    new_song = get_next_similar_song(song_uris)\n",
    "    \n",
    "    if new_song:\n",
    "        song_uris.append(new_song)\n",
    "\n",
    "print(f'New playlist: {song_uris}')"
   ]
  },
  {
   "cell_type": "code",
   "execution_count": 35,
   "metadata": {},
   "outputs": [
    {
     "data": {
      "text/html": [
       "<div>\n",
       "<style scoped>\n",
       "    .dataframe tbody tr th:only-of-type {\n",
       "        vertical-align: middle;\n",
       "    }\n",
       "\n",
       "    .dataframe tbody tr th {\n",
       "        vertical-align: top;\n",
       "    }\n",
       "\n",
       "    .dataframe thead th {\n",
       "        text-align: right;\n",
       "    }\n",
       "</style>\n",
       "<table border=\"1\" class=\"dataframe\">\n",
       "  <thead>\n",
       "    <tr style=\"text-align: right;\">\n",
       "      <th></th>\n",
       "      <th>track_uri</th>\n",
       "      <th>artist_uri</th>\n",
       "      <th>album_uri</th>\n",
       "      <th>duration_ms</th>\n",
       "    </tr>\n",
       "  </thead>\n",
       "  <tbody>\n",
       "    <tr>\n",
       "      <th>53</th>\n",
       "      <td>spotify:track:1MYYt7h6amcrauCOoso3Gx</td>\n",
       "      <td>spotify:artist:7zdmbPudNX4SQJXnYIuCTC</td>\n",
       "      <td>spotify:album:3q8vR3PFV8kG1m1Iv8DpKq</td>\n",
       "      <td>70294</td>\n",
       "    </tr>\n",
       "    <tr>\n",
       "      <th>864780</th>\n",
       "      <td>spotify:track:6sYFewKgcRSabu9R8hjUem</td>\n",
       "      <td>spotify:artist:6Gp8BbKAqPO3R0UAYkm8J0</td>\n",
       "      <td>spotify:album:2t34tkX7TR5rYKMu3WYO0z</td>\n",
       "      <td>151813</td>\n",
       "    </tr>\n",
       "    <tr>\n",
       "      <th>896871</th>\n",
       "      <td>spotify:track:546FkIJm7xhVZV0TWxYOlo</td>\n",
       "      <td>spotify:artist:56E5XajgEQr7pQNK4C10RF</td>\n",
       "      <td>spotify:album:4waqpSbSeFM8xuw7ULTVV4</td>\n",
       "      <td>290146</td>\n",
       "    </tr>\n",
       "    <tr>\n",
       "      <th>1458745</th>\n",
       "      <td>spotify:track:5hgalo6f5axSbdhq2GlYZz</td>\n",
       "      <td>spotify:artist:0tw9OwFgbaPVDCBHYSsUMN</td>\n",
       "      <td>spotify:album:5uMWxkCaJN1iNbOeMY9AWu</td>\n",
       "      <td>243948</td>\n",
       "    </tr>\n",
       "    <tr>\n",
       "      <th>1520004</th>\n",
       "      <td>spotify:track:2l9HEwPU6udcyYN2gDi0nn</td>\n",
       "      <td>spotify:artist:7b85ve82Sh36a3UAx74wut</td>\n",
       "      <td>spotify:album:5B7NDPESn71gfih59EEy3s</td>\n",
       "      <td>248165</td>\n",
       "    </tr>\n",
       "    <tr>\n",
       "      <th>2123183</th>\n",
       "      <td>spotify:track:5tairRxXpTHPXaJvq2ISFf</td>\n",
       "      <td>spotify:artist:58lV9VcRSjABbAbfWS6skp</td>\n",
       "      <td>spotify:album:4SIeviZcnTJ86k3LUAj2yu</td>\n",
       "      <td>315360</td>\n",
       "    </tr>\n",
       "  </tbody>\n",
       "</table>\n",
       "</div>"
      ],
      "text/plain": [
       "                                    track_uri  \\\n",
       "53       spotify:track:1MYYt7h6amcrauCOoso3Gx   \n",
       "864780   spotify:track:6sYFewKgcRSabu9R8hjUem   \n",
       "896871   spotify:track:546FkIJm7xhVZV0TWxYOlo   \n",
       "1458745  spotify:track:5hgalo6f5axSbdhq2GlYZz   \n",
       "1520004  spotify:track:2l9HEwPU6udcyYN2gDi0nn   \n",
       "2123183  spotify:track:5tairRxXpTHPXaJvq2ISFf   \n",
       "\n",
       "                                    artist_uri  \\\n",
       "53       spotify:artist:7zdmbPudNX4SQJXnYIuCTC   \n",
       "864780   spotify:artist:6Gp8BbKAqPO3R0UAYkm8J0   \n",
       "896871   spotify:artist:56E5XajgEQr7pQNK4C10RF   \n",
       "1458745  spotify:artist:0tw9OwFgbaPVDCBHYSsUMN   \n",
       "1520004  spotify:artist:7b85ve82Sh36a3UAx74wut   \n",
       "2123183  spotify:artist:58lV9VcRSjABbAbfWS6skp   \n",
       "\n",
       "                                    album_uri  duration_ms  \n",
       "53       spotify:album:3q8vR3PFV8kG1m1Iv8DpKq        70294  \n",
       "864780   spotify:album:2t34tkX7TR5rYKMu3WYO0z       151813  \n",
       "896871   spotify:album:4waqpSbSeFM8xuw7ULTVV4       290146  \n",
       "1458745  spotify:album:5uMWxkCaJN1iNbOeMY9AWu       243948  \n",
       "1520004  spotify:album:5B7NDPESn71gfih59EEy3s       248165  \n",
       "2123183  spotify:album:4SIeviZcnTJ86k3LUAj2yu       315360  "
      ]
     },
     "execution_count": 35,
     "metadata": {},
     "output_type": "execute_result"
    }
   ],
   "source": [
    "tracks[tracks['track_uri'].isin(song_uris)]"
   ]
  },
  {
   "cell_type": "markdown",
   "metadata": {},
   "source": [
    "## <span style=\"color:green\">Defining a neural network</span>\n",
    "\n",
    "\n",
    "### Training, validation, and test data\n",
    "\n",
    "We first split the 20.000 playlists into training, validation, and test data:"
   ]
  },
  {
   "cell_type": "code",
   "execution_count": 12,
   "metadata": {},
   "outputs": [
    {
     "name": "stdout",
     "output_type": "stream",
     "text": [
      "Train: 12000, Val: 4000, Test: 4000\n"
     ]
    }
   ],
   "source": [
    "# exec on every opening\n",
    "from sklearn.model_selection import train_test_split\n",
    "\n",
    "# percentages used for training, validation, and test data\n",
    "train_perc = 0.60\n",
    "val_perc = 0.20\n",
    "test_perc = 0.20\n",
    "\n",
    "# formated playlists with only the track_uris\n",
    "uri_playlists = playlists['tracks'].apply(lambda tracks: [song['track_uri'] for song in tracks])\n",
    "\n",
    "# extract training data and temporary validation-test data\n",
    "playlists_train, playlists_tmp = train_test_split(uri_playlists, test_size=val_perc+test_perc, random_state=0)\n",
    "\n",
    "# split validation-test data into validation and test data\n",
    "playlists_val, playlists_test = train_test_split(playlists_tmp, test_size=test_perc/(val_perc+test_perc), random_state=0)\n",
    "\n",
    "# save playlists_test for baseline evaluation later\n",
    "playlists_test_baseline = playlists_test.copy(deep=True)\n",
    "\n",
    "# free RAM\n",
    "del uri_playlists\n",
    "del playlists_tmp\n",
    "\n",
    "# convert each track uri to the corresponding vector\n",
    "track_uri2vec = lambda tracks: [convert_track_to_vec(track_uri) for track_uri in tracks]\n",
    "\n",
    "playlists_train = playlists_train.apply(track_uri2vec)\n",
    "playlists_val = playlists_val.apply(track_uri2vec)\n",
    "playlists_test = playlists_test.apply(track_uri2vec)\n",
    "\n",
    "print(f'Train: {len(playlists_train)}, Val: {len(playlists_val)}, Test: {len(playlists_test)}')"
   ]
  },
  {
   "cell_type": "markdown",
   "metadata": {},
   "source": [
    "We will now split our training, validation, and test data in k grams. Each X[i] will contains k tracks and y[i] will contain the next track after the k tracks. After that, each X will be converted to a 3D tensor with shape (number of playlists, k or windows size, number of embedding dimension). Each y will be converted to a 2D matrix with shape (number of playlists, number of embedding dimension)."
   ]
  },
  {
   "cell_type": "code",
   "execution_count": 13,
   "metadata": {},
   "outputs": [],
   "source": [
    "# exec on every opening\n",
    "### test for k + 1 pliting -> for training and evaluation\n",
    "import pandas as pd\n",
    "\n",
    "def playlist_k_gram(tracks: list, k: int, step: int = 1) -> tuple[list[list], list]:\n",
    "    \"\"\"Split a list of tracks in k grams: X[i] contains a sequence of k trachs, y[i] the k+1 track.\"\"\"\n",
    "    X: list[list] = []\n",
    "    y: list = []\n",
    "        \n",
    "    for i in range(0, len(tracks) - k, step):\n",
    "        X.append(tracks[i:i+k])\n",
    "        y.append(tracks[i+k])\n",
    "    \n",
    "    return X, y\n",
    "\n",
    "def playlists_k_gram(playlists: pd.Series, k: int, step: int = 1) -> tuple[list[list], list]:\n",
    "    \"\"\"Split the list of playlists in k grams: X[i] contains a sequence of k trachs, y[i] the k+1 track.\"\"\"\n",
    "    X: list[list] = []\n",
    "    y: list = []\n",
    "        \n",
    "    for playlist in playlists:\n",
    "        playlist_x, playlist_y = playlist_k_gram(playlist, k, step)\n",
    "        X.extend(playlist_x)\n",
    "        y.extend(playlist_y)\n",
    "    \n",
    "    return X, y"
   ]
  },
  {
   "cell_type": "code",
   "execution_count": 14,
   "metadata": {},
   "outputs": [
    {
     "name": "stdout",
     "output_type": "stream",
     "text": [
      "X -> Train: (73164, 10, 300), Val: (24328, 10, 300), Test: (24770, 10, 300)\n",
      "y -> Train: (73164, 300), Val: (24328, 300), Test: (24770, 300)\n"
     ]
    }
   ],
   "source": [
    "import numpy as np\n",
    "\n",
    "# exec on every opening\n",
    "# params for k-gram\n",
    "step = 10\n",
    "playlist_max_len = 10 # k\n",
    "\n",
    "# splitting in X, y with k grams\n",
    "# convert X to 3D tensors -> X: (#Playlists, k, embedding_dim) and y to 2D Matrix -> y: (#Playlists, embedding_dim)\n",
    "X_playlists_train, y_playlists_train = (np.array(item) for item in playlists_k_gram(playlists_train, playlist_max_len, step))\n",
    "X_playlists_val, y_playlists_val = (np.array(item) for item in playlists_k_gram(playlists_val, playlist_max_len, step))\n",
    "X_playlists_test, y_playlists_test = (np.array(item) for item in playlists_k_gram(playlists_test, playlist_max_len, step))\n",
    "\n",
    "print(f'X -> Train: {X_playlists_train.shape}, Val: {X_playlists_val.shape}, Test: {X_playlists_test.shape}')\n",
    "print(f'y -> Train: {y_playlists_train.shape}, Val: {y_playlists_val.shape}, Test: {y_playlists_test.shape}')"
   ]
  },
  {
   "cell_type": "code",
   "execution_count": 15,
   "metadata": {},
   "outputs": [],
   "source": [
    "# free RAM\n",
    "del playlists_train\n",
    "del playlists_val\n",
    "del playlists_test\n",
    "\n",
    "del playlists\n",
    "del tracks"
   ]
  },
  {
   "cell_type": "markdown",
   "metadata": {},
   "source": [
    "### Designing the neural network"
   ]
  },
  {
   "cell_type": "code",
   "execution_count": 16,
   "metadata": {
    "scrolled": true
   },
   "outputs": [
    {
     "name": "stdout",
     "output_type": "stream",
     "text": [
      "Model: \"sequential\"\n",
      "_________________________________________________________________\n",
      " Layer (type)                Output Shape              Param #   \n",
      "=================================================================\n",
      " lstm (LSTM)                 (None, 128)               219648    \n",
      "                                                                 \n",
      " dense (Dense)               (None, 300)               38700     \n",
      "                                                                 \n",
      "=================================================================\n",
      "Total params: 258,348\n",
      "Trainable params: 258,348\n",
      "Non-trainable params: 0\n",
      "_________________________________________________________________\n",
      "Epoch 1/20\n",
      "572/572 [==============================] - 18s 26ms/step - loss: -1285.1182 - accuracy: 0.0034 - precision: 1.0000 - val_loss: -2494.5364 - val_accuracy: 2.0552e-04 - val_precision: 1.0000\n",
      "Epoch 2/20\n",
      "572/572 [==============================] - 14s 25ms/step - loss: -3720.6050 - accuracy: 2.5969e-04 - precision: 1.0000 - val_loss: -4912.7480 - val_accuracy: 2.0552e-04 - val_precision: 1.0000\n",
      "Epoch 3/20\n",
      "572/572 [==============================] - 15s 26ms/step - loss: -6149.1177 - accuracy: 2.5969e-04 - precision: 1.0000 - val_loss: -7331.6348 - val_accuracy: 2.0552e-04 - val_precision: 1.0000\n",
      "Epoch 4/20\n",
      "572/572 [==============================] - 15s 26ms/step - loss: -8578.1416 - accuracy: 2.5969e-04 - precision: 1.0000 - val_loss: -9751.1035 - val_accuracy: 2.0552e-04 - val_precision: 1.0000\n",
      "Epoch 5/20\n",
      "572/572 [==============================] - 15s 26ms/step - loss: -11010.7139 - accuracy: 2.5969e-04 - precision: 1.0000 - val_loss: -12169.2168 - val_accuracy: 2.0552e-04 - val_precision: 1.0000\n",
      "Epoch 6/20\n",
      "572/572 [==============================] - 15s 26ms/step - loss: -13440.0166 - accuracy: 2.5969e-04 - precision: 1.0000 - val_loss: -14588.3154 - val_accuracy: 2.0552e-04 - val_precision: 1.0000\n",
      "Epoch 7/20\n",
      "572/572 [==============================] - 15s 26ms/step - loss: -15871.9111 - accuracy: 2.5969e-04 - precision: 1.0000 - val_loss: -17006.9434 - val_accuracy: 2.0552e-04 - val_precision: 1.0000\n",
      "Epoch 8/20\n",
      "572/572 [==============================] - 15s 27ms/step - loss: -18301.8691 - accuracy: 2.5969e-04 - precision: 1.0000 - val_loss: -19426.8691 - val_accuracy: 2.0552e-04 - val_precision: 1.0000\n",
      "Epoch 9/20\n",
      "572/572 [==============================] - 16s 28ms/step - loss: -20732.5254 - accuracy: 2.5969e-04 - precision: 1.0000 - val_loss: -21846.7188 - val_accuracy: 2.0552e-04 - val_precision: 1.0000\n",
      "Epoch 10/20\n",
      "572/572 [==============================] - 15s 27ms/step - loss: -23162.6582 - accuracy: 2.5969e-04 - precision: 1.0000 - val_loss: -24266.0605 - val_accuracy: 2.0552e-04 - val_precision: 1.0000\n",
      "Epoch 11/20\n",
      "243/572 [===========>..................] - ETA: 7s - loss: -24918.2812 - accuracy: 2.5720e-04 - precision: 1.0000"
     ]
    },
    {
     "ename": "KeyboardInterrupt",
     "evalue": "",
     "output_type": "error",
     "traceback": [
      "\u001b[1;31m---------------------------------------------------------------------------\u001b[0m",
      "\u001b[1;31mKeyboardInterrupt\u001b[0m                         Traceback (most recent call last)",
      "Cell \u001b[1;32mIn[16], line 26\u001b[0m\n\u001b[0;32m     23\u001b[0m batch_size \u001b[39m=\u001b[39m \u001b[39m128\u001b[39m\n\u001b[0;32m     24\u001b[0m csv_logger \u001b[39m=\u001b[39m CSVLogger(\u001b[39m'\u001b[39m\u001b[39mtraining.log\u001b[39m\u001b[39m'\u001b[39m, separator\u001b[39m=\u001b[39m\u001b[39m'\u001b[39m\u001b[39m,\u001b[39m\u001b[39m'\u001b[39m, append\u001b[39m=\u001b[39m\u001b[39mFalse\u001b[39;00m)\n\u001b[1;32m---> 26\u001b[0m history \u001b[39m=\u001b[39m model\u001b[39m.\u001b[39;49mfit(X_playlists_train, y_playlists_train,\n\u001b[0;32m     27\u001b[0m           batch_size\u001b[39m=\u001b[39;49mbatch_size, epochs\u001b[39m=\u001b[39;49mepochs,\n\u001b[0;32m     28\u001b[0m           validation_data\u001b[39m=\u001b[39;49m(X_playlists_val, y_playlists_val),\n\u001b[0;32m     29\u001b[0m           verbose\u001b[39m=\u001b[39;49m\u001b[39m1\u001b[39;49m, callbacks\u001b[39m=\u001b[39;49m[csv_logger])\n\u001b[0;32m     31\u001b[0m \u001b[39m# Evaluate the model\u001b[39;00m\n\u001b[0;32m     32\u001b[0m score \u001b[39m=\u001b[39m model\u001b[39m.\u001b[39mevaluate(X_playlists_test[:\u001b[39m2\u001b[39m], y_playlists_test[:\u001b[39m2\u001b[39m], verbose\u001b[39m=\u001b[39m\u001b[39m1\u001b[39m)\n",
      "File \u001b[1;32md:\\Codage\\Python 3\\Deep learning\\.venv\\Lib\\site-packages\\keras\\utils\\traceback_utils.py:65\u001b[0m, in \u001b[0;36mfilter_traceback.<locals>.error_handler\u001b[1;34m(*args, **kwargs)\u001b[0m\n\u001b[0;32m     63\u001b[0m filtered_tb \u001b[39m=\u001b[39m \u001b[39mNone\u001b[39;00m\n\u001b[0;32m     64\u001b[0m \u001b[39mtry\u001b[39;00m:\n\u001b[1;32m---> 65\u001b[0m     \u001b[39mreturn\u001b[39;00m fn(\u001b[39m*\u001b[39;49margs, \u001b[39m*\u001b[39;49m\u001b[39m*\u001b[39;49mkwargs)\n\u001b[0;32m     66\u001b[0m \u001b[39mexcept\u001b[39;00m \u001b[39mException\u001b[39;00m \u001b[39mas\u001b[39;00m e:\n\u001b[0;32m     67\u001b[0m     filtered_tb \u001b[39m=\u001b[39m _process_traceback_frames(e\u001b[39m.\u001b[39m__traceback__)\n",
      "File \u001b[1;32md:\\Codage\\Python 3\\Deep learning\\.venv\\Lib\\site-packages\\keras\\engine\\training.py:1685\u001b[0m, in \u001b[0;36mModel.fit\u001b[1;34m(self, x, y, batch_size, epochs, verbose, callbacks, validation_split, validation_data, shuffle, class_weight, sample_weight, initial_epoch, steps_per_epoch, validation_steps, validation_batch_size, validation_freq, max_queue_size, workers, use_multiprocessing)\u001b[0m\n\u001b[0;32m   1677\u001b[0m \u001b[39mwith\u001b[39;00m tf\u001b[39m.\u001b[39mprofiler\u001b[39m.\u001b[39mexperimental\u001b[39m.\u001b[39mTrace(\n\u001b[0;32m   1678\u001b[0m     \u001b[39m\"\u001b[39m\u001b[39mtrain\u001b[39m\u001b[39m\"\u001b[39m,\n\u001b[0;32m   1679\u001b[0m     epoch_num\u001b[39m=\u001b[39mepoch,\n\u001b[1;32m   (...)\u001b[0m\n\u001b[0;32m   1682\u001b[0m     _r\u001b[39m=\u001b[39m\u001b[39m1\u001b[39m,\n\u001b[0;32m   1683\u001b[0m ):\n\u001b[0;32m   1684\u001b[0m     callbacks\u001b[39m.\u001b[39mon_train_batch_begin(step)\n\u001b[1;32m-> 1685\u001b[0m     tmp_logs \u001b[39m=\u001b[39m \u001b[39mself\u001b[39;49m\u001b[39m.\u001b[39;49mtrain_function(iterator)\n\u001b[0;32m   1686\u001b[0m     \u001b[39mif\u001b[39;00m data_handler\u001b[39m.\u001b[39mshould_sync:\n\u001b[0;32m   1687\u001b[0m         context\u001b[39m.\u001b[39masync_wait()\n",
      "File \u001b[1;32md:\\Codage\\Python 3\\Deep learning\\.venv\\Lib\\site-packages\\tensorflow\\python\\util\\traceback_utils.py:150\u001b[0m, in \u001b[0;36mfilter_traceback.<locals>.error_handler\u001b[1;34m(*args, **kwargs)\u001b[0m\n\u001b[0;32m    148\u001b[0m filtered_tb \u001b[39m=\u001b[39m \u001b[39mNone\u001b[39;00m\n\u001b[0;32m    149\u001b[0m \u001b[39mtry\u001b[39;00m:\n\u001b[1;32m--> 150\u001b[0m   \u001b[39mreturn\u001b[39;00m fn(\u001b[39m*\u001b[39;49margs, \u001b[39m*\u001b[39;49m\u001b[39m*\u001b[39;49mkwargs)\n\u001b[0;32m    151\u001b[0m \u001b[39mexcept\u001b[39;00m \u001b[39mException\u001b[39;00m \u001b[39mas\u001b[39;00m e:\n\u001b[0;32m    152\u001b[0m   filtered_tb \u001b[39m=\u001b[39m _process_traceback_frames(e\u001b[39m.\u001b[39m__traceback__)\n",
      "File \u001b[1;32md:\\Codage\\Python 3\\Deep learning\\.venv\\Lib\\site-packages\\tensorflow\\python\\eager\\polymorphic_function\\polymorphic_function.py:894\u001b[0m, in \u001b[0;36mFunction.__call__\u001b[1;34m(self, *args, **kwds)\u001b[0m\n\u001b[0;32m    891\u001b[0m compiler \u001b[39m=\u001b[39m \u001b[39m\"\u001b[39m\u001b[39mxla\u001b[39m\u001b[39m\"\u001b[39m \u001b[39mif\u001b[39;00m \u001b[39mself\u001b[39m\u001b[39m.\u001b[39m_jit_compile \u001b[39melse\u001b[39;00m \u001b[39m\"\u001b[39m\u001b[39mnonXla\u001b[39m\u001b[39m\"\u001b[39m\n\u001b[0;32m    893\u001b[0m \u001b[39mwith\u001b[39;00m OptionalXlaContext(\u001b[39mself\u001b[39m\u001b[39m.\u001b[39m_jit_compile):\n\u001b[1;32m--> 894\u001b[0m   result \u001b[39m=\u001b[39m \u001b[39mself\u001b[39;49m\u001b[39m.\u001b[39;49m_call(\u001b[39m*\u001b[39;49margs, \u001b[39m*\u001b[39;49m\u001b[39m*\u001b[39;49mkwds)\n\u001b[0;32m    896\u001b[0m new_tracing_count \u001b[39m=\u001b[39m \u001b[39mself\u001b[39m\u001b[39m.\u001b[39mexperimental_get_tracing_count()\n\u001b[0;32m    897\u001b[0m without_tracing \u001b[39m=\u001b[39m (tracing_count \u001b[39m==\u001b[39m new_tracing_count)\n",
      "File \u001b[1;32md:\\Codage\\Python 3\\Deep learning\\.venv\\Lib\\site-packages\\tensorflow\\python\\eager\\polymorphic_function\\polymorphic_function.py:926\u001b[0m, in \u001b[0;36mFunction._call\u001b[1;34m(self, *args, **kwds)\u001b[0m\n\u001b[0;32m    923\u001b[0m   \u001b[39mself\u001b[39m\u001b[39m.\u001b[39m_lock\u001b[39m.\u001b[39mrelease()\n\u001b[0;32m    924\u001b[0m   \u001b[39m# In this case we have created variables on the first call, so we run the\u001b[39;00m\n\u001b[0;32m    925\u001b[0m   \u001b[39m# defunned version which is guaranteed to never create variables.\u001b[39;00m\n\u001b[1;32m--> 926\u001b[0m   \u001b[39mreturn\u001b[39;00m \u001b[39mself\u001b[39;49m\u001b[39m.\u001b[39;49m_no_variable_creation_fn(\u001b[39m*\u001b[39;49margs, \u001b[39m*\u001b[39;49m\u001b[39m*\u001b[39;49mkwds)  \u001b[39m# pylint: disable=not-callable\u001b[39;00m\n\u001b[0;32m    927\u001b[0m \u001b[39melif\u001b[39;00m \u001b[39mself\u001b[39m\u001b[39m.\u001b[39m_variable_creation_fn \u001b[39mis\u001b[39;00m \u001b[39mnot\u001b[39;00m \u001b[39mNone\u001b[39;00m:\n\u001b[0;32m    928\u001b[0m   \u001b[39m# Release the lock early so that multiple threads can perform the call\u001b[39;00m\n\u001b[0;32m    929\u001b[0m   \u001b[39m# in parallel.\u001b[39;00m\n\u001b[0;32m    930\u001b[0m   \u001b[39mself\u001b[39m\u001b[39m.\u001b[39m_lock\u001b[39m.\u001b[39mrelease()\n",
      "File \u001b[1;32md:\\Codage\\Python 3\\Deep learning\\.venv\\Lib\\site-packages\\tensorflow\\python\\eager\\polymorphic_function\\tracing_compiler.py:143\u001b[0m, in \u001b[0;36mTracingCompiler.__call__\u001b[1;34m(self, *args, **kwargs)\u001b[0m\n\u001b[0;32m    140\u001b[0m \u001b[39mwith\u001b[39;00m \u001b[39mself\u001b[39m\u001b[39m.\u001b[39m_lock:\n\u001b[0;32m    141\u001b[0m   (concrete_function,\n\u001b[0;32m    142\u001b[0m    filtered_flat_args) \u001b[39m=\u001b[39m \u001b[39mself\u001b[39m\u001b[39m.\u001b[39m_maybe_define_function(args, kwargs)\n\u001b[1;32m--> 143\u001b[0m \u001b[39mreturn\u001b[39;00m concrete_function\u001b[39m.\u001b[39;49m_call_flat(\n\u001b[0;32m    144\u001b[0m     filtered_flat_args, captured_inputs\u001b[39m=\u001b[39;49mconcrete_function\u001b[39m.\u001b[39;49mcaptured_inputs)\n",
      "File \u001b[1;32md:\\Codage\\Python 3\\Deep learning\\.venv\\Lib\\site-packages\\tensorflow\\python\\eager\\polymorphic_function\\monomorphic_function.py:1757\u001b[0m, in \u001b[0;36mConcreteFunction._call_flat\u001b[1;34m(self, args, captured_inputs, cancellation_manager)\u001b[0m\n\u001b[0;32m   1753\u001b[0m possible_gradient_type \u001b[39m=\u001b[39m gradients_util\u001b[39m.\u001b[39mPossibleTapeGradientTypes(args)\n\u001b[0;32m   1754\u001b[0m \u001b[39mif\u001b[39;00m (possible_gradient_type \u001b[39m==\u001b[39m gradients_util\u001b[39m.\u001b[39mPOSSIBLE_GRADIENT_TYPES_NONE\n\u001b[0;32m   1755\u001b[0m     \u001b[39mand\u001b[39;00m executing_eagerly):\n\u001b[0;32m   1756\u001b[0m   \u001b[39m# No tape is watching; skip to running the function.\u001b[39;00m\n\u001b[1;32m-> 1757\u001b[0m   \u001b[39mreturn\u001b[39;00m \u001b[39mself\u001b[39m\u001b[39m.\u001b[39m_build_call_outputs(\u001b[39mself\u001b[39;49m\u001b[39m.\u001b[39;49m_inference_function\u001b[39m.\u001b[39;49mcall(\n\u001b[0;32m   1758\u001b[0m       ctx, args, cancellation_manager\u001b[39m=\u001b[39;49mcancellation_manager))\n\u001b[0;32m   1759\u001b[0m forward_backward \u001b[39m=\u001b[39m \u001b[39mself\u001b[39m\u001b[39m.\u001b[39m_select_forward_and_backward_functions(\n\u001b[0;32m   1760\u001b[0m     args,\n\u001b[0;32m   1761\u001b[0m     possible_gradient_type,\n\u001b[0;32m   1762\u001b[0m     executing_eagerly)\n\u001b[0;32m   1763\u001b[0m forward_function, args_with_tangents \u001b[39m=\u001b[39m forward_backward\u001b[39m.\u001b[39mforward()\n",
      "File \u001b[1;32md:\\Codage\\Python 3\\Deep learning\\.venv\\Lib\\site-packages\\tensorflow\\python\\eager\\polymorphic_function\\monomorphic_function.py:381\u001b[0m, in \u001b[0;36m_EagerDefinedFunction.call\u001b[1;34m(self, ctx, args, cancellation_manager)\u001b[0m\n\u001b[0;32m    379\u001b[0m \u001b[39mwith\u001b[39;00m _InterpolateFunctionError(\u001b[39mself\u001b[39m):\n\u001b[0;32m    380\u001b[0m   \u001b[39mif\u001b[39;00m cancellation_manager \u001b[39mis\u001b[39;00m \u001b[39mNone\u001b[39;00m:\n\u001b[1;32m--> 381\u001b[0m     outputs \u001b[39m=\u001b[39m execute\u001b[39m.\u001b[39;49mexecute(\n\u001b[0;32m    382\u001b[0m         \u001b[39mstr\u001b[39;49m(\u001b[39mself\u001b[39;49m\u001b[39m.\u001b[39;49msignature\u001b[39m.\u001b[39;49mname),\n\u001b[0;32m    383\u001b[0m         num_outputs\u001b[39m=\u001b[39;49m\u001b[39mself\u001b[39;49m\u001b[39m.\u001b[39;49m_num_outputs,\n\u001b[0;32m    384\u001b[0m         inputs\u001b[39m=\u001b[39;49margs,\n\u001b[0;32m    385\u001b[0m         attrs\u001b[39m=\u001b[39;49mattrs,\n\u001b[0;32m    386\u001b[0m         ctx\u001b[39m=\u001b[39;49mctx)\n\u001b[0;32m    387\u001b[0m   \u001b[39melse\u001b[39;00m:\n\u001b[0;32m    388\u001b[0m     outputs \u001b[39m=\u001b[39m execute\u001b[39m.\u001b[39mexecute_with_cancellation(\n\u001b[0;32m    389\u001b[0m         \u001b[39mstr\u001b[39m(\u001b[39mself\u001b[39m\u001b[39m.\u001b[39msignature\u001b[39m.\u001b[39mname),\n\u001b[0;32m    390\u001b[0m         num_outputs\u001b[39m=\u001b[39m\u001b[39mself\u001b[39m\u001b[39m.\u001b[39m_num_outputs,\n\u001b[1;32m   (...)\u001b[0m\n\u001b[0;32m    393\u001b[0m         ctx\u001b[39m=\u001b[39mctx,\n\u001b[0;32m    394\u001b[0m         cancellation_manager\u001b[39m=\u001b[39mcancellation_manager)\n",
      "File \u001b[1;32md:\\Codage\\Python 3\\Deep learning\\.venv\\Lib\\site-packages\\tensorflow\\python\\eager\\execute.py:52\u001b[0m, in \u001b[0;36mquick_execute\u001b[1;34m(op_name, num_outputs, inputs, attrs, ctx, name)\u001b[0m\n\u001b[0;32m     50\u001b[0m \u001b[39mtry\u001b[39;00m:\n\u001b[0;32m     51\u001b[0m   ctx\u001b[39m.\u001b[39mensure_initialized()\n\u001b[1;32m---> 52\u001b[0m   tensors \u001b[39m=\u001b[39m pywrap_tfe\u001b[39m.\u001b[39;49mTFE_Py_Execute(ctx\u001b[39m.\u001b[39;49m_handle, device_name, op_name,\n\u001b[0;32m     53\u001b[0m                                       inputs, attrs, num_outputs)\n\u001b[0;32m     54\u001b[0m \u001b[39mexcept\u001b[39;00m core\u001b[39m.\u001b[39m_NotOkStatusException \u001b[39mas\u001b[39;00m e:\n\u001b[0;32m     55\u001b[0m   \u001b[39mif\u001b[39;00m name \u001b[39mis\u001b[39;00m \u001b[39mnot\u001b[39;00m \u001b[39mNone\u001b[39;00m:\n",
      "\u001b[1;31mKeyboardInterrupt\u001b[0m: "
     ]
    }
   ],
   "source": [
    "# turn off tensorflow info and warning messages\n",
    "import os\n",
    "os.environ['TF_CPP_MIN_LOG_LEVEL'] = '2'\n",
    "\n",
    "from keras.metrics import Precision\n",
    "from keras.models import Sequential\n",
    "from keras.layers import Dense\n",
    "from keras.layers import LSTM\n",
    "from keras.callbacks import CSVLogger\n",
    "\n",
    "# Build the model\n",
    "embedding_dim = X_playlists_train.shape[2] # 300\n",
    "\n",
    "model = Sequential()\n",
    "model.add(LSTM(128, input_shape=(playlist_max_len, embedding_dim)))\n",
    "model.add(Dense(embedding_dim, activation='softmax')) # 300 values in [-1, 1] -> softmax not good choice\n",
    "model.compile(optimizer='rmsprop', loss='categorical_crossentropy',\n",
    "              metrics=['accuracy', Precision()]) # TODO adapt loss and last layer to generate a vec representing a track\n",
    "model.summary()\n",
    "\n",
    "# Train the model\n",
    "epochs = 20\n",
    "batch_size = 128\n",
    "csv_logger = CSVLogger('training.log', separator=',', append=False)\n",
    "\n",
    "history = model.fit(X_playlists_train, y_playlists_train,\n",
    "          batch_size=batch_size, epochs=epochs,\n",
    "          validation_data=(X_playlists_val, y_playlists_val),\n",
    "          verbose=1, callbacks=[csv_logger])\n",
    "\n",
    "# Evaluate the model\n",
    "score = model.evaluate(X_playlists_test[:2], y_playlists_test[:2], verbose=1)"
   ]
  },
  {
   "cell_type": "code",
   "execution_count": 11,
   "metadata": {},
   "outputs": [
    {
     "name": "stdout",
     "output_type": "stream",
     "text": [
      "[-0.6705567836761475, 0.5, 0.0]\n"
     ]
    }
   ],
   "source": [
    "print(score)"
   ]
  },
  {
   "cell_type": "markdown",
   "metadata": {},
   "source": [
    "### Evolution of loss and accuracy"
   ]
  },
  {
   "cell_type": "code",
   "execution_count": null,
   "metadata": {},
   "outputs": [],
   "source": [
    "print(history.history.keys()) # Pression ?"
   ]
  },
  {
   "cell_type": "code",
   "execution_count": null,
   "metadata": {},
   "outputs": [],
   "source": [
    "import matplotlib.pyplot as plt\n",
    "\n",
    "history_dict = history.history\n",
    "train_loss = history_dict['loss']\n",
    "val_loss = history_dict['val_loss']\n",
    "\n",
    "epochs = range(1, len(train_loss) + 1)\n",
    "plt.title('Training and validation loss')\n",
    "plt.plot(epochs, train_loss, label='Training loss')\n",
    "plt.plot(epochs, val_loss, label='Validation loss')\n",
    "plt.xlabel('Epoch')\n",
    "plt.ylabel('Loss')\n",
    "plt.legend()\n",
    "plt.grid()\n",
    "plt.show()"
   ]
  },
  {
   "cell_type": "code",
   "execution_count": null,
   "metadata": {},
   "outputs": [],
   "source": [
    "import matplotlib.pyplot as plt\n",
    "\n",
    "history_dict = history.history\n",
    "train_acc = history_dict['accuracy']\n",
    "val_acc = history_dict['val_accuracy']\n",
    "\n",
    "epochs = range(1, len(train_loss) + 1)\n",
    "plt.title('Training and validation accuracy')\n",
    "plt.plot(epochs, train_acc, label='Training accuracy')\n",
    "plt.plot(epochs, val_acc, label='Validation accuracy')\n",
    "plt.xlabel('Epoch')\n",
    "plt.ylabel('Accuracy')\n",
    "plt.legend()\n",
    "plt.grid()\n",
    "plt.show()"
   ]
  },
  {
   "cell_type": "markdown",
   "metadata": {},
   "source": [
    "### Save and load the model"
   ]
  },
  {
   "cell_type": "code",
   "execution_count": null,
   "metadata": {},
   "outputs": [],
   "source": [
    "model.save('../models/spotify_playlist.h5')"
   ]
  },
  {
   "cell_type": "code",
   "execution_count": null,
   "metadata": {},
   "outputs": [],
   "source": [
    "# turn off tensorflow info and warning messages\n",
    "import os\n",
    "os.environ['TF_CPP_MIN_LOG_LEVEL'] = '2'\n",
    "\n",
    "from keras.models import load_model\n",
    "# Recreate the exact same model, including its weights and the optimizer\n",
    "model = load_model('../models/spotify_playlist.h5')\n",
    "\n",
    "# Show the model architecture\n",
    "if model:\n",
    "    model.summary()"
   ]
  },
  {
   "cell_type": "markdown",
   "metadata": {},
   "source": [
    "### Free data"
   ]
  },
  {
   "cell_type": "code",
   "execution_count": 9,
   "metadata": {},
   "outputs": [
    {
     "ename": "NameError",
     "evalue": "name 'X_playlists_train' is not defined",
     "output_type": "error",
     "traceback": [
      "\u001b[1;31m---------------------------------------------------------------------------\u001b[0m",
      "\u001b[1;31mNameError\u001b[0m                                 Traceback (most recent call last)",
      "Cell \u001b[1;32mIn[9], line 2\u001b[0m\n\u001b[0;32m      1\u001b[0m \u001b[38;5;66;03m# free ram\u001b[39;00m\n\u001b[1;32m----> 2\u001b[0m \u001b[38;5;28;01mdel\u001b[39;00m \u001b[43mX_playlists_train\u001b[49m\n\u001b[0;32m      3\u001b[0m \u001b[38;5;28;01mdel\u001b[39;00m y_playlists_train\n\u001b[0;32m      4\u001b[0m \u001b[38;5;28;01mdel\u001b[39;00m X_playlists_val\n",
      "\u001b[1;31mNameError\u001b[0m: name 'X_playlists_train' is not defined"
     ]
    }
   ],
   "source": [
    "# free ram\n",
    "del X_playlists_train\n",
    "del y_playlists_train\n",
    "del X_playlists_val\n",
    "del y_playlists_val\n",
    "del X_playlists_test\n",
    "del y_playlists_test"
   ]
  },
  {
   "cell_type": "markdown",
   "metadata": {},
   "source": [
    "## <span style=\"color:green\">Evaluation of each method</span>\n",
    "\n",
    "With k-gramm, given k songs attempted to find the direct next one\n",
    "2nd variation: given k songs attempted to find a song that occur in the same playlist after this k songs\n",
    "3rd variation: given k songs, has thenext song a common album / artist ?"
   ]
  },
  {
   "cell_type": "code",
   "execution_count": 55,
   "metadata": {},
   "outputs": [],
   "source": [
    "from typing import Callable\n",
    "from tqdm import tqdm # progression bar\n",
    "\n",
    "def eval_baseline_method(X: list[list[str]],\n",
    "                         y: list[str],\n",
    "                         method: Callable[[list[str]], str|None]) -> dict[str, int]:\n",
    "    score = {\n",
    "        'true': 0,\n",
    "        'total': len(X)\n",
    "    }\n",
    "    \n",
    "    for index in tqdm(range(len(X))):\n",
    "        next_song = method(X[index])\n",
    "        \n",
    "        if next_song == y[index]:\n",
    "            score['true'] += 1\n",
    "\n",
    "    return score"
   ]
  },
  {
   "cell_type": "code",
   "execution_count": 38,
   "metadata": {},
   "outputs": [],
   "source": [
    "# exec on every opening\n",
    "# reload tracks and playlists for baseline methods\n",
    "import pandas as pd\n",
    "\n",
    "tracks = pd.read_json(tracks_filename)\n",
    "playlists = pd.read_json(playlists_filename)"
   ]
  },
  {
   "cell_type": "code",
   "execution_count": 53,
   "metadata": {
    "scrolled": true
   },
   "outputs": [],
   "source": [
    "# test data for evaluation of baseline methods -> 20% of the 20.000 playlists\n",
    "X_test_baseline, y_test_baseline = playlists_k_gram(playlists_test_baseline, playlist_max_len, step)"
   ]
  },
  {
   "cell_type": "code",
   "execution_count": 62,
   "metadata": {},
   "outputs": [
    {
     "name": "stderr",
     "output_type": "stream",
     "text": [
      "100%|██████████| 24770/24770 [02:17<00:00, 180.06it/s]"
     ]
    },
    {
     "name": "stdout",
     "output_type": "stream",
     "text": [
      "random: {'true': 0, 'total': 24770}, Precision: 0.0\n"
     ]
    },
    {
     "name": "stderr",
     "output_type": "stream",
     "text": [
      "\n"
     ]
    }
   ],
   "source": [
    "## maybe test for unseen sequence of songs too\n",
    "score = eval_baseline_method(X_test_baseline, y_test_baseline, get_random_next_song)\n",
    "print(f'random: {score}, Precision: {score[\"true\"]/score[\"total\"]}')"
   ]
  },
  {
   "cell_type": "code",
   "execution_count": 63,
   "metadata": {},
   "outputs": [
    {
     "name": "stderr",
     "output_type": "stream",
     "text": [
      "  0%|          | 52/24770 [00:09<1:15:28,  5.46it/s]\n"
     ]
    },
    {
     "ename": "KeyboardInterrupt",
     "evalue": "",
     "output_type": "error",
     "traceback": [
      "\u001b[1;31m---------------------------------------------------------------------------\u001b[0m",
      "\u001b[1;31mKeyboardInterrupt\u001b[0m                         Traceback (most recent call last)",
      "Cell \u001b[1;32mIn[63], line 1\u001b[0m\n\u001b[1;32m----> 1\u001b[0m score \u001b[39m=\u001b[39m eval_baseline_method(X_test_baseline, y_test_baseline, get_next_song)\n\u001b[0;32m      2\u001b[0m \u001b[39mprint\u001b[39m(\u001b[39mf\u001b[39m\u001b[39m'\u001b[39m\u001b[39mtable scan: \u001b[39m\u001b[39m{\u001b[39;00mscore\u001b[39m}\u001b[39;00m\u001b[39m, Precision: \u001b[39m\u001b[39m{\u001b[39;00mscore[\u001b[39m\"\u001b[39m\u001b[39mtrue\u001b[39m\u001b[39m\"\u001b[39m]\u001b[39m/\u001b[39mscore[\u001b[39m\"\u001b[39m\u001b[39mtotal\u001b[39m\u001b[39m\"\u001b[39m]\u001b[39m}\u001b[39;00m\u001b[39m'\u001b[39m)\n",
      "Cell \u001b[1;32mIn[55], line 13\u001b[0m, in \u001b[0;36meval_baseline_method\u001b[1;34m(X, y, method)\u001b[0m\n\u001b[0;32m      7\u001b[0m score \u001b[39m=\u001b[39m {\n\u001b[0;32m      8\u001b[0m     \u001b[39m'\u001b[39m\u001b[39mtrue\u001b[39m\u001b[39m'\u001b[39m: \u001b[39m0\u001b[39m,\n\u001b[0;32m      9\u001b[0m     \u001b[39m'\u001b[39m\u001b[39mtotal\u001b[39m\u001b[39m'\u001b[39m: \u001b[39mlen\u001b[39m(X)\n\u001b[0;32m     10\u001b[0m }\n\u001b[0;32m     12\u001b[0m \u001b[39mfor\u001b[39;00m index \u001b[39min\u001b[39;00m tqdm(\u001b[39mrange\u001b[39m(\u001b[39mlen\u001b[39m(X))):\n\u001b[1;32m---> 13\u001b[0m     next_song \u001b[39m=\u001b[39m method(X[index])\n\u001b[0;32m     15\u001b[0m     \u001b[39mif\u001b[39;00m next_song \u001b[39m==\u001b[39m y[index]:\n\u001b[0;32m     16\u001b[0m         score[\u001b[39m'\u001b[39m\u001b[39mtrue\u001b[39m\u001b[39m'\u001b[39m] \u001b[39m+\u001b[39m\u001b[39m=\u001b[39m \u001b[39m1\u001b[39m\n",
      "Cell \u001b[1;32mIn[44], line 9\u001b[0m, in \u001b[0;36mget_next_song\u001b[1;34m(song_uris)\u001b[0m\n\u001b[0;32m      6\u001b[0m song_occurrences: \u001b[39mdict\u001b[39m[\u001b[39mstr\u001b[39m, \u001b[39mint\u001b[39m] \u001b[39m=\u001b[39m {}\n\u001b[0;32m      8\u001b[0m \u001b[39mfor\u001b[39;00m tracks \u001b[39min\u001b[39;00m playlists[\u001b[39m'\u001b[39m\u001b[39mtracks\u001b[39m\u001b[39m'\u001b[39m]:\n\u001b[1;32m----> 9\u001b[0m     track_uris \u001b[39m=\u001b[39m [track[\u001b[39m'\u001b[39;49m\u001b[39mtrack_uri\u001b[39;49m\u001b[39m'\u001b[39;49m] \u001b[39mfor\u001b[39;49;00m track \u001b[39min\u001b[39;49;00m tracks]\n\u001b[0;32m     11\u001b[0m     \u001b[39mif\u001b[39;00m \u001b[39mnot\u001b[39;00m \u001b[39mall\u001b[39m(song \u001b[39min\u001b[39;00m track_uris \u001b[39mfor\u001b[39;00m song \u001b[39min\u001b[39;00m song_uris): \u001b[39m# check if every songs are contained\u001b[39;00m\n\u001b[0;32m     12\u001b[0m         \u001b[39mcontinue\u001b[39;00m\n",
      "Cell \u001b[1;32mIn[44], line 9\u001b[0m, in \u001b[0;36m<listcomp>\u001b[1;34m(.0)\u001b[0m\n\u001b[0;32m      6\u001b[0m song_occurrences: \u001b[39mdict\u001b[39m[\u001b[39mstr\u001b[39m, \u001b[39mint\u001b[39m] \u001b[39m=\u001b[39m {}\n\u001b[0;32m      8\u001b[0m \u001b[39mfor\u001b[39;00m tracks \u001b[39min\u001b[39;00m playlists[\u001b[39m'\u001b[39m\u001b[39mtracks\u001b[39m\u001b[39m'\u001b[39m]:\n\u001b[1;32m----> 9\u001b[0m     track_uris \u001b[39m=\u001b[39m [track[\u001b[39m'\u001b[39m\u001b[39mtrack_uri\u001b[39m\u001b[39m'\u001b[39m] \u001b[39mfor\u001b[39;00m track \u001b[39min\u001b[39;00m tracks]\n\u001b[0;32m     11\u001b[0m     \u001b[39mif\u001b[39;00m \u001b[39mnot\u001b[39;00m \u001b[39mall\u001b[39m(song \u001b[39min\u001b[39;00m track_uris \u001b[39mfor\u001b[39;00m song \u001b[39min\u001b[39;00m song_uris): \u001b[39m# check if every songs are contained\u001b[39;00m\n\u001b[0;32m     12\u001b[0m         \u001b[39mcontinue\u001b[39;00m\n",
      "\u001b[1;31mKeyboardInterrupt\u001b[0m: "
     ]
    }
   ],
   "source": [
    "score = eval_baseline_method(X_test_baseline, y_test_baseline, get_next_song)\n",
    "print(f'table scan: {score}, Precision: {score[\"true\"]/score[\"total\"]}')"
   ]
  },
  {
   "cell_type": "code",
   "execution_count": 64,
   "metadata": {},
   "outputs": [
    {
     "name": "stderr",
     "output_type": "stream",
     "text": [
      "100%|██████████| 24770/24770 [08:08<00:00, 50.73it/s]"
     ]
    },
    {
     "name": "stdout",
     "output_type": "stream",
     "text": [
      "track2vec and cosine similarity: {'true': 87, 'total': 24770}, Precision: 0.003512313282196205\n"
     ]
    },
    {
     "name": "stderr",
     "output_type": "stream",
     "text": [
      "\n"
     ]
    }
   ],
   "source": [
    "score = eval_baseline_method(X_test_baseline, y_test_baseline, get_next_similar_song)\n",
    "print(f'track2vec and cosine similarity: {score}, Precision: {score[\"true\"]/score[\"total\"]}')"
   ]
  },
  {
   "cell_type": "code",
   "execution_count": null,
   "metadata": {},
   "outputs": [],
   "source": [
    "del playlists_test_baseline"
   ]
  }
 ],
 "metadata": {
  "colab": {
   "provenance": []
  },
  "kernelspec": {
   "display_name": "Python 3 (ipykernel)",
   "language": "python",
   "name": "python3"
  },
  "language_info": {
   "codemirror_mode": {
    "name": "ipython",
    "version": 3
   },
   "file_extension": ".py",
   "mimetype": "text/x-python",
   "name": "python",
   "nbconvert_exporter": "python",
   "pygments_lexer": "ipython3",
   "version": "3.11.4"
  }
 },
 "nbformat": 4,
 "nbformat_minor": 1
}
